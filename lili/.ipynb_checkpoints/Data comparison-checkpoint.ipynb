{
 "cells": [
  {
   "cell_type": "code",
   "execution_count": 1,
   "id": "7e6f0417",
   "metadata": {},
   "outputs": [
    {
     "name": "stderr",
     "output_type": "stream",
     "text": [
      "R[write to console]: Warning:\n",
      "R[write to console]:  namespace ‘pROC’ is not available and has been replaced\n",
      "by .GlobalEnv when processing object ‘roc.objs’\n",
      "\n"
     ]
    }
   ],
   "source": [
    "from loaddata import *"
   ]
  },
  {
   "cell_type": "code",
   "execution_count": 2,
   "id": "2b23da1e",
   "metadata": {},
   "outputs": [],
   "source": [
    "df = pd.read_csv('/home/jlm217/rds/rds-mrc-bsu-csoP2nj6Y6Y/mimah/stopah/stopah/data/stopah.csv')\n",
    "\n",
    "\n",
    "# Write each out to have nice outputs in notebook \n",
    "\n",
    "stopah = R_dataset('stopah')\n",
    "\n",
    "data =  R_dataset('data')\n",
    "\n",
    "stopah7 = R_dataset('stopah.day7')"
   ]
  },
  {
   "cell_type": "code",
   "execution_count": 3,
   "id": "bf2e2b88",
   "metadata": {},
   "outputs": [
    {
     "data": {
      "text/plain": [
       "True"
      ]
     },
     "execution_count": 3,
     "metadata": {},
     "output_type": "execute_result"
    }
   ],
   "source": [
    "datasets = [R_dataset(x) for x in ['stopah','data','stopah.day7']]\n",
    "\n",
    "#all variables in the R data sets are the same \n",
    "(stopah.columns == stopah7.columns).all() and (stopah.columns == data.columns).all()\n"
   ]
  },
  {
   "cell_type": "code",
   "execution_count": 4,
   "id": "3edbcf03",
   "metadata": {},
   "outputs": [
    {
     "name": "stdout",
     "output_type": "stream",
     "text": [
      "stopah sample size: 1068; number of columns:222\n",
      "data sample size: 534; number of columns:222\n",
      "stopah.day7 sample size: 740; number of columns:222\n",
      "tsv sample size: 1068; number of columns:223\n"
     ]
    }
   ],
   "source": [
    "# Sample size\n",
    "\n",
    "datasets.append(df)\n",
    "\n",
    "for r,s in zip(datasets,['stopah','data','stopah.day7','tsv']):\n",
    "    print(s+' sample size: '+str(len(r)) + '; number of columns:' + str(len(r.columns)) )"
   ]
  },
  {
   "cell_type": "code",
   "execution_count": 5,
   "id": "32390aa0",
   "metadata": {},
   "outputs": [],
   "source": [
    "#We compare the TSV file to the Stopah file "
   ]
  },
  {
   "cell_type": "code",
   "execution_count": 6,
   "id": "a52e7d44",
   "metadata": {},
   "outputs": [
    {
     "name": "stdout",
     "output_type": "stream",
     "text": [
      "D28_DTH : 173\n",
      "D90_DTH : 284\n",
      "D90_DTH_TRANS : 284\n"
     ]
    }
   ],
   "source": [
    "#Death case \n",
    "\n",
    "stopah_death = ['D28_DTH','D90_DTH','D90_DTH_TRANS']\n",
    "\n",
    "for d in stopah_death:\n",
    "    print(d + ' : ' + str(sum(stopah[d])))\n",
    "    \n",
    "#Did all D90 get a transplant ? When was the transplant ?"
   ]
  },
  {
   "cell_type": "code",
   "execution_count": 7,
   "id": "c3aa529f",
   "metadata": {},
   "outputs": [
    {
     "data": {
      "text/plain": [
       "611"
      ]
     },
     "execution_count": 7,
     "metadata": {},
     "output_type": "execute_result"
    }
   ],
   "source": [
    "#Dead \n",
    "len(stopah) - stopah[['D28_DTH','D90_DTH']].sum().sum()"
   ]
  },
  {
   "cell_type": "code",
   "execution_count": 8,
   "id": "3e18db6a",
   "metadata": {},
   "outputs": [
    {
     "ename": "KeyError",
     "evalue": "'Date of death'",
     "output_type": "error",
     "traceback": [
      "\u001b[0;31m---------------------------------------------------------------------------\u001b[0m",
      "\u001b[0;31mKeyError\u001b[0m                                  Traceback (most recent call last)",
      "File \u001b[0;32m~/.local/lib/python3.11/site-packages/pandas/core/indexes/base.py:3791\u001b[0m, in \u001b[0;36mIndex.get_loc\u001b[0;34m(self, key)\u001b[0m\n\u001b[1;32m   3790\u001b[0m \u001b[38;5;28;01mtry\u001b[39;00m:\n\u001b[0;32m-> 3791\u001b[0m     \u001b[38;5;28;01mreturn\u001b[39;00m \u001b[38;5;28;43mself\u001b[39;49m\u001b[38;5;241;43m.\u001b[39;49m\u001b[43m_engine\u001b[49m\u001b[38;5;241;43m.\u001b[39;49m\u001b[43mget_loc\u001b[49m\u001b[43m(\u001b[49m\u001b[43mcasted_key\u001b[49m\u001b[43m)\u001b[49m\n\u001b[1;32m   3792\u001b[0m \u001b[38;5;28;01mexcept\u001b[39;00m \u001b[38;5;167;01mKeyError\u001b[39;00m \u001b[38;5;28;01mas\u001b[39;00m err:\n",
      "File \u001b[0;32mindex.pyx:152\u001b[0m, in \u001b[0;36mpandas._libs.index.IndexEngine.get_loc\u001b[0;34m()\u001b[0m\n",
      "File \u001b[0;32mindex.pyx:181\u001b[0m, in \u001b[0;36mpandas._libs.index.IndexEngine.get_loc\u001b[0;34m()\u001b[0m\n",
      "File \u001b[0;32mpandas/_libs/hashtable_class_helper.pxi:7080\u001b[0m, in \u001b[0;36mpandas._libs.hashtable.PyObjectHashTable.get_item\u001b[0;34m()\u001b[0m\n",
      "File \u001b[0;32mpandas/_libs/hashtable_class_helper.pxi:7088\u001b[0m, in \u001b[0;36mpandas._libs.hashtable.PyObjectHashTable.get_item\u001b[0;34m()\u001b[0m\n",
      "\u001b[0;31mKeyError\u001b[0m: 'Date of death'",
      "\nThe above exception was the direct cause of the following exception:\n",
      "\u001b[0;31mKeyError\u001b[0m                                  Traceback (most recent call last)",
      "Cell \u001b[0;32mIn[8], line 2\u001b[0m\n\u001b[1;32m      1\u001b[0m \u001b[38;5;66;03m#Survivors \u001b[39;00m\n\u001b[0;32m----> 2\u001b[0m \u001b[38;5;28mlen\u001b[39m (df) \u001b[38;5;241m-\u001b[39m \u001b[38;5;28msum\u001b[39m(\u001b[43mdf\u001b[49m\u001b[43m[\u001b[49m\u001b[38;5;124;43m'\u001b[39;49m\u001b[38;5;124;43mDate of death\u001b[39;49m\u001b[38;5;124;43m'\u001b[39;49m\u001b[43m]\u001b[49m\u001b[38;5;241m.\u001b[39misna())\n",
      "File \u001b[0;32m~/.local/lib/python3.11/site-packages/pandas/core/frame.py:3893\u001b[0m, in \u001b[0;36mDataFrame.__getitem__\u001b[0;34m(self, key)\u001b[0m\n\u001b[1;32m   3891\u001b[0m \u001b[38;5;28;01mif\u001b[39;00m \u001b[38;5;28mself\u001b[39m\u001b[38;5;241m.\u001b[39mcolumns\u001b[38;5;241m.\u001b[39mnlevels \u001b[38;5;241m>\u001b[39m \u001b[38;5;241m1\u001b[39m:\n\u001b[1;32m   3892\u001b[0m     \u001b[38;5;28;01mreturn\u001b[39;00m \u001b[38;5;28mself\u001b[39m\u001b[38;5;241m.\u001b[39m_getitem_multilevel(key)\n\u001b[0;32m-> 3893\u001b[0m indexer \u001b[38;5;241m=\u001b[39m \u001b[38;5;28;43mself\u001b[39;49m\u001b[38;5;241;43m.\u001b[39;49m\u001b[43mcolumns\u001b[49m\u001b[38;5;241;43m.\u001b[39;49m\u001b[43mget_loc\u001b[49m\u001b[43m(\u001b[49m\u001b[43mkey\u001b[49m\u001b[43m)\u001b[49m\n\u001b[1;32m   3894\u001b[0m \u001b[38;5;28;01mif\u001b[39;00m is_integer(indexer):\n\u001b[1;32m   3895\u001b[0m     indexer \u001b[38;5;241m=\u001b[39m [indexer]\n",
      "File \u001b[0;32m~/.local/lib/python3.11/site-packages/pandas/core/indexes/base.py:3798\u001b[0m, in \u001b[0;36mIndex.get_loc\u001b[0;34m(self, key)\u001b[0m\n\u001b[1;32m   3793\u001b[0m     \u001b[38;5;28;01mif\u001b[39;00m \u001b[38;5;28misinstance\u001b[39m(casted_key, \u001b[38;5;28mslice\u001b[39m) \u001b[38;5;129;01mor\u001b[39;00m (\n\u001b[1;32m   3794\u001b[0m         \u001b[38;5;28misinstance\u001b[39m(casted_key, abc\u001b[38;5;241m.\u001b[39mIterable)\n\u001b[1;32m   3795\u001b[0m         \u001b[38;5;129;01mand\u001b[39;00m \u001b[38;5;28many\u001b[39m(\u001b[38;5;28misinstance\u001b[39m(x, \u001b[38;5;28mslice\u001b[39m) \u001b[38;5;28;01mfor\u001b[39;00m x \u001b[38;5;129;01min\u001b[39;00m casted_key)\n\u001b[1;32m   3796\u001b[0m     ):\n\u001b[1;32m   3797\u001b[0m         \u001b[38;5;28;01mraise\u001b[39;00m InvalidIndexError(key)\n\u001b[0;32m-> 3798\u001b[0m     \u001b[38;5;28;01mraise\u001b[39;00m \u001b[38;5;167;01mKeyError\u001b[39;00m(key) \u001b[38;5;28;01mfrom\u001b[39;00m \u001b[38;5;21;01merr\u001b[39;00m\n\u001b[1;32m   3799\u001b[0m \u001b[38;5;28;01mexcept\u001b[39;00m \u001b[38;5;167;01mTypeError\u001b[39;00m:\n\u001b[1;32m   3800\u001b[0m     \u001b[38;5;66;03m# If we have a listlike key, _check_indexing_error will raise\u001b[39;00m\n\u001b[1;32m   3801\u001b[0m     \u001b[38;5;66;03m#  InvalidIndexError. Otherwise we fall through and re-raise\u001b[39;00m\n\u001b[1;32m   3802\u001b[0m     \u001b[38;5;66;03m#  the TypeError.\u001b[39;00m\n\u001b[1;32m   3803\u001b[0m     \u001b[38;5;28mself\u001b[39m\u001b[38;5;241m.\u001b[39m_check_indexing_error(key)\n",
      "\u001b[0;31mKeyError\u001b[0m: 'Date of death'"
     ]
    }
   ],
   "source": [
    "#Survivors \n",
    "len (df) - sum(df['Date of death'].isna())"
   ]
  },
  {
   "cell_type": "code",
   "execution_count": null,
   "id": "9ac18b75",
   "metadata": {},
   "outputs": [],
   "source": [
    "# Comparison of Stopah data"
   ]
  },
  {
   "cell_type": "code",
   "execution_count": 10,
   "id": "778763b9",
   "metadata": {},
   "outputs": [
    {
     "data": {
      "text/plain": [
       "1037"
      ]
     },
     "execution_count": 10,
     "metadata": {},
     "output_type": "execute_result"
    }
   ],
   "source": [
    "\n",
    "dropouts = []\n",
    "ix = []\n",
    "\n",
    "for x in df.columns:\n",
    "    if len(df[df[x] == -2147483648].index) >0:\n",
    "        dropouts.append(x)\n",
    "        ix.append(list(df[df[x] == -2147483648].index))\n",
    "        #print(len(list(df[df[x] == -2147483648].index)))\n",
    "\n",
    "len(dropouts)\n",
    "\n",
    "ix = [j for i in ix for j in i]\n",
    "ix = list(set(ix))\n",
    "len(ix) #too many \n",
    "\n",
    "len(df.loc[ix])"
   ]
  },
  {
   "cell_type": "code",
   "execution_count": null,
   "id": "5c3f839d",
   "metadata": {},
   "outputs": [],
   "source": []
  }
 ],
 "metadata": {
  "kernelspec": {
   "display_name": "Python 3 (ipykernel)",
   "language": "python",
   "name": "python3"
  },
  "language_info": {
   "codemirror_mode": {
    "name": "ipython",
    "version": 3
   },
   "file_extension": ".py",
   "mimetype": "text/x-python",
   "name": "python",
   "nbconvert_exporter": "python",
   "pygments_lexer": "ipython3",
   "version": "3.11.5"
  }
 },
 "nbformat": 4,
 "nbformat_minor": 5
}

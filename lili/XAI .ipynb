{
 "cells": [
  {
   "cell_type": "markdown",
   "id": "3714f21a",
   "metadata": {},
   "source": [
    "# Steroids or Pentoxifylline for severe Alcoholic Hepatitis (STOPAH) trial\n",
    "\n",
    "\n",
    "## Computation of Sobol indices and Shapley effects/values \n",
    "\n",
    "\n",
    "#### Implementation of Shapley values, Sobol indices and Shapley effects to prognostic scoring \n",
    "\n",
    "### MELD score\n",
    "\n",
    "Model for End-Stage Liver Disease (MELD) score\n",
    "\n",
    "\\begin{equation}\n",
    "\\begin{array}{r}\n",
    "\\text { MELD }=(0.957 \\times \\ln (\\text { creatinine }(\\mathrm{mg} / \\mathrm{dL})))+(0.378 \\times \\ln (\\text { bilirubin }(\\mathrm{mg} / \\mathrm{dL})))+ \\\\\n",
    "(1.120 \\times \\ln (\\mathrm{INR}))+(0.643 \\times \\text { aetiology })\n",
    "\\end{array}\n",
    "\\end{equation}\n",
    "\n",
    "A modification for large MELD Scores is \n",
    "\n",
    "\\begin{equation}\n",
    "\\text { MELD-Na }=\\left\\{\\begin{array}{ll}\n",
    "\\text { MELD }+1.32 \\times(137-\\text { sodium })-0.033 \\times \\text { MELD } \\times(137-\\text { sodium }), & \\text { if MELD }>11 \\\\\n",
    "\\text { MELD }, & \\text { otherwise }\n",
    "\\end{array}\\right.\n",
    "\\end{equation}\n",
    "\n",
    "### Lille Score \n",
    "\n",
    "\\begin{equation}\n",
    "\\begin{array}{r}\n",
    "\\mathrm{R}=3.19-(0.101 \\times \\text { age }(\\text { years }))+(0.147 \\times \\text { albumin }(\\mathrm{g} / \\mathrm{L}))+(0.0165 \\times \\Delta \\text { bilirubin })- \\\\\n",
    "(0.206 \\times \\text { renal insufficiency }(0 \\text { or } 1))-(0.0065 \\times \\text { day } 0 \\text { bilirubin }(\\mu \\mathrm{mol} / \\mathrm{L}))- \\\\\n",
    "(0.0096 \\times \\text { prothrombin time }(\\text { seconds }))\n",
    "\\end{array}\n",
    "\\end{equation}\n",
    "\n",
    "When is a patient considered for a liver transplant:\n",
    "\n",
    "1. Lille Score > 0.45\n",
    "\n",
    "2. MELT Score \n",
    "\n",
    "3. Chronic Liver Failure Consortium acute-on-chronic liver failure (CLIF-C ACLF) score of ≥ 70\n",
    "\n",
    "As these scores are linear combinations of the values, the Shapley values are simply each term. "
   ]
  },
  {
   "cell_type": "code",
   "execution_count": 1,
   "id": "ea480b3c",
   "metadata": {},
   "outputs": [],
   "source": [
    "#from loaddata import stopah\n",
    "import pandas as pd\n",
    "import numpy as np"
   ]
  },
  {
   "cell_type": "code",
   "execution_count": 2,
   "id": "0d6a98a6",
   "metadata": {},
   "outputs": [],
   "source": [
    "df = pd.read_csv('/home/jlm217/rds/rds-mrc-bsu-csoP2nj6Y6Y/mimah/stopah/stopah/data/stopah.csv')"
   ]
  },
  {
   "cell_type": "markdown",
   "id": "b9ca4a2f",
   "metadata": {},
   "source": [
    "### Meld score\n",
    "\n",
    "We comence with the MELD score \n",
    "\n",
    "\\begin{equation}\n",
    "\\begin{array}{r}\n",
    "\\text { MELD }=(0.957 \\times \\ln (\\text { creatinine }(\\mathrm{mg} / \\mathrm{dL})))+(0.378 \\times \\ln (\\text { bilirubin }(\\mathrm{mg} / \\mathrm{dL})))+ \\\\\n",
    "(1.120 \\times \\ln (\\mathrm{INR})),\n",
    "\\end{array}\n",
    "\\end{equation}\n",
    "\n",
    "where a remainder term is equal to 0, as the disease is alcoholic. "
   ]
  },
  {
   "cell_type": "code",
   "execution_count": 3,
   "id": "f448f8ac",
   "metadata": {},
   "outputs": [
    {
     "name": "stderr",
     "output_type": "stream",
     "text": [
      "/home/jlm217/.local/lib/python3.11/site-packages/pandas/core/arraylike.py:396: RuntimeWarning: invalid value encountered in log\n",
      "  result = getattr(ufunc, method)(*inputs, **kwargs)\n"
     ]
    }
   ],
   "source": [
    "#Compute MELT Score \n",
    "\n",
    "df['MELT'] = 0.957 *np.log(df['Creatinine...Merged']) + 0.378 * np.log(df['Bilirubin.Merged']) + 1.120 * np.log(df['INR...Merged.clinical.and.calc'])"
   ]
  },
  {
   "cell_type": "code",
   "execution_count": 4,
   "id": "cb621731",
   "metadata": {},
   "outputs": [
    {
     "data": {
      "text/plain": [
       "<Axes: >"
      ]
     },
     "execution_count": 4,
     "metadata": {},
     "output_type": "execute_result"
    },
    {
     "data": {
      "image/png": "[encoded data removed]",
      "text/plain": [
       "<Figure size 640x480 with 1 Axes>"
      ]
     },
     "metadata": {},
     "output_type": "display_data"
    }
   ],
   "source": [
    "df['MELT'].hist()"
   ]
  },
  {
   "cell_type": "markdown",
   "id": "09241b98",
   "metadata": {},
   "source": [
    "### Look for correlation in the data \n",
    "\n",
    "#### Mostly, low correlation close to zero, expect between 'Bilirubin' and 'Creatinine'\n",
    "\n",
    "Be careful when computing Sobol indices and Shapley effects "
   ]
  },
  {
   "cell_type": "code",
   "execution_count": 5,
   "id": "d6e83768",
   "metadata": {},
   "outputs": [
    {
     "data": {
      "text/html": [
       "<div>\n",
       "<style scoped>\n",
       "    .dataframe tbody tr th:only-of-type {\n",
       "        vertical-align: middle;\n",
       "    }\n",
       "\n",
       "    .dataframe tbody tr th {\n",
       "        vertical-align: top;\n",
       "    }\n",
       "\n",
       "    .dataframe thead th {\n",
       "        text-align: right;\n",
       "    }\n",
       "</style>\n",
       "<table border=\"1\" class=\"dataframe\">\n",
       "  <thead>\n",
       "    <tr style=\"text-align: right;\">\n",
       "      <th></th>\n",
       "      <th>Bilirubin.Merged</th>\n",
       "      <th>Creatinine...Merged</th>\n",
       "    </tr>\n",
       "  </thead>\n",
       "  <tbody>\n",
       "    <tr>\n",
       "      <th>Bilirubin.Merged</th>\n",
       "      <td>1.000000</td>\n",
       "      <td>0.149467</td>\n",
       "    </tr>\n",
       "    <tr>\n",
       "      <th>Creatinine...Merged</th>\n",
       "      <td>0.149467</td>\n",
       "      <td>1.000000</td>\n",
       "    </tr>\n",
       "  </tbody>\n",
       "</table>\n",
       "</div>"
      ],
      "text/plain": [
       "                     Bilirubin.Merged  Creatinine...Merged\n",
       "Bilirubin.Merged             1.000000             0.149467\n",
       "Creatinine...Merged          0.149467             1.000000"
      ]
     },
     "execution_count": 5,
     "metadata": {},
     "output_type": "execute_result"
    }
   ],
   "source": [
    "df[['Bilirubin.Merged','Creatinine...Merged']].corr()"
   ]
  },
  {
   "cell_type": "code",
   "execution_count": 6,
   "id": "3b8f1ae2",
   "metadata": {},
   "outputs": [
    {
     "data": {
      "text/html": [
       "<div>\n",
       "<style scoped>\n",
       "    .dataframe tbody tr th:only-of-type {\n",
       "        vertical-align: middle;\n",
       "    }\n",
       "\n",
       "    .dataframe tbody tr th {\n",
       "        vertical-align: top;\n",
       "    }\n",
       "\n",
       "    .dataframe thead th {\n",
       "        text-align: right;\n",
       "    }\n",
       "</style>\n",
       "<table border=\"1\" class=\"dataframe\">\n",
       "  <thead>\n",
       "    <tr style=\"text-align: right;\">\n",
       "      <th></th>\n",
       "      <th>Creatinine...Merged</th>\n",
       "      <th>INR...Merged.clinical.and.calc</th>\n",
       "    </tr>\n",
       "  </thead>\n",
       "  <tbody>\n",
       "    <tr>\n",
       "      <th>Creatinine...Merged</th>\n",
       "      <td>1.000000</td>\n",
       "      <td>-0.009274</td>\n",
       "    </tr>\n",
       "    <tr>\n",
       "      <th>INR...Merged.clinical.and.calc</th>\n",
       "      <td>-0.009274</td>\n",
       "      <td>1.000000</td>\n",
       "    </tr>\n",
       "  </tbody>\n",
       "</table>\n",
       "</div>"
      ],
      "text/plain": [
       "                                Creatinine...Merged  \\\n",
       "Creatinine...Merged                        1.000000   \n",
       "INR...Merged.clinical.and.calc            -0.009274   \n",
       "\n",
       "                                INR...Merged.clinical.and.calc  \n",
       "Creatinine...Merged                                  -0.009274  \n",
       "INR...Merged.clinical.and.calc                        1.000000  "
      ]
     },
     "execution_count": 6,
     "metadata": {},
     "output_type": "execute_result"
    }
   ],
   "source": [
    "df[['Creatinine...Merged','INR...Merged.clinical.and.calc']].corr() #close to uncorrelated "
   ]
  },
  {
   "cell_type": "code",
   "execution_count": 7,
   "id": "3e0fa7bf",
   "metadata": {},
   "outputs": [
    {
     "data": {
      "text/html": [
       "<div>\n",
       "<style scoped>\n",
       "    .dataframe tbody tr th:only-of-type {\n",
       "        vertical-align: middle;\n",
       "    }\n",
       "\n",
       "    .dataframe tbody tr th {\n",
       "        vertical-align: top;\n",
       "    }\n",
       "\n",
       "    .dataframe thead th {\n",
       "        text-align: right;\n",
       "    }\n",
       "</style>\n",
       "<table border=\"1\" class=\"dataframe\">\n",
       "  <thead>\n",
       "    <tr style=\"text-align: right;\">\n",
       "      <th></th>\n",
       "      <th>Bilirubin.Merged</th>\n",
       "      <th>INR...Merged.clinical.and.calc</th>\n",
       "    </tr>\n",
       "  </thead>\n",
       "  <tbody>\n",
       "    <tr>\n",
       "      <th>Bilirubin.Merged</th>\n",
       "      <td>1.000000</td>\n",
       "      <td>0.015493</td>\n",
       "    </tr>\n",
       "    <tr>\n",
       "      <th>INR...Merged.clinical.and.calc</th>\n",
       "      <td>0.015493</td>\n",
       "      <td>1.000000</td>\n",
       "    </tr>\n",
       "  </tbody>\n",
       "</table>\n",
       "</div>"
      ],
      "text/plain": [
       "                                Bilirubin.Merged  \\\n",
       "Bilirubin.Merged                        1.000000   \n",
       "INR...Merged.clinical.and.calc          0.015493   \n",
       "\n",
       "                                INR...Merged.clinical.and.calc  \n",
       "Bilirubin.Merged                                      0.015493  \n",
       "INR...Merged.clinical.and.calc                        1.000000  "
      ]
     },
     "execution_count": 7,
     "metadata": {},
     "output_type": "execute_result"
    }
   ],
   "source": [
    "df[['Bilirubin.Merged','INR...Merged.clinical.and.calc']].corr() #low correlation "
   ]
  },
  {
   "cell_type": "markdown",
   "id": "ed40af56",
   "metadata": {},
   "source": [
    "### Simple computation of Sobol indices\n",
    "\n",
    "\\begin{equation}\n",
    "\\underline{\\tau}_S^2=\\frac{\\operatorname{Var}\\left\\{\\mathrm{E}\\left(Y \\mid \\mathbf{X}_{S}\\right)\\right\\}}{\\operatorname{Var}(Y)}=\\frac{\\mathrm{E}\\left[\\left\\{\\mathrm{E}\\left(Y \\mid \\mathbf{X}_S\\right)\\right\\}^2\\right]-\\{\\mathrm{E}(Y)\\}^2}{\\operatorname{Var}(Y)}\n",
    "\\end{equation}"
   ]
  },
  {
   "cell_type": "code",
   "execution_count": 8,
   "id": "b06203ee",
   "metadata": {},
   "outputs": [],
   "source": [
    "#Simulation of independent copies: Pick-freeze \n",
    "\n",
    "var_y = np.var(df['MELT'])\n",
    "e_y = np.mean(df['MELT'])"
   ]
  },
  {
   "cell_type": "code",
   "execution_count": 9,
   "id": "17749ddf",
   "metadata": {},
   "outputs": [
    {
     "name": "stderr",
     "output_type": "stream",
     "text": [
      "/home/jlm217/.local/lib/python3.11/site-packages/pandas/core/arraylike.py:396: RuntimeWarning: invalid value encountered in log\n",
      "  result = getattr(ufunc, method)(*inputs, **kwargs)\n"
     ]
    }
   ],
   "source": [
    "a = (0.957 *np.log(df['Creatinine...Merged']))**2"
   ]
  },
  {
   "cell_type": "code",
   "execution_count": 10,
   "id": "d0485d0b",
   "metadata": {},
   "outputs": [],
   "source": [
    "b = (np.mean(0.378 * np.log(df['Bilirubin.Merged']) + 1.120 * np.log(df['INR...Merged.clinical.and.calc'])))**2"
   ]
  },
  {
   "cell_type": "code",
   "execution_count": 11,
   "id": "8e59ffb0",
   "metadata": {},
   "outputs": [],
   "source": [
    "singleton = np.mean(a)"
   ]
  },
  {
   "cell_type": "code",
   "execution_count": 12,
   "id": "06fcc322",
   "metadata": {},
   "outputs": [
    {
     "data": {
      "text/plain": [
       "6.854339962497348"
      ]
     },
     "execution_count": 12,
     "metadata": {},
     "output_type": "execute_result"
    }
   ],
   "source": [
    "e_y"
   ]
  },
  {
   "cell_type": "code",
   "execution_count": 13,
   "id": "f348ebd1",
   "metadata": {},
   "outputs": [
    {
     "data": {
      "text/plain": [
       "16.760273762528477"
      ]
     },
     "execution_count": 13,
     "metadata": {},
     "output_type": "execute_result"
    }
   ],
   "source": [
    "singleton"
   ]
  },
  {
   "cell_type": "code",
   "execution_count": 14,
   "id": "b58f3f7b",
   "metadata": {},
   "outputs": [
    {
     "data": {
      "text/plain": [
       "-30.22170255895967"
      ]
     },
     "execution_count": 14,
     "metadata": {},
     "output_type": "execute_result"
    }
   ],
   "source": [
    "Sobol_1 = (singleton - (e_y)**2 )\n",
    "Sobol_1 "
   ]
  },
  {
   "cell_type": "code",
   "execution_count": 17,
   "id": "bd0d50ec",
   "metadata": {},
   "outputs": [],
   "source": [
    "import scipy.stats as stats\n",
    "kde = stats.gaussian_kde(np.log(df['Bilirubin.Merged']).dropna())"
   ]
  },
  {
   "cell_type": "code",
   "execution_count": 18,
   "id": "7feed818",
   "metadata": {},
   "outputs": [
    {
     "data": {
      "text/plain": [
       "<scipy.stats._kde.gaussian_kde at 0x7f16b06f92d0>"
      ]
     },
     "execution_count": 18,
     "metadata": {},
     "output_type": "execute_result"
    }
   ],
   "source": [
    "kde"
   ]
  },
  {
   "cell_type": "code",
   "execution_count": 22,
   "id": "aa8a6b81",
   "metadata": {},
   "outputs": [],
   "source": [
    "xs = np.linspace(-3, 3, num=500)\n",
    "y = kde(xs)"
   ]
  }
 ],
 "metadata": {
  "kernelspec": {
   "display_name": "Python 3 (ipykernel)",
   "language": "python",
   "name": "python3"
  },
  "language_info": {
   "codemirror_mode": {
    "name": "ipython",
    "version": 3
   },
   "file_extension": ".py",
   "mimetype": "text/x-python",
   "name": "python",
   "nbconvert_exporter": "python",
   "pygments_lexer": "ipython3",
   "version": "3.11.5"
  }
 },
 "nbformat": 4,
 "nbformat_minor": 5
}

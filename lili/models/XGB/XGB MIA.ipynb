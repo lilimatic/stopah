{
 "cells": [
  {
   "cell_type": "code",
   "execution_count": 1,
   "id": "8a7ded90",
   "metadata": {},
   "outputs": [
    {
     "name": "stderr",
     "output_type": "stream",
     "text": [
      "R[write to console]: Warning:\n",
      "R[write to console]:  namespace ‘pROC’ is not available and has been replaced\n",
      "by .GlobalEnv when processing object ‘roc.objs’\n",
      "\n",
      "/home/jlm217/.local/lib/python3.11/site-packages/tqdm/auto.py:21: TqdmWarning: IProgress not found. Please update jupyter and ipywidgets. See https://ipywidgets.readthedocs.io/en/stable/user_install.html\n",
      "  from .autonotebook import tqdm as notebook_tqdm\n"
     ]
    }
   ],
   "source": [
    "import pandas as pd\n",
    "\n",
    "from sklearn.ensemble import GradientBoostingClassifier\n",
    "from sklearn.model_selection import train_test_split, cross_val_score, GridSearchCV, KFold, RandomizedSearchCV\n",
    "from sklearn.utils.class_weight import compute_sample_weight\n",
    "from sklearn.metrics import auc, roc_curve, roc_curve, roc_auc_score, classification_report, confusion_matrix, accuracy_score \n",
    "\n",
    "import matplotlib.pyplot as plt\n",
    "\n",
    "import os \n",
    "\n",
    "import numpy as np\n",
    "\n",
    "os.chdir('/home/jlm217/rds/rds-mrc-bsu-csoP2nj6Y6Y/mimah/stopah/lili')\n",
    "\n",
    "from treedata import *\n",
    "\n",
    "import missingno as msno\n",
    "\n",
    "\n",
    "import numpy as np\n",
    "import matplotlib.pyplot as plt\n",
    "import sage \n",
    "import shap\n",
    "\n",
    "import xgboost as xgb"
   ]
  },
  {
   "cell_type": "markdown",
   "id": "ac0e4306",
   "metadata": {},
   "source": [
    "### Missing-in-Attributes (MIA) approach \n",
    "\n",
    "The following is based on the CART split \n",
    "\n",
    "We will try the Missing-in-Attributes (MIA) approach \n",
    "\n",
    "Code missing as a separate category.\n"
   ]
  },
  {
   "cell_type": "code",
   "execution_count": 2,
   "id": "21e5e6ec",
   "metadata": {},
   "outputs": [
    {
     "name": "stderr",
     "output_type": "stream",
     "text": [
      "\n",
      "A value is trying to be set on a copy of a slice from a DataFrame\n",
      "\n",
      "See the caveats in the documentation: https://pandas.pydata.org/pandas-docs/stable/user_guide/indexing.html#returning-a-view-versus-a-copy\n",
      "\n",
      "A value is trying to be set on a copy of a slice from a DataFrame\n",
      "\n",
      "See the caveats in the documentation: https://pandas.pydata.org/pandas-docs/stable/user_guide/indexing.html#returning-a-view-versus-a-copy\n",
      "\n",
      "A value is trying to be set on a copy of a slice from a DataFrame\n",
      "\n",
      "See the caveats in the documentation: https://pandas.pydata.org/pandas-docs/stable/user_guide/indexing.html#returning-a-view-versus-a-copy\n",
      "\n",
      "A value is trying to be set on a copy of a slice from a DataFrame\n",
      "\n",
      "See the caveats in the documentation: https://pandas.pydata.org/pandas-docs/stable/user_guide/indexing.html#returning-a-view-versus-a-copy\n",
      "\n",
      "A value is trying to be set on a copy of a slice from a DataFrame\n",
      "\n",
      "See the caveats in the documentation: https://pandas.pydata.org/pandas-docs/stable/user_guide/indexing.html#returning-a-view-versus-a-copy\n",
      "\n",
      "A value is trying to be set on a copy of a slice from a DataFrame\n",
      "\n",
      "See the caveats in the documentation: https://pandas.pydata.org/pandas-docs/stable/user_guide/indexing.html#returning-a-view-versus-a-copy\n",
      "\n",
      "A value is trying to be set on a copy of a slice from a DataFrame\n",
      "\n",
      "See the caveats in the documentation: https://pandas.pydata.org/pandas-docs/stable/user_guide/indexing.html#returning-a-view-versus-a-copy\n",
      "\n",
      "A value is trying to be set on a copy of a slice from a DataFrame\n",
      "\n",
      "See the caveats in the documentation: https://pandas.pydata.org/pandas-docs/stable/user_guide/indexing.html#returning-a-view-versus-a-copy\n",
      "\n",
      "A value is trying to be set on a copy of a slice from a DataFrame\n",
      "\n",
      "See the caveats in the documentation: https://pandas.pydata.org/pandas-docs/stable/user_guide/indexing.html#returning-a-view-versus-a-copy\n",
      "\n",
      "A value is trying to be set on a copy of a slice from a DataFrame\n",
      "\n",
      "See the caveats in the documentation: https://pandas.pydata.org/pandas-docs/stable/user_guide/indexing.html#returning-a-view-versus-a-copy\n",
      "\n",
      "A value is trying to be set on a copy of a slice from a DataFrame\n",
      "\n",
      "See the caveats in the documentation: https://pandas.pydata.org/pandas-docs/stable/user_guide/indexing.html#returning-a-view-versus-a-copy\n",
      "\n",
      "A value is trying to be set on a copy of a slice from a DataFrame\n",
      "\n",
      "See the caveats in the documentation: https://pandas.pydata.org/pandas-docs/stable/user_guide/indexing.html#returning-a-view-versus-a-copy\n",
      "\n",
      "A value is trying to be set on a copy of a slice from a DataFrame\n",
      "\n",
      "See the caveats in the documentation: https://pandas.pydata.org/pandas-docs/stable/user_guide/indexing.html#returning-a-view-versus-a-copy\n"
     ]
    }
   ],
   "source": [
    "#Make all those values NA \n",
    "\n",
    "for x in stopah.columns:\n",
    "    if len(stopah[stopah[x] == -2147483648].index) >0:\n",
    "        #print(x)\n",
    "        #print(stopah[stopah[x] == -2147483648].index)\n",
    "        stopah[x][stopah[x] ==-2147483648] = np.nan\n",
    "        \n",
    "#stopah['Max.grams.of.alcohol.drunk.per.day..calc.'].loc[ [64, 164, 217, 220, 341, 351, 355, 507, 525, 538, 556, 599, 687, 693,\n",
    "  #     723, 839, 933, 964, 986, 987, 991]]"
   ]
  },
  {
   "cell_type": "code",
   "execution_count": 3,
   "id": "4ad058c4",
   "metadata": {},
   "outputs": [],
   "source": [
    "stopah = stopah.drop(['D90_DTH'],axis=1) #Look at 28 day only \n",
    "\n",
    "old_col = list(stopah.columns)"
   ]
  },
  {
   "cell_type": "code",
   "execution_count": 4,
   "id": "95cc0969",
   "metadata": {},
   "outputs": [
    {
     "name": "stdout",
     "output_type": "stream",
     "text": [
      "D28_DTH : 0\n",
      "Prednisolone : 0\n",
      "Gender : 0\n",
      "Baseline_sepsis : 0\n",
      "Baseline_GIB : 0\n",
      "PNPLA3_Rec : 224\n",
      "PNPLA3_Add : 224\n",
      "Hepatic.Encephalopathy...Merged : 48\n"
     ]
    }
   ],
   "source": [
    "mis_cat = []\n",
    "\n",
    "categorical = ['D28_DTH','Prednisolone','Gender','Baseline_sepsis',\n",
    "               'Baseline_GIB','PNPLA3_Rec','PNPLA3_Add','Hepatic.Encephalopathy...Merged']\n",
    "\n",
    "for cat in categorical:\n",
    "    print(cat +' : '+ str(stopah[cat].isna().sum()))\n",
    "    if stopah[cat].isna().sum() > 0:\n",
    "        mis_cat.append(cat)\n",
    "        \n",
    "#mis_cat"
   ]
  },
  {
   "cell_type": "code",
   "execution_count": 5,
   "id": "907d7c9a",
   "metadata": {},
   "outputs": [],
   "source": [
    "missing_cat1 = list(stopah[stopah['PNPLA3_Rec'].isna() == True].index)"
   ]
  },
  {
   "cell_type": "code",
   "execution_count": 6,
   "id": "0919e7d8",
   "metadata": {},
   "outputs": [],
   "source": [
    "stopah['PNPLA3_Rec_MIA'] = stopah['PNPLA3_Rec'].apply(lambda x: x==1 if x ==np.nan else 0)\n",
    "\n",
    "stopah['PNPLA3_Add_MIA'] = stopah['PNPLA3_Add'].apply(lambda x: x==1 if x ==np.nan else 0)"
   ]
  },
  {
   "cell_type": "code",
   "execution_count": 7,
   "id": "74ddcd80",
   "metadata": {},
   "outputs": [],
   "source": [
    "stopah.drop(['PNPLA3_Add'], axis=1, inplace=True)"
   ]
  },
  {
   "cell_type": "code",
   "execution_count": 8,
   "id": "08b8ae84",
   "metadata": {},
   "outputs": [],
   "source": [
    "stopah['PNPLA3_Rec'].fillna(0,inplace=True)"
   ]
  },
  {
   "cell_type": "code",
   "execution_count": 9,
   "id": "0ead7a9a",
   "metadata": {},
   "outputs": [],
   "source": [
    "#numerical variables \n",
    "\n",
    "missings = []\n",
    "\n",
    "for x in stopah.columns:\n",
    "    if (stopah[x].isna().sum())/len(stopah) > 0.0:\n",
    "        missings.append(x)    \n",
    "\n",
    "for mia in missings:\n",
    "    mia_col1= mia + '1'\n",
    "    mia_col2= mia + '2'\n",
    "    \n",
    "    stopah[mia_col1] =stopah[mia].fillna(-2147483648)\n",
    "    stopah[mia_col2] =stopah[mia].fillna(2147483648)\n",
    "    "
   ]
  },
  {
   "cell_type": "code",
   "execution_count": 10,
   "id": "9fafe6dd",
   "metadata": {},
   "outputs": [],
   "source": [
    "#not sure about 'PNPLA3_Add', 'PNPLA3_Rec', HPCT_NG, Hepatic.Encephalopathy...Merged\n",
    "\n",
    "#categoricals and targets \n",
    "\n",
    "excluded = ['D28_DTH','D90_DTH','Prednisolone', 'Hepatic.Encephalopathy...Merged',\n",
    "                                            'Baseline_sepsis','Baseline_GIB','Gender', 'HPCT_NG',\n",
    "                                            'PNPLA3_Add', 'PNPLA3_Rec']"
   ]
  },
  {
   "cell_type": "code",
   "execution_count": 11,
   "id": "ece97c4b",
   "metadata": {},
   "outputs": [],
   "source": [
    "stopah.drop(missings, axis=1, inplace=True) #same for 'bDNA'"
   ]
  },
  {
   "cell_type": "code",
   "execution_count": 12,
   "id": "e58027a5",
   "metadata": {},
   "outputs": [],
   "source": [
    "df = stopah"
   ]
  },
  {
   "cell_type": "code",
   "execution_count": 13,
   "id": "1adcb358",
   "metadata": {},
   "outputs": [],
   "source": [
    "df0 = df[df['Prednisolone']==0].drop(['Prednisolone'],axis=1)\n",
    "\n",
    "df = df[df['Prednisolone']==1].drop(['Prednisolone'],axis=1)\n",
    "\n",
    "X, y = df.drop('D28_DTH', axis=1), df[['D28_DTH']]\n",
    "\n",
    "X0, y0 = df0.drop('D28_DTH', axis=1), df0[['D28_DTH']]"
   ]
  },
  {
   "cell_type": "code",
   "execution_count": 14,
   "id": "c1dff15d",
   "metadata": {},
   "outputs": [],
   "source": [
    "\n",
    "X_train, X_test, y_train, y_test = train_test_split(X, y, random_state=1)\n",
    "\n",
    "X0_train, X0_test, y0_train, y0_test = train_test_split(X0, y0, random_state=1)"
   ]
  },
  {
   "cell_type": "code",
   "execution_count": 15,
   "id": "42e662c4",
   "metadata": {},
   "outputs": [
    {
     "name": "stderr",
     "output_type": "stream",
     "text": [
      "A column-vector y was passed when a 1d array was expected. Please change the shape of y to (n_samples, ), for example using ravel().\n",
      "A column-vector y was passed when a 1d array was expected. Please change the shape of y to (n_samples, ), for example using ravel().\n"
     ]
    }
   ],
   "source": [
    "#Train\n",
    "\n",
    "#Treated\n",
    "\n",
    "clf = GradientBoostingClassifier(n_estimators=1000, \n",
    "                                 learning_rate=0.1,\n",
    "                                 max_depth=6, \n",
    "                                 random_state=0).fit(X_train, y_train)\n",
    "\n",
    "#Untreated\n",
    "\n",
    "clf0= GradientBoostingClassifier(n_estimators=1000, \n",
    "                                 learning_rate=0.1,\n",
    "                                 max_depth=6, \n",
    "                                 random_state=0).fit(X0_train, y0_train)\n"
   ]
  },
  {
   "cell_type": "markdown",
   "id": "ddb58ebc",
   "metadata": {},
   "source": [
    "### Untreated vs treated training and test performance"
   ]
  },
  {
   "cell_type": "code",
   "execution_count": 16,
   "id": "36ab72d4",
   "metadata": {},
   "outputs": [
    {
     "name": "stdout",
     "output_type": "stream",
     "text": [
      "Untreated\n",
      "\n",
      "XGB Score:0.8134328358208955\n",
      "AUC Score: 75.71484528006268\n",
      "\n",
      "Treated\n",
      "\n",
      "XGB Score:0.8283582089552238\n",
      "AUC Score: 81.10091743119266\n"
     ]
    }
   ],
   "source": [
    "print('Untreated')\n",
    "print()\n",
    "print('XGB Score:'+str(clf0.score(X0_test, y0_test)))\n",
    "\n",
    "y0_predict = clf0.predict_proba(X0_test)\n",
    "\n",
    "auc_score0 = roc_auc_score(y0_test, y0_predict[:,1])\n",
    "print('AUC Score:',(auc_score0)*100)\n",
    "\n",
    "print()\n",
    "print('Treated')\n",
    "print()\n",
    "\n",
    "print('XGB Score:'+str(clf.score(X_test, y_test)))\n",
    "\n",
    "y_predict = clf.predict_proba(X_test)\n",
    "\n",
    "auc_score = roc_auc_score(y_test, y_predict[:,1])\n",
    "print('AUC Score:',(auc_score)*100)"
   ]
  },
  {
   "cell_type": "code",
   "execution_count": null,
   "id": "dad7cbf4",
   "metadata": {},
   "outputs": [],
   "source": []
  },
  {
   "cell_type": "code",
   "execution_count": null,
   "id": "82807a61",
   "metadata": {
    "scrolled": true
   },
   "outputs": [],
   "source": [
    "\n",
    "    "
   ]
  },
  {
   "cell_type": "code",
   "execution_count": null,
   "id": "32564e56",
   "metadata": {},
   "outputs": [],
   "source": []
  }
 ],
 "metadata": {
  "kernelspec": {
   "display_name": "Python 3 (ipykernel)",
   "language": "python",
   "name": "python3"
  },
  "language_info": {
   "codemirror_mode": {
    "name": "ipython",
    "version": 3
   },
   "file_extension": ".py",
   "mimetype": "text/x-python",
   "name": "python",
   "nbconvert_exporter": "python",
   "pygments_lexer": "ipython3",
   "version": "3.11.5"
  }
 },
 "nbformat": 4,
 "nbformat_minor": 5
}

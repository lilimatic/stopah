{
 "cells": [
  {
   "cell_type": "code",
   "execution_count": 1,
   "id": "e0a5ec4d",
   "metadata": {},
   "outputs": [],
   "source": [
    "import os\n",
    "import pandas as pd\n",
    "import rpy2.robjects as ro\n",
    "from rpy2.robjects.packages import importr\n",
    "from rpy2.robjects import pandas2ri\n",
    "\n",
    "import missingno as msno\n",
    "\n",
    "\n",
    "from sklearn.model_selection import train_test_split, cross_val_score  \n",
    "from sklearn.metrics import roc_curve, roc_auc_score, accuracy_score \n",
    "\n",
    "import numpy as np\n",
    "import matplotlib.pyplot as plt\n",
    "\n",
    "from pygam import * "
   ]
  },
  {
   "cell_type": "code",
   "execution_count": 13,
   "id": "d2d59983",
   "metadata": {},
   "outputs": [],
   "source": [
    "from sklearn.ensemble import RandomForestClassifier"
   ]
  },
  {
   "cell_type": "code",
   "execution_count": 2,
   "id": "0ad619dc",
   "metadata": {},
   "outputs": [
    {
     "name": "stderr",
     "output_type": "stream",
     "text": [
      "R[write to console]: Warning:\n",
      "R[write to console]:  namespace ‘pROC’ is not available and has been replaced\n",
      "by .GlobalEnv when processing object ‘roc.objs’\n",
      "\n"
     ]
    }
   ],
   "source": [
    "os.chdir('/home/jlm217/rds/rds-mrc-bsu-csoP2nj6Y6Y/mimah/stopah/stopah/data') \n",
    "\n",
    "pd.set_option('display.max_columns', None)  \n",
    "\n",
    "ro.r['load']('STOPAH_ForSolon.RData')\n",
    "\n",
    "def R_dataset(x):\n",
    "    with (ro.default_converter + pandas2ri.converter).context():\n",
    "        stopah = ro.conversion.get_conversion().rpy2py(ro.r[x])\n",
    "    return stopah\n",
    "\n",
    "stopah = R_dataset('stopah')"
   ]
  },
  {
   "cell_type": "code",
   "execution_count": 3,
   "id": "fe40800c",
   "metadata": {},
   "outputs": [],
   "source": [
    "selected = ['D28_DTH','D90_DTH','Prednisolone']\n",
    "\n",
    "baseline = ['Gender','Baseline_sepsis','Baseline_GIB',\n",
    "'Age.at.randomisation..calc.','Weight','Max.grams.of.alcohol.drunk.per.day..calc.','Hepatic.Encephalopathy...Merged',\n",
    "'Temperature...Merged','Pulse...Merged','Systolic.BP...Merged','Diastolic.BP...Merged','MAP','Hb...Merged','Platelets...Merged',\n",
    "'WBC...Merged','Neutrophils...Merged','INR...Merged.clinical.and.calc','Bilirubin.Merged','ALT...Merged','ALP...Merged',\n",
    "'Albumin...Merged','Sodium...Merged','Potassium...Merged','Urea...Merged','Creatinine...Merged','NLR_0','bDNA',\n",
    "'Ferritin_ngml','Iron_mumoll','Transferrin','TSAT','PNPLA3_Add','PNPLA3_Rec','HPCT_NG'] \n",
    "\n",
    "sevenday = ['Hepatic.Encephalopathy...Treatment.Day.7..',\n",
    "'Day.7.infection',\n",
    "'Gastrointestinal.Bleed.since.the.last.visit.Gastrointestinal.bleed...and.Choose..Treatment.Day.7..',\n",
    "'Temperature..Treatment.Day.7..',\n",
    "'Pulse..Treatment.Day.7..',\n",
    "'Systolic.BP..Treatment.Day.7..',\n",
    "'Diastolic.BP..Treatment.Day.7..',\n",
    "'MAP..Treatment.Day.7',\n",
    "'Hb..1.decimal.point..Haematology..Treatment.Day.7..',\n",
    "'Platelets.day.7',\n",
    "'WBC.day.7',\n",
    "'Neutrophils.day.7',\n",
    "'INR.clinical.and.calc.day.7',\n",
    "'Bilirubin.day.7',\n",
    "'ALT.day.7',\n",
    "'ALP.day.7',\n",
    "'Albumin.day.7',\n",
    "'Sodium.day.7',\n",
    "'Potassium.day.7',\n",
    "'Urea.day.7',\n",
    "'Creatinine.day.7']\n",
    "\n",
    "#reduce data set to target, treatment and therapy\n",
    "\n",
    "stopah = stopah[sevenday+['D28_DTH','Prednisolone']]\n",
    "\n",
    "stopah.reset_index(drop=True, inplace=True)"
   ]
  },
  {
   "cell_type": "code",
   "execution_count": null,
   "id": "01086f71",
   "metadata": {},
   "outputs": [],
   "source": []
  },
  {
   "cell_type": "code",
   "execution_count": null,
   "id": "457d86a3",
   "metadata": {},
   "outputs": [],
   "source": []
  },
  {
   "cell_type": "code",
   "execution_count": null,
   "id": "659d62ce",
   "metadata": {},
   "outputs": [],
   "source": []
  },
  {
   "cell_type": "code",
   "execution_count": null,
   "id": "26ebfc29",
   "metadata": {},
   "outputs": [],
   "source": []
  },
  {
   "cell_type": "code",
   "execution_count": null,
   "id": "40578047",
   "metadata": {},
   "outputs": [],
   "source": []
  },
  {
   "cell_type": "code",
   "execution_count": 14,
   "id": "d4f7b449",
   "metadata": {},
   "outputs": [],
   "source": [
    "rf = RandomForestClassifier(n_estimators=15,max_depth=8,random_state=24,criterion='gini',min_samples_split=10)"
   ]
  },
  {
   "cell_type": "code",
   "execution_count": 16,
   "id": "065f2086",
   "metadata": {},
   "outputs": [
    {
     "ename": "NameError",
     "evalue": "name 'X_train' is not defined",
     "output_type": "error",
     "traceback": [
      "\u001b[0;31m---------------------------------------------------------------------------\u001b[0m",
      "\u001b[0;31mNameError\u001b[0m                                 Traceback (most recent call last)",
      "Cell \u001b[0;32mIn[16], line 1\u001b[0m\n\u001b[0;32m----> 1\u001b[0m model \u001b[38;5;241m=\u001b[39m rf\u001b[38;5;241m.\u001b[39mfit(\u001b[43mX_train\u001b[49m, y_train)\n",
      "\u001b[0;31mNameError\u001b[0m: name 'X_train' is not defined"
     ]
    }
   ],
   "source": [
    "model = rf.fit(X_train, y_train)"
   ]
  },
  {
   "cell_type": "code",
   "execution_count": null,
   "id": "84edb555",
   "metadata": {},
   "outputs": [],
   "source": []
  }
 ],
 "metadata": {
  "kernelspec": {
   "display_name": "Python 3 (ipykernel)",
   "language": "python",
   "name": "python3"
  },
  "language_info": {
   "codemirror_mode": {
    "name": "ipython",
    "version": 3
   },
   "file_extension": ".py",
   "mimetype": "text/x-python",
   "name": "python",
   "nbconvert_exporter": "python",
   "pygments_lexer": "ipython3",
   "version": "3.11.5"
  }
 },
 "nbformat": 4,
 "nbformat_minor": 5
}

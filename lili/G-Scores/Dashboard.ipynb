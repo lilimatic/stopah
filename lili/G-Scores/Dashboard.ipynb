{
 "cells": [
  {
   "cell_type": "code",
   "execution_count": 1,
   "id": "a55bc9a0",
   "metadata": {},
   "outputs": [],
   "source": [
    "#data visualization\n",
    "import dash\n",
    "from dash import dcc, html\n",
    "from dash.dependencies import Input, Output\n",
    "import pickle"
   ]
  },
  {
   "cell_type": "code",
   "execution_count": 2,
   "id": "27056b35",
   "metadata": {},
   "outputs": [],
   "source": [
    "import pandas as pd\n",
    "import pickle\n",
    "from sklearn.datasets import make_regression\n",
    "from sklearn.ensemble import RandomForestRegressor"
   ]
  },
  {
   "cell_type": "code",
   "execution_count": 3,
   "id": "8bd39262",
   "metadata": {},
   "outputs": [
    {
     "data": {
      "text/plain": [
       "'/rds/project/rds-csoP2nj6Y6Y/mimah/stopah/lili/G-Scores'"
      ]
     },
     "execution_count": 3,
     "metadata": {},
     "output_type": "execute_result"
    }
   ],
   "source": [
    "import os\n",
    "\n",
    "os.getcwd()"
   ]
  },
  {
   "cell_type": "code",
   "execution_count": 4,
   "id": "eadcb997",
   "metadata": {},
   "outputs": [
    {
     "name": "stderr",
     "output_type": "stream",
     "text": [
      "/home/jlm217/.local/lib/python3.11/site-packages/tqdm/auto.py:21: TqdmWarning: IProgress not found. Please update jupyter and ipywidgets. See https://ipywidgets.readthedocs.io/en/stable/user_install.html\n",
      "  from .autonotebook import tqdm as notebook_tqdm\n",
      "100% (11 of 11) |########################| Elapsed Time: 0:00:00 Time:  0:00:00\n",
      "100% (11 of 11) |########################| Elapsed Time: 0:00:00 Time:  0:00:00\n"
     ]
    }
   ],
   "source": [
    "from glille import *"
   ]
  },
  {
   "cell_type": "markdown",
   "id": "b786e243",
   "metadata": {},
   "source": [
    "### Lille Score \n",
    "\n",
    "\\begin{equation}\n",
    "\\begin{array}{r}\n",
    "\\mathrm{R}=3.19-(0.101 \\times \\text { age }(\\text { years }))+(0.147 \\times \\text { albumin }(\\mathrm{g} / \\mathrm{L}))+(0.0165 \\times \\Delta \\text { bilirubin })- \\\\\n",
    "(0.206 \\times \\text { renal insufficiency }(0 \\text { or } 1))-(0.0065 \\times \\text { day } 0 \\text { bilirubin }(\\mu \\mathrm{mol} / \\mathrm{L}))- \\\\\n",
    "(0.0096 \\times \\text { prothrombin time }(\\text { seconds }))\n",
    "\\end{array}\n",
    "\\end{equation}"
   ]
  },
  {
   "cell_type": "code",
   "execution_count": 28,
   "id": "e4c487eb",
   "metadata": {},
   "outputs": [
    {
     "data": {
      "text/html": [
       "\n",
       "        <iframe\n",
       "            width=\"100%\"\n",
       "            height=\"650\"\n",
       "            src=\"http://127.0.0.1:3706/\"\n",
       "            frameborder=\"0\"\n",
       "            allowfullscreen\n",
       "            \n",
       "        ></iframe>\n",
       "        "
      ],
      "text/plain": [
       "<IPython.lib.display.IFrame at 0x7f0b3c324350>"
      ]
     },
     "metadata": {},
     "output_type": "display_data"
    }
   ],
   "source": [
    "\n",
    "# Initialize Dash app\n",
    "app = dash.Dash(__name__)\n",
    "\n",
    "# Define layout\n",
    "app.layout = html.Div([\n",
    "    html.H1(\"G-Lille Score\"),\n",
    "    \n",
    "    html.Label(\"Age:\"),\n",
    "    dcc.Input(id=\"input-age\", type=\"number\", value= X['Age.at.randomisation..calc.'].mean()),\n",
    "    \n",
    "    html.Label(\"Albumin:\"),\n",
    "    dcc.Input(id=\"input-albumin\", type=\"number\", value=X['Albumin...Merged'].mean()),\n",
    "    \n",
    "    html.Label(\"Bilirubin:\"),\n",
    "    dcc.Input(id=\"input-bilirubin\", type=\"number\", value=X['Bilirubin.Merged'].mean()),\n",
    "    \n",
    "    html.Label(\"Day 7 Bilirubin:\"),\n",
    "    dcc.Input(id=\"input-day7bilirubin\", type=\"number\", value=X['Bilirubin.day.7'].mean()),\n",
    "    \n",
    "    html.Label(\"Prothrombin Time:\"),\n",
    "    dcc.Input(id=\"input-prothrombintime\", type=\"number\", value=X['Prothrombin.Time..patient....Merged'].mean()),\n",
    "    \n",
    "    html.Label(\"Renal Insufficency:\"),\n",
    "    dcc.Input(id=\"input-renalinsufficency\", type=\"number\", value=X['Renal Insufficency'].mean()),\n",
    "    \n",
    "    \n",
    "    html.Br(),\n",
    "    \n",
    "    html.Button(id='submit-button', n_clicks=0, children='Submit'),\n",
    "    \n",
    "    html.Br(),\n",
    "    \n",
    "    html.Div(id=\"output\"),\n",
    "])\n",
    "\n",
    "# Define callback to update output based on user input\n",
    "@app.callback(\n",
    "    Output(\"output\", \"children\"),\n",
    "    [Input(\"submit-button\", \"n_clicks\")],\n",
    "    [\n",
    "        dash.dependencies.State(\"input-age\", \"value\"),\n",
    "        dash.dependencies.State(\"input-albumin\", \"value\"),\n",
    "        dash.dependencies.State(\"input-bilirubin\", \"value\"),\n",
    "        dash.dependencies.State(\"input-day7bilirubin\", \"value\"),\n",
    "        dash.dependencies.State(\"input-prothrombintime\", \"value\"),\n",
    "        dash.dependencies.State(\"input-renalinsufficency\", \"value\"),\n",
    "    ],\n",
    ")\n",
    "def update_output(n_clicks, age,albumin,bilirubin,day7bilirubin,prothrombintime,renalinsufficency):\n",
    "    # Create a DataFrame with user input\n",
    "    user_data = pd.DataFrame({\n",
    "        'Feature1': [age],\n",
    "        'Feature2': [albumin],\n",
    "        'Feature3': [bilirubin],\n",
    "        'Feature4': [day7bilirubin],\n",
    "        'Feature5': [prothrombintime],\n",
    "        'Feature6': [renalinsufficency],\n",
    "    })\n",
    "\n",
    "    # Use the pre-trained model to make predictions\n",
    "    prediction = gamcv.predict_proba(user_data)\n",
    "    \n",
    "\n",
    "    return f\"Predicted Output: {prediction[0]:.2f}\"\n",
    "\n",
    "if __name__ == \"__main__\":\n",
    "    app.run_server(debug=True,port=3706)\n",
    "    \n"
   ]
  },
  {
   "cell_type": "code",
   "execution_count": null,
   "id": "c9696f50",
   "metadata": {},
   "outputs": [],
   "source": []
  }
 ],
 "metadata": {
  "kernelspec": {
   "display_name": "Python 3 (ipykernel)",
   "language": "python",
   "name": "python3"
  },
  "language_info": {
   "codemirror_mode": {
    "name": "ipython",
    "version": 3
   },
   "file_extension": ".py",
   "mimetype": "text/x-python",
   "name": "python",
   "nbconvert_exporter": "python",
   "pygments_lexer": "ipython3",
   "version": "3.11.5"
  }
 },
 "nbformat": 4,
 "nbformat_minor": 5
}

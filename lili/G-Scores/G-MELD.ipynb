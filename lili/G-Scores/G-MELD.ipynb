{
 "cells": [
  {
   "cell_type": "markdown",
   "id": "9e26781b",
   "metadata": {},
   "source": [
    "# Steroids or Pentoxifylline for severe Alcoholic Hepatitis (STOPAH) trial\n",
    "\n",
    "\n",
    "## Generalized prognostic scores\n",
    "\n",
    "\n",
    "#### Model change to prognostic scoring \n",
    "\n",
    "### MELD score\n",
    "\n",
    "Model for End-Stage Liver Disease (MELD) score\n",
    "\n",
    "\\begin{equation}\n",
    "\\begin{array}{r}\n",
    "\\text { MELD }=(0.957 \\times \\ln (\\text { creatinine }(\\mathrm{mg} / \\mathrm{dL})))+(0.378 \\times \\ln (\\text { bilirubin }(\\mathrm{mg} / \\mathrm{dL})))+ \\\\\n",
    "(1.120 \\times \\ln (\\mathrm{INR}))+(0.643 \\times \\text { aetiology })\n",
    "\\end{array}\n",
    "\\end{equation}\n",
    "\n",
    "A modification for large MELD Scores is \n",
    "\n",
    "\\begin{equation}\n",
    "\\text { MELD-Na }=\\left\\{\\begin{array}{ll}\n",
    "\\text { MELD }+1.32 \\times(137-\\text { sodium })-0.033 \\times \\text { MELD } \\times(137-\\text { sodium }), & \\text { if MELD }>11 \\\\\n",
    "\\text { MELD }, & \\text { otherwise }\n",
    "\\end{array}\\right.\n",
    "\\end{equation}\n",
    "\n",
    "\n",
    "When is a patient considered for a liver transplant:\n",
    "\n",
    "1. Lille Score > 0.45\n",
    "\n",
    "2. MELT Score \n",
    "\n",
    "3. Chronic Liver Failure Consortium acute-on-chronic liver failure (CLIF-C ACLF) score of ≥ 70\n",
    "\n",
    "As these scores are linear combinations of the values, the Shapley values are simply each term. \n",
    "\n",
    "Our aim is to extend the named scores by generalized versions via GAMS."
   ]
  },
  {
   "cell_type": "code",
   "execution_count": 32,
   "id": "fa4ddacc",
   "metadata": {},
   "outputs": [],
   "source": [
    "import os\n",
    "import pandas as pd\n",
    "import numpy as np\n",
    "\n",
    "#Missing value analysis \n",
    "import missingno as msno\n",
    "\n",
    "#Models \n",
    "from sklearn.ensemble import GradientBoostingClassifier\n",
    "from pygam import * \n",
    "\n",
    "#Analytics \n",
    "from sklearn.model_selection import train_test_split, cross_val_score, GridSearchCV, KFold, RandomizedSearchCV\n",
    "\n",
    "from sklearn.metrics import auc, roc_curve, roc_auc_score, classification_report, confusion_matrix, accuracy_score \n",
    "\n",
    "\n",
    "import matplotlib.pyplot as plt\n",
    "import sage \n",
    "import shap\n",
    "\n",
    "import xgboost as xgb\n",
    "\n",
    "#!/usr/local/Cluster-Apps/python/3.11.0-icl/bin/python3.11 -m pip install ISLP\n",
    "\n",
    "from ISLP.pygam import (plot, approx_lam, degrees_of_freedom)"
   ]
  },
  {
   "cell_type": "code",
   "execution_count": 34,
   "id": "157f883e",
   "metadata": {},
   "outputs": [
    {
     "name": "stderr",
     "output_type": "stream",
     "text": [
      "invalid value encountered in log\n"
     ]
    }
   ],
   "source": [
    "df = pd.read_csv('/home/jlm217/rds/rds-mrc-bsu-csoP2nj6Y6Y/mimah/stopah/stopah/data/stopah.csv')\n",
    "\n",
    "# Original MELT Score\n",
    "\n",
    "#Compute MELT Score \n",
    "\n",
    "MELT = 0.957 *np.log(df['Creatinine...Merged']) + 0.378 * np.log(df['Bilirubin.Merged']) + 1.120 * np.log(df['INR...Merged.clinical.and.calc'])\n",
    "\n",
    "p_melt = 1/(1+np.exp(-MELT))\n",
    "\n",
    "selected = ['D28_DTH','Prednisolone']\n",
    "\n",
    "X_MELT = ['Creatinine...Merged','Bilirubin.Merged','INR...Merged.clinical.and.calc']\n",
    "\n",
    "df = df[X_MELT+selected]\n",
    "\n",
    "df = df.dropna()\n",
    "\n",
    "df0 = df[df['Prednisolone']==0].drop(['Prednisolone'],axis=1)\n",
    "\n",
    "df = df[df['Prednisolone']==1].drop(['Prednisolone'],axis=1)\n",
    "\n",
    "X, y = df.drop('D28_DTH', axis=1), df[['D28_DTH']]\n",
    "\n",
    "X0, y0 = df0.drop('D28_DTH', axis=1), df0[['D28_DTH']]\n",
    "\n",
    "X_train, X_test, y_train, y_test = train_test_split(X, y, random_state=1,test_size=0.2)\n",
    "\n",
    "X0_train, X0_test, y0_train, y0_test = train_test_split(X0, y0, random_state=1,test_size=0.2)"
   ]
  },
  {
   "cell_type": "code",
   "execution_count": 13,
   "id": "b1ebeb6c",
   "metadata": {},
   "outputs": [
    {
     "name": "stderr",
     "output_type": "stream",
     "text": [
      "A column-vector y was passed when a 1d array was expected. Please change the shape of y to (n_samples, ), for example using ravel().\n",
      "A column-vector y was passed when a 1d array was expected. Please change the shape of y to (n_samples, ), for example using ravel().\n"
     ]
    }
   ],
   "source": [
    "#Build-in hyperparameters\n",
    "\n",
    "gam  = LogisticGAM(s(0)+s(1)+s(2)).fit(X_train.values,y_train.values)\n",
    "gam0 = LogisticGAM().fit(X0_train.values,y0_train.values)\n",
    "\n",
    "clf = GradientBoostingClassifier(n_estimators=1000, \n",
    "                                 learning_rate=0.1,\n",
    "                                 max_depth=8,\n",
    "                                 #min_child_weight = 1,\n",
    "                                 random_state=0).fit(X_train, y_train)\n",
    "\n",
    "#Untreated\n",
    "\n",
    "clf0= GradientBoostingClassifier(n_estimators=1000, \n",
    "                                 learning_rate=0.1,\n",
    "                                 max_depth=8, \n",
    "                                #in_child_weight = 1,\n",
    "                                 random_state=0).fit(X0_train, y0_train)"
   ]
  },
  {
   "cell_type": "code",
   "execution_count": 18,
   "id": "8e70e95c",
   "metadata": {},
   "outputs": [
    {
     "name": "stdout",
     "output_type": "stream",
     "text": [
      "-----------\n",
      "GAM\n",
      "-----------\n",
      "\n",
      "Untreated\n",
      "\n",
      "GAM Score:0.8317757009345794\n",
      "GAM AUC Score: 65.55023923444976\n",
      "\n",
      "Treated\n",
      "\n",
      "GAM Score:0.8691588785046729\n",
      "GAM AUC Score: 78.62745098039215\n",
      "\n",
      "-----------\n",
      "XGB\n",
      "-----------\n",
      "Untreated\n",
      "\n",
      "XGB Score:0.8037383177570093\n",
      "AUC Score: 70.57416267942584\n",
      "\n",
      "Treated\n",
      "\n",
      "XGB Score:0.8037383177570093\n",
      "AUC Score: 72.87581699346404\n"
     ]
    }
   ],
   "source": [
    "print('-----------')\n",
    "print('GAM')\n",
    "print('-----------')\n",
    "print()\n",
    "print('Untreated')\n",
    "print()\n",
    "print('GAM Score:'+str(gam0.score(X0_test, y0_test)))\n",
    "\n",
    "y0_predict = gam0.predict_proba(X0_test)\n",
    "\n",
    "auc_score0 = roc_auc_score(y0_test, y0_predict)\n",
    "print('GAM AUC Score:',(auc_score0)*100)\n",
    "\n",
    "print()\n",
    "print('Treated')\n",
    "print()\n",
    "\n",
    "print('GAM Score:'+str(gam.score(X_test, y_test)))\n",
    "\n",
    "y_predict = gam.predict_proba(X_test)\n",
    "\n",
    "auc_score = roc_auc_score(y_test, y_predict)\n",
    "print('GAM AUC Score:',(auc_score)*100)\n",
    "\n",
    "print()\n",
    "print('-----------')\n",
    "print('XGB')\n",
    "print('-----------')\n",
    "\n",
    "print('Untreated')\n",
    "print()\n",
    "print('XGB Score:'+str(clf0.score(X0_test, y0_test)))\n",
    "\n",
    "y0_predict = clf0.predict_proba(X0_test)\n",
    "\n",
    "auc_score0 = roc_auc_score(y0_test, y0_predict[:,1])\n",
    "print('AUC Score:',(auc_score0)*100)\n",
    "\n",
    "print()\n",
    "print('Treated')\n",
    "print()\n",
    "\n",
    "print('XGB Score:'+str(clf.score(X_test, y_test)))\n",
    "\n",
    "y_predict = clf.predict_proba(X_test)\n",
    "\n",
    "auc_score = roc_auc_score(y_test, y_predict[:,1])\n",
    "print('AUC Score:',(auc_score)*100)"
   ]
  },
  {
   "cell_type": "code",
   "execution_count": 32,
   "id": "7a2d7b41",
   "metadata": {},
   "outputs": [],
   "source": [
    "#First approximate lambda \n",
    "\n",
    "terms = [s(x, lam=0.01) for x in range(3)]"
   ]
  },
  {
   "cell_type": "code",
   "execution_count": 41,
   "id": "16de91ae",
   "metadata": {
    "scrolled": false
   },
   "outputs": [],
   "source": [
    "#lam_vals = [approx_lam(X_train.to_numpy(),terms[i],df=5) for i in range(3)]\n"
   ]
  },
  {
   "cell_type": "code",
   "execution_count": 7,
   "id": "b67023ae",
   "metadata": {},
   "outputs": [
    {
     "name": "stdout",
     "output_type": "stream",
     "text": [
      "LogisticGAM                                                                                               \n",
      "=============================================== ==========================================================\n",
      "Distribution:                      BinomialDist Effective DoF:                                     14.4507\n",
      "Link Function:                        LogitLink Log Likelihood:                                  -148.3156\n",
      "Number of Samples:                          425 AIC:                                              325.5327\n",
      "                                                AICc:                                              326.777\n",
      "                                                UBRE:                                               2.7932\n",
      "                                                Scale:                                                 1.0\n",
      "                                                Pseudo R-Squared:                                   0.1146\n",
      "==========================================================================================================\n",
      "Feature Function                  Lambda               Rank         EDoF         P > x        Sig. Code   \n",
      "================================= ==================== ============ ============ ============ ============\n",
      "s(0)                              [0.6]                20           2.8          1.76e-02     *           \n",
      "s(1)                              [0.6]                20           6.9          3.27e-01                 \n",
      "s(2)                              [0.6]                20           4.8          3.55e-03     **          \n",
      "intercept                                              1            0.0          7.93e-01                 \n",
      "==========================================================================================================\n",
      "Significance codes:  0 '***' 0.001 '**' 0.01 '*' 0.05 '.' 0.1 ' ' 1\n",
      "\n",
      "WARNING: Fitting splines and a linear function to a feature introduces a model identifiability problem\n",
      "         which can cause p-values to appear significant when they are not.\n",
      "\n",
      "WARNING: p-values calculated in this manner behave correctly for un-penalized models or models with\n",
      "         known smoothing parameters, but when smoothing parameters have been estimated, the p-values\n",
      "         are typically lower than they should be, meaning that the tests reject the null too readily.\n",
      "LogisticGAM                                                                                               \n",
      "=============================================== ==========================================================\n",
      "Distribution:                      BinomialDist Effective DoF:                                     16.1038\n",
      "Link Function:                        LogitLink Log Likelihood:                                  -175.8021\n",
      "Number of Samples:                          426 AIC:                                              383.8118\n",
      "                                                AICc:                                               385.33\n",
      "                                                UBRE:                                               2.9312\n",
      "                                                Scale:                                                 1.0\n",
      "                                                Pseudo R-Squared:                                   0.1394\n",
      "==========================================================================================================\n",
      "Feature Function                  Lambda               Rank         EDoF         P > x        Sig. Code   \n",
      "================================= ==================== ============ ============ ============ ============\n",
      "s(0)                              [0.6]                20           2.7          2.95e-03     **          \n",
      "s(1)                              [0.6]                20           7.2          1.47e-02     *           \n",
      "s(2)                              [0.6]                20           6.2          3.52e-01                 \n",
      "intercept                                              1            0.0          6.18e-01                 \n",
      "==========================================================================================================\n",
      "Significance codes:  0 '***' 0.001 '**' 0.01 '*' 0.05 '.' 0.1 ' ' 1\n",
      "\n",
      "WARNING: Fitting splines and a linear function to a feature introduces a model identifiability problem\n",
      "         which can cause p-values to appear significant when they are not.\n",
      "\n",
      "WARNING: p-values calculated in this manner behave correctly for un-penalized models or models with\n",
      "         known smoothing parameters, but when smoothing parameters have been estimated, the p-values\n",
      "         are typically lower than they should be, meaning that the tests reject the null too readily.\n"
     ]
    },
    {
     "name": "stderr",
     "output_type": "stream",
     "text": [
      "KNOWN BUG: p-values computed in this summary are likely much smaller than they should be. \n",
      " \n",
      "Please do not make inferences based on these values! \n",
      "\n",
      "Collaborate on a solution, and stay up to date at: \n",
      "github.com/dswah/pyGAM/issues/163 \n",
      "\n",
      "KNOWN BUG: p-values computed in this summary are likely much smaller than they should be. \n",
      " \n",
      "Please do not make inferences based on these values! \n",
      "\n",
      "Collaborate on a solution, and stay up to date at: \n",
      "github.com/dswah/pyGAM/issues/163 \n",
      "\n"
     ]
    }
   ],
   "source": [
    "gam.summary()\n",
    "gam0.summary()"
   ]
  },
  {
   "cell_type": "markdown",
   "id": "4ef760f6",
   "metadata": {},
   "source": [
    "### Cross-validated"
   ]
  },
  {
   "cell_type": "code",
   "execution_count": 19,
   "id": "3c762c06",
   "metadata": {},
   "outputs": [
    {
     "name": "stderr",
     "output_type": "stream",
     "text": [
      "  0% (0 of 11) |                         | Elapsed Time: 0:00:00 ETA:  --:--:--divide by zero encountered in divide\n",
      "invalid value encountered in multiply\n",
      "divide by zero encountered in divide\n",
      "invalid value encountered in multiply\n",
      " 18% (2 of 11) |####                     | Elapsed Time: 0:00:00 ETA:  00:00:00divide by zero encountered in divide\n",
      "invalid value encountered in multiply\n",
      "100% (11 of 11) |########################| Elapsed Time: 0:00:00 Time:  0:00:00\n",
      "100% (11 of 11) |########################| Elapsed Time: 0:00:00 Time:  0:00:00\n"
     ]
    }
   ],
   "source": [
    "gam_cv = LogisticGAM(s(0) + s(1) + s(2)).gridsearch(X.to_numpy(), y.to_numpy())\n",
    "gam_cv0 = LogisticGAM(s(0) + s(1) + s(2)).gridsearch(X0.to_numpy(), y0.to_numpy())"
   ]
  },
  {
   "cell_type": "code",
   "execution_count": 20,
   "id": "c714a55e",
   "metadata": {},
   "outputs": [
    {
     "name": "stdout",
     "output_type": "stream",
     "text": [
      "Untreated\n",
      "\n",
      "GAM Score:0.822429906542056\n",
      "GAM AUC Score: 72.66746411483254\n",
      "\n",
      "Treated\n",
      "\n",
      "GAM Score:0.8504672897196262\n",
      "GAM AUC Score: 73.79084967320262\n"
     ]
    }
   ],
   "source": [
    "print('Untreated')\n",
    "print()\n",
    "print('GAM Score:'+str(gam_cv0.score(X0_test, y0_test)))\n",
    "\n",
    "y0_predict_cv = gam_cv0.predict_proba(X0_test)\n",
    "\n",
    "auc_score_cv0 = roc_auc_score(y0_test, y0_predict_cv)\n",
    "print('GAM AUC Score:',(auc_score_cv0)*100)\n",
    "\n",
    "print()\n",
    "print('Treated')\n",
    "print()\n",
    "\n",
    "print('GAM Score:'+str(gam_cv.score(X_test, y_test)))\n",
    "\n",
    "y_predict_cv = gam_cv.predict_proba(X_test)\n",
    "\n",
    "auc_score_cv = roc_auc_score(y_test, y_predict_cv)\n",
    "print('GAM AUC Score:',(auc_score_cv)*100)"
   ]
  },
  {
   "cell_type": "code",
   "execution_count": 21,
   "id": "a612552c",
   "metadata": {},
   "outputs": [
    {
     "name": "stdout",
     "output_type": "stream",
     "text": [
      "LogisticGAM                                                                                               \n",
      "=============================================== ==========================================================\n",
      "Distribution:                      BinomialDist Effective DoF:                                      3.1305\n",
      "Link Function:                        LogitLink Log Likelihood:                                  -201.4816\n",
      "Number of Samples:                          532 AIC:                                              409.2242\n",
      "                                                AICc:                                             409.3046\n",
      "                                                UBRE:                                               2.7739\n",
      "                                                Scale:                                                 1.0\n",
      "                                                Pseudo R-Squared:                                    0.061\n",
      "==========================================================================================================\n",
      "Feature Function                  Lambda               Rank         EDoF         P > x        Sig. Code   \n",
      "================================= ==================== ============ ============ ============ ============\n",
      "s(0)                              [1000.]              20           2.0          5.32e-01                 \n",
      "s(1)                              [1000.]              20           0.0          0.00e+00     ***         \n",
      "s(2)                              [1000.]              20           1.1          2.77e-02     *           \n",
      "intercept                                              1            0.0          2.06e-04     ***         \n",
      "==========================================================================================================\n",
      "Significance codes:  0 '***' 0.001 '**' 0.01 '*' 0.05 '.' 0.1 ' ' 1\n",
      "\n",
      "WARNING: Fitting splines and a linear function to a feature introduces a model identifiability problem\n",
      "         which can cause p-values to appear significant when they are not.\n",
      "\n",
      "WARNING: p-values calculated in this manner behave correctly for un-penalized models or models with\n",
      "         known smoothing parameters, but when smoothing parameters have been estimated, the p-values\n",
      "         are typically lower than they should be, meaning that the tests reject the null too readily.\n",
      "LogisticGAM                                                                                               \n",
      "=============================================== ==========================================================\n",
      "Distribution:                      BinomialDist Effective DoF:                                      4.6086\n",
      "Link Function:                        LogitLink Log Likelihood:                                  -229.3969\n",
      "Number of Samples:                          533 AIC:                                              468.0109\n",
      "                                                AICc:                                             468.1517\n",
      "                                                UBRE:                                                2.885\n",
      "                                                Scale:                                                 1.0\n",
      "                                                Pseudo R-Squared:                                   0.0981\n",
      "==========================================================================================================\n",
      "Feature Function                  Lambda               Rank         EDoF         P > x        Sig. Code   \n",
      "================================= ==================== ============ ============ ============ ============\n",
      "s(0)                              [1000.]              20           2.2          2.26e-06     ***         \n",
      "s(1)                              [1000.]              20           1.3          1.79e-03     **          \n",
      "s(2)                              [1000.]              20           1.1          6.88e-02     .           \n",
      "intercept                                              1            0.0          3.78e-02     *           \n",
      "==========================================================================================================\n",
      "Significance codes:  0 '***' 0.001 '**' 0.01 '*' 0.05 '.' 0.1 ' ' 1\n",
      "\n",
      "WARNING: Fitting splines and a linear function to a feature introduces a model identifiability problem\n",
      "         which can cause p-values to appear significant when they are not.\n",
      "\n",
      "WARNING: p-values calculated in this manner behave correctly for un-penalized models or models with\n",
      "         known smoothing parameters, but when smoothing parameters have been estimated, the p-values\n",
      "         are typically lower than they should be, meaning that the tests reject the null too readily.\n"
     ]
    },
    {
     "name": "stderr",
     "output_type": "stream",
     "text": [
      "KNOWN BUG: p-values computed in this summary are likely much smaller than they should be. \n",
      " \n",
      "Please do not make inferences based on these values! \n",
      "\n",
      "Collaborate on a solution, and stay up to date at: \n",
      "github.com/dswah/pyGAM/issues/163 \n",
      "\n",
      "KNOWN BUG: p-values computed in this summary are likely much smaller than they should be. \n",
      " \n",
      "Please do not make inferences based on these values! \n",
      "\n",
      "Collaborate on a solution, and stay up to date at: \n",
      "github.com/dswah/pyGAM/issues/163 \n",
      "\n"
     ]
    }
   ],
   "source": [
    "gam_cv.summary()\n",
    "gam_cv0.summary()"
   ]
  },
  {
   "cell_type": "code",
   "execution_count": null,
   "id": "d721e215",
   "metadata": {},
   "outputs": [],
   "source": []
  },
  {
   "cell_type": "code",
   "execution_count": null,
   "id": "46929b05",
   "metadata": {},
   "outputs": [],
   "source": []
  }
 ],
 "metadata": {
  "kernelspec": {
   "display_name": "Python 3 (ipykernel)",
   "language": "python",
   "name": "python3"
  },
  "language_info": {
   "codemirror_mode": {
    "name": "ipython",
    "version": 3
   },
   "file_extension": ".py",
   "mimetype": "text/x-python",
   "name": "python",
   "nbconvert_exporter": "python",
   "pygments_lexer": "ipython3",
   "version": "3.11.5"
  }
 },
 "nbformat": 4,
 "nbformat_minor": 5
}

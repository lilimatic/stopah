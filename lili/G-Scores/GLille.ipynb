{
 "cells": [
  {
   "cell_type": "markdown",
   "metadata": {},
   "source": [
    "# Steroids or Pentoxifylline for severe Alcoholic Hepatitis (STOPAH) trial\n",
    "\n",
    "\n",
    "## Computation of Sobol indices and Shapley effects/values \n",
    "\n",
    "\n",
    "#### Implementation of Shapley values, Sobol indices and Shapley effects to prognostic scoring \n",
    "\n",
    "\n",
    "### Lille Score \n",
    "\n",
    "\\begin{equation}\n",
    "\\begin{array}{r}\n",
    "\\mathrm{R}=3.19-(0.101 \\times \\text { age }(\\text { years }))+(0.147 \\times \\text { albumin }(\\mathrm{g} / \\mathrm{L}))+(0.0165 \\times \\Delta \\text { bilirubin })- \\\\\n",
    "(0.206 \\times \\text { renal insufficiency }(0 \\text { or } 1))-(0.0065 \\times \\text { day } 0 \\text { bilirubin }(\\mu \\mathrm{mol} / \\mathrm{L}))- \\\\\n",
    "(0.0096 \\times \\text { prothrombin time }(\\text { seconds }))\n",
    "\\end{array}\n",
    "\\end{equation}\n",
    "\n",
    "When is a patient considered for a liver transplant:\n",
    "\n",
    "1. Lille Score > 0.45\n",
    "\n",
    "2. MELT Score \n",
    "\n",
    "3. Chronic Liver Failure Consortium acute-on-chronic liver failure (CLIF-C ACLF) score of ≥ 70\n",
    "\n",
    "As these scores are linear combinations of the values, the Shapley values are simply each term. \n",
    "\n",
    "Our aim is to extend the named scores by generalized versions via GAMS."
   ]
  },
  {
   "cell_type": "code",
   "execution_count": 17,
   "metadata": {},
   "outputs": [],
   "source": [
    "import os\n",
    "import pandas as pd\n",
    "import numpy as np\n",
    "\n",
    "#Missing value analysis \n",
    "import missingno as msno\n",
    "\n",
    "#Models \n",
    "from sklearn.ensemble import GradientBoostingClassifier\n",
    "from pygam import * \n",
    "\n",
    "#Analytics \n",
    "from sklearn.model_selection import train_test_split, cross_val_score, GridSearchCV, KFold, RandomizedSearchCV\n",
    "\n",
    "from sklearn.metrics import auc, roc_curve, roc_auc_score, classification_report, confusion_matrix, accuracy_score \n",
    "\n",
    "\n",
    "import matplotlib.pyplot as plt\n",
    "import sage \n",
    "import shap\n",
    "\n",
    "import xgboost as xgb\n",
    "\n",
    "#!/usr/local/Cluster-Apps/python/3.11.0-icl/bin/python3.11 -m pip install ISLP\n",
    "\n",
    "from ISLP.pygam import (plot, approx_lam, degrees_of_freedom)\n",
    "\n"
   ]
  },
  {
   "cell_type": "code",
   "execution_count": 19,
   "metadata": {},
   "outputs": [],
   "source": [
    "df = pd.read_csv('/home/jlm217/rds/rds-mrc-bsu-csoP2nj6Y6Y/mimah/stopah/stopah/data/stopah.csv')\n",
    "\n",
    "Lille_var = ['Age.at.randomisation..calc.','Albumin...Merged','Creatinine..mg.dL....Merged',\n",
    "             'Bilirubin.Merged','Prothrombin.Time..patient....Merged','Bilirubin.day.7','D28_DTH','Prednisolone']\n",
    "\n",
    "df = df[Lille_var]"
   ]
  },
  {
   "cell_type": "code",
   "execution_count": 11,
   "metadata": {},
   "outputs": [],
   "source": [
    "#Phillip Code \n",
    "\n",
    "df['Renal Insufficency'] = (df['Creatinine..mg.dL....Merged'].loc[:] > 1.3).astype('float')\n",
    "\n",
    "df = df.drop(['Creatinine..mg.dL....Merged'],axis=1)"
   ]
  },
  {
   "cell_type": "code",
   "execution_count": 15,
   "metadata": {},
   "outputs": [],
   "source": [
    "df = df.dropna()\n",
    "\n",
    "df0 = df[df['Prednisolone']==0].drop(['Prednisolone'],axis=1)\n",
    "\n",
    "df = df[df['Prednisolone']==1].drop(['Prednisolone'],axis=1)\n",
    "\n",
    "X, y = df.drop('D28_DTH', axis=1), df[['D28_DTH']]\n",
    "\n",
    "X0, y0 = df0.drop('D28_DTH', axis=1), df0[['D28_DTH']]\n",
    "\n",
    "X_train, X_test, y_train, y_test = train_test_split(X, y, random_state=1,test_size=0.2)\n",
    "\n",
    "X0_train, X0_test, y0_train, y0_test = train_test_split(X0, y0, random_state=1,test_size=0.2)"
   ]
  },
  {
   "cell_type": "markdown",
   "metadata": {},
   "source": [
    "\\begin{equation}\n",
    "\\begin{array}{r}\n",
    "\\mathrm{R}=3.19-(0.101 \\times \\text { age }(\\text { years }))+(0.147 \\times \\text { albumin }(\\mathrm{g} / \\mathrm{L}))+(0.0165 \\times \\Delta \\text { bilirubin })- \\\\\n",
    "(0.206 \\times \\text { renal insufficiency }(0 \\text { or } 1))-(0.0065 \\times \\text { day } 0 \\text { bilirubin }(\\mu \\mathrm{mol} / \\mathrm{L}))- \\\\\n",
    "(0.0096 \\times \\text { prothrombin time }(\\text { seconds }))\n",
    "\\end{array}\n",
    "\\end{equation}"
   ]
  },
  {
   "cell_type": "markdown",
   "metadata": {},
   "source": [
    "Online the Lille Score is computed by\n",
    "\n",
    "\\begin{equation}\n",
    "\\pi = \\frac{1}{1+e^{Lille}}.\n",
    "\\end{equation}\n",
    "\n",
    "Is this correct that there is no - sign ? "
   ]
  },
  {
   "cell_type": "code",
   "execution_count": 16,
   "metadata": {},
   "outputs": [
    {
     "data": {
      "text/plain": [
       "Index(['Age.at.randomisation..calc.', 'Albumin...Merged', 'Bilirubin.Merged',\n",
       "       'Prothrombin.Time..patient....Merged', 'Bilirubin.day.7',\n",
       "       'Renal Insufficency'],\n",
       "      dtype='object')"
      ]
     },
     "execution_count": 16,
     "metadata": {},
     "output_type": "execute_result"
    }
   ],
   "source": [
    "X.columns"
   ]
  },
  {
   "cell_type": "code",
   "execution_count": 5,
   "metadata": {},
   "outputs": [],
   "source": [
    "Lille = 3.19 - 0.101 * df['Age.at.randomisation..calc.']  + 0.147 * df['Albumin...Merged'] + \\\n",
    "0.0165 * (df['Bilirubin.day.7'] -df['Bilirubin.Merged']) \\\n",
    "-0.206 * df['Renal Insufficency'] \\\n",
    "- 0.0065 * df['Bilirubin.Merged'] \\\n",
    "- 0.0096 * df['Prothrombin.Time..patient....Merged'] \n",
    "\n",
    "#Ask whether probability is computed like this\n",
    "prop = 1/(1+np.exp(Lille))"
   ]
  },
  {
   "cell_type": "code",
   "execution_count": 6,
   "metadata": {},
   "outputs": [
    {
     "data": {
      "text/plain": [
       "<Axes: >"
      ]
     },
     "execution_count": 6,
     "metadata": {},
     "output_type": "execute_result"
    },
    {
     "data": {
      "image/png": "[encoded data removed]",
      "text/plain": [
       "<Figure size 640x480 with 1 Axes>"
      ]
     },
     "metadata": {},
     "output_type": "display_data"
    }
   ],
   "source": [
    "prop.hist()"
   ]
  },
  {
   "cell_type": "code",
   "execution_count": 7,
   "metadata": {},
   "outputs": [
    {
     "data": {
      "text/plain": [
       "0.47582025256697746"
      ]
     },
     "execution_count": 7,
     "metadata": {},
     "output_type": "execute_result"
    }
   ],
   "source": [
    "fpr, tpr, thresholds = roc_curve(y, prop, pos_label=1)\n",
    "auc(fpr, tpr)"
   ]
  },
  {
   "cell_type": "code",
   "execution_count": 8,
   "metadata": {},
   "outputs": [
    {
     "name": "stderr",
     "output_type": "stream",
     "text": [
      "A column-vector y was passed when a 1d array was expected. Please change the shape of y to (n_samples, ), for example using ravel().\n",
      "A column-vector y was passed when a 1d array was expected. Please change the shape of y to (n_samples, ), for example using ravel().\n"
     ]
    },
    {
     "data": {
      "text/plain": [
       "0.5069786535303777"
      ]
     },
     "execution_count": 8,
     "metadata": {},
     "output_type": "execute_result"
    }
   ],
   "source": [
    "#Build-in hyperparameters\n",
    "\n",
    "gam  = LogisticGAM().fit(X_train.values,y_train.values)\n",
    "gam0 = LogisticGAM().fit(X0_train.values,y0_train.values)\n",
    "\n",
    "clf = GradientBoostingClassifier(n_estimators=1000, \n",
    "                                 learning_rate=0.1,\n",
    "                                 max_depth=8,\n",
    "                                 #min_child_weight = 1,\n",
    "                                 random_state=0).fit(X_train, y_train)\n",
    "\n",
    "#Untreated\n",
    "\n",
    "clf0= GradientBoostingClassifier(n_estimators=1000, \n",
    "                                 learning_rate=0.1,\n",
    "                                 max_depth=8, \n",
    "                                #in_child_weight = 1,\n",
    "                                 random_state=0).fit(X0_train, y0_train)\n",
    "\n",
    "\n",
    "Lille0 = 3.19 - 0.101 * df0['Age.at.randomisation..calc.']  + 0.147 * df0['Albumin...Merged'] + \\\n",
    "0.0165 * (df0['Bilirubin.day.7'] -df0['Bilirubin.Merged']) \\\n",
    "-0.206 * df0['Renal Insufficency'] \\\n",
    "- 0.0065 * df0['Bilirubin.Merged'] \\\n",
    "- 0.0096 * df0['Prothrombin.Time..patient....Merged'] \n",
    "\n",
    "#Ask whether probability is computed like this\n",
    "prop0 = 1/(1+np.exp(Lille0))\n",
    "\n",
    "fpr0, tpr0, thresholds = roc_curve(y0, prop0, pos_label=1)\n",
    "auc(fpr0, tpr0)"
   ]
  },
  {
   "cell_type": "code",
   "execution_count": 9,
   "metadata": {},
   "outputs": [
    {
     "name": "stdout",
     "output_type": "stream",
     "text": [
      "-----------\n",
      "GAM\n",
      "-----------\n",
      "\n",
      "Untreated\n",
      "\n",
      "GAM Score:0.8317757009345794\n",
      "GAM AUC Score: 76.4952153110048\n",
      "\n",
      "Treated\n",
      "\n",
      "GAM Score:0.8691588785046729\n",
      "GAM AUC Score: 83.92156862745097\n",
      "\n",
      "-----------\n",
      "XGB\n",
      "-----------\n",
      "Untreated\n",
      "\n",
      "XGB Score:0.8504672897196262\n",
      "AUC Score: 71.05263157894736\n",
      "\n",
      "Treated\n",
      "\n",
      "XGB Score:0.8504672897196262\n",
      "AUC Score: 86.40522875816994\n"
     ]
    }
   ],
   "source": [
    "print('-----------')\n",
    "print('GAM')\n",
    "print('-----------')\n",
    "print()\n",
    "print('Untreated')\n",
    "print()\n",
    "print('GAM Score:'+str(gam0.score(X0_test, y0_test)))\n",
    "\n",
    "y0_predict = gam0.predict_proba(X0_test)\n",
    "\n",
    "auc_score0 = roc_auc_score(y0_test, y0_predict)\n",
    "print('GAM AUC Score:',(auc_score0)*100)\n",
    "\n",
    "print()\n",
    "print('Treated')\n",
    "print()\n",
    "\n",
    "print('GAM Score:'+str(gam.score(X_test, y_test)))\n",
    "\n",
    "y_predict = gam.predict_proba(X_test)\n",
    "\n",
    "auc_score = roc_auc_score(y_test, y_predict)\n",
    "print('GAM AUC Score:',(auc_score)*100)\n",
    "\n",
    "print()\n",
    "print('-----------')\n",
    "print('XGB')\n",
    "print('-----------')\n",
    "\n",
    "print('Untreated')\n",
    "print()\n",
    "print('XGB Score:'+str(clf0.score(X0_test, y0_test)))\n",
    "\n",
    "y0_predict = clf0.predict_proba(X0_test)\n",
    "\n",
    "auc_score0 = roc_auc_score(y0_test, y0_predict[:,1])\n",
    "print('AUC Score:',(auc_score0)*100)\n",
    "\n",
    "print()\n",
    "print('Treated')\n",
    "print()\n",
    "\n",
    "print('XGB Score:'+str(clf.score(X_test, y_test)))\n",
    "\n",
    "y_predict = clf.predict_proba(X_test)\n",
    "\n",
    "auc_score = roc_auc_score(y_test, y_predict[:,1])\n",
    "print('AUC Score:',(auc_score)*100)"
   ]
  },
  {
   "cell_type": "code",
   "execution_count": 10,
   "metadata": {},
   "outputs": [
    {
     "name": "stdout",
     "output_type": "stream",
     "text": [
      "LogisticGAM                                                                                               \n",
      "=============================================== ==========================================================\n",
      "Distribution:                      BinomialDist Effective DoF:                                      22.864\n",
      "Link Function:                        LogitLink Log Likelihood:                                   -133.264\n",
      "Number of Samples:                          425 AIC:                                               312.256\n",
      "                                                AICc:                                             315.2218\n",
      "                                                UBRE:                                               2.7778\n",
      "                                                Scale:                                                 1.0\n",
      "                                                Pseudo R-Squared:                                   0.2044\n",
      "==========================================================================================================\n",
      "Feature Function                  Lambda               Rank         EDoF         P > x        Sig. Code   \n",
      "================================= ==================== ============ ============ ============ ============\n",
      "s(0)                              [0.6]                20           7.9          1.91e-01                 \n",
      "s(1)                              [0.6]                20           2.0          4.50e-01                 \n",
      "s(2)                              [0.6]                20           6.7          1.87e-01                 \n",
      "s(3)                              [0.6]                20           4.7          5.25e-03     **          \n",
      "s(4)                              [0.6]                20           0.9          4.00e-01                 \n",
      "s(5)                              [0.6]                20           0.7          7.91e-01                 \n",
      "intercept                                              1            0.0          3.36e-01                 \n",
      "==========================================================================================================\n",
      "Significance codes:  0 '***' 0.001 '**' 0.01 '*' 0.05 '.' 0.1 ' ' 1\n",
      "\n",
      "WARNING: Fitting splines and a linear function to a feature introduces a model identifiability problem\n",
      "         which can cause p-values to appear significant when they are not.\n",
      "\n",
      "WARNING: p-values calculated in this manner behave correctly for un-penalized models or models with\n",
      "         known smoothing parameters, but when smoothing parameters have been estimated, the p-values\n",
      "         are typically lower than they should be, meaning that the tests reject the null too readily.\n",
      "LogisticGAM                                                                                               \n",
      "=============================================== ==========================================================\n",
      "Distribution:                      BinomialDist Effective DoF:                                     24.5237\n",
      "Link Function:                        LogitLink Log Likelihood:                                  -165.2373\n",
      "Number of Samples:                          426 AIC:                                              379.5221\n",
      "                                                AICc:                                             382.9114\n",
      "                                                UBRE:                                                2.937\n",
      "                                                Scale:                                                 1.0\n",
      "                                                Pseudo R-Squared:                                   0.1912\n",
      "==========================================================================================================\n",
      "Feature Function                  Lambda               Rank         EDoF         P > x        Sig. Code   \n",
      "================================= ==================== ============ ============ ============ ============\n",
      "s(0)                              [0.6]                20           8.6          3.56e-01                 \n",
      "s(1)                              [0.6]                20           1.7          5.11e-12     ***         \n",
      "s(2)                              [0.6]                20           6.9          4.63e-02     *           \n",
      "s(3)                              [0.6]                20           5.7          2.92e-01                 \n",
      "s(4)                              [0.6]                20           0.9          5.19e-01                 \n",
      "s(5)                              [0.6]                20           0.7          1.90e-01                 \n",
      "intercept                                              1            0.0          9.90e-01                 \n",
      "==========================================================================================================\n",
      "Significance codes:  0 '***' 0.001 '**' 0.01 '*' 0.05 '.' 0.1 ' ' 1\n",
      "\n",
      "WARNING: Fitting splines and a linear function to a feature introduces a model identifiability problem\n",
      "         which can cause p-values to appear significant when they are not.\n",
      "\n",
      "WARNING: p-values calculated in this manner behave correctly for un-penalized models or models with\n",
      "         known smoothing parameters, but when smoothing parameters have been estimated, the p-values\n",
      "         are typically lower than they should be, meaning that the tests reject the null too readily.\n"
     ]
    },
    {
     "name": "stderr",
     "output_type": "stream",
     "text": [
      "KNOWN BUG: p-values computed in this summary are likely much smaller than they should be. \n",
      " \n",
      "Please do not make inferences based on these values! \n",
      "\n",
      "Collaborate on a solution, and stay up to date at: \n",
      "github.com/dswah/pyGAM/issues/163 \n",
      "\n",
      "KNOWN BUG: p-values computed in this summary are likely much smaller than they should be. \n",
      " \n",
      "Please do not make inferences based on these values! \n",
      "\n",
      "Collaborate on a solution, and stay up to date at: \n",
      "github.com/dswah/pyGAM/issues/163 \n",
      "\n"
     ]
    }
   ],
   "source": [
    "gam.summary()\n",
    "gam0.summary()"
   ]
  },
  {
   "cell_type": "code",
   "execution_count": 11,
   "metadata": {},
   "outputs": [
    {
     "name": "stderr",
     "output_type": "stream",
     "text": [
      "100% (11 of 11) |########################| Elapsed Time: 0:00:00 Time:  0:00:00\n",
      "100% (11 of 11) |########################| Elapsed Time: 0:00:00 Time:  0:00:00\n"
     ]
    }
   ],
   "source": [
    "gam_cv = LogisticGAM().gridsearch(X.to_numpy(), y.to_numpy())\n",
    "gam_cv0 = LogisticGAM().gridsearch(X0.to_numpy(), y0.to_numpy())"
   ]
  },
  {
   "cell_type": "code",
   "execution_count": 12,
   "metadata": {},
   "outputs": [
    {
     "name": "stdout",
     "output_type": "stream",
     "text": [
      "Untreated\n",
      "\n",
      "GAM Score:0.8691588785046729\n",
      "GAM AUC Score: 78.70813397129186\n",
      "\n",
      "Treated\n",
      "\n",
      "GAM Score:0.8411214953271028\n",
      "GAM AUC Score: 83.98692810457517\n"
     ]
    }
   ],
   "source": [
    "print('Untreated')\n",
    "print()\n",
    "print('GAM Score:'+str(gam_cv0.score(X0_test, y0_test)))\n",
    "\n",
    "y0_predict_cv = gam_cv0.predict_proba(X0_test)\n",
    "\n",
    "auc_score_cv0 = roc_auc_score(y0_test, y0_predict_cv)\n",
    "print('GAM AUC Score:',(auc_score_cv0)*100)\n",
    "\n",
    "print()\n",
    "print('Treated')\n",
    "print()\n",
    "\n",
    "print('GAM Score:'+str(gam_cv.score(X_test, y_test)))\n",
    "\n",
    "y_predict_cv = gam_cv.predict_proba(X_test)\n",
    "\n",
    "auc_score_cv = roc_auc_score(y_test, y_predict_cv)\n",
    "print('GAM AUC Score:',(auc_score_cv)*100)"
   ]
  },
  {
   "cell_type": "code",
   "execution_count": 13,
   "metadata": {},
   "outputs": [
    {
     "name": "stdout",
     "output_type": "stream",
     "text": [
      "LogisticGAM                                                                                               \n",
      "=============================================== ==========================================================\n",
      "Distribution:                      BinomialDist Effective DoF:                                      6.3852\n",
      "Link Function:                        LogitLink Log Likelihood:                                   -186.268\n",
      "Number of Samples:                          532 AIC:                                              385.3065\n",
      "                                                AICc:                                              385.543\n",
      "                                                UBRE:                                               2.7339\n",
      "                                                Scale:                                                 1.0\n",
      "                                                Pseudo R-Squared:                                   0.1319\n",
      "==========================================================================================================\n",
      "Feature Function                  Lambda               Rank         EDoF         P > x        Sig. Code   \n",
      "================================= ==================== ============ ============ ============ ============\n",
      "s(0)                              [1000.]              20           2.4          1.01e-02     *           \n",
      "s(1)                              [1000.]              20           1.1          5.20e-01                 \n",
      "s(2)                              [1000.]              20           0.3          0.00e+00     ***         \n",
      "s(3)                              [1000.]              20           1.1          4.52e-03     **          \n",
      "s(4)                              [1000.]              20           0.8          2.45e-04     ***         \n",
      "s(5)                              [1000.]              20           0.6          1.32e-02     *           \n",
      "intercept                                              1            0.0          1.48e-04     ***         \n",
      "==========================================================================================================\n",
      "Significance codes:  0 '***' 0.001 '**' 0.01 '*' 0.05 '.' 0.1 ' ' 1\n",
      "\n",
      "WARNING: Fitting splines and a linear function to a feature introduces a model identifiability problem\n",
      "         which can cause p-values to appear significant when they are not.\n",
      "\n",
      "WARNING: p-values calculated in this manner behave correctly for un-penalized models or models with\n",
      "         known smoothing parameters, but when smoothing parameters have been estimated, the p-values\n",
      "         are typically lower than they should be, meaning that the tests reject the null too readily.\n",
      "LogisticGAM                                                                                               \n",
      "=============================================== ==========================================================\n",
      "Distribution:                      BinomialDist Effective DoF:                                      7.7437\n",
      "Link Function:                        LogitLink Log Likelihood:                                   -216.137\n",
      "Number of Samples:                          533 AIC:                                              447.7615\n",
      "                                                AICc:                                             448.0871\n",
      "                                                UBRE:                                               2.8517\n",
      "                                                Scale:                                                 1.0\n",
      "                                                Pseudo R-Squared:                                   0.1502\n",
      "==========================================================================================================\n",
      "Feature Function                  Lambda               Rank         EDoF         P > x        Sig. Code   \n",
      "================================= ==================== ============ ============ ============ ============\n",
      "s(0)                              [1000.]              20           2.4          1.77e-01                 \n",
      "s(1)                              [1000.]              20           1.2          0.00e+00     ***         \n",
      "s(2)                              [1000.]              20           1.4          1.56e-02     *           \n",
      "s(3)                              [1000.]              20           1.2          8.45e-02     .           \n",
      "s(4)                              [1000.]              20           0.9          4.06e-01                 \n",
      "s(5)                              [1000.]              20           0.7          2.37e-02     *           \n",
      "intercept                                              1            0.0          9.91e-01                 \n",
      "==========================================================================================================\n",
      "Significance codes:  0 '***' 0.001 '**' 0.01 '*' 0.05 '.' 0.1 ' ' 1\n",
      "\n",
      "WARNING: Fitting splines and a linear function to a feature introduces a model identifiability problem\n",
      "         which can cause p-values to appear significant when they are not.\n",
      "\n",
      "WARNING: p-values calculated in this manner behave correctly for un-penalized models or models with\n",
      "         known smoothing parameters, but when smoothing parameters have been estimated, the p-values\n",
      "         are typically lower than they should be, meaning that the tests reject the null too readily.\n"
     ]
    },
    {
     "name": "stderr",
     "output_type": "stream",
     "text": [
      "KNOWN BUG: p-values computed in this summary are likely much smaller than they should be. \n",
      " \n",
      "Please do not make inferences based on these values! \n",
      "\n",
      "Collaborate on a solution, and stay up to date at: \n",
      "github.com/dswah/pyGAM/issues/163 \n",
      "\n",
      "KNOWN BUG: p-values computed in this summary are likely much smaller than they should be. \n",
      " \n",
      "Please do not make inferences based on these values! \n",
      "\n",
      "Collaborate on a solution, and stay up to date at: \n",
      "github.com/dswah/pyGAM/issues/163 \n",
      "\n"
     ]
    }
   ],
   "source": [
    "gam_cv.summary()\n",
    "gam_cv0.summary()"
   ]
  },
  {
   "cell_type": "code",
   "execution_count": null,
   "metadata": {},
   "outputs": [],
   "source": []
  }
 ],
 "metadata": {
  "kernelspec": {
   "display_name": "Python 3",
   "language": "python",
   "name": "python3"
  },
  "language_info": {
   "codemirror_mode": {
    "name": "ipython",
    "version": 3
   },
   "file_extension": ".py",
   "mimetype": "text/x-python",
   "name": "python",
   "nbconvert_exporter": "python",
   "pygments_lexer": "ipython3",
   "version": "3.8.5"
  }
 },
 "nbformat": 4,
 "nbformat_minor": 5
}

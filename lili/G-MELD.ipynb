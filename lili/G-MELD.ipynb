{
 "cells": [
  {
   "cell_type": "markdown",
   "id": "f73505b5",
   "metadata": {},
   "source": [
    "# Steroids or Pentoxifylline for severe Alcoholic Hepatitis (STOPAH) trial\n",
    "\n",
    "\n",
    "## Computation of Sobol indices and Shapley effects/values \n",
    "\n",
    "\n",
    "#### Implementation of Shapley values, Sobol indices and Shapley effects to prognostic scoring \n",
    "\n",
    "### MELD score\n",
    "\n",
    "Model for End-Stage Liver Disease (MELD) score\n",
    "\n",
    "\\begin{equation}\n",
    "\\begin{array}{r}\n",
    "\\text { MELD }=(0.957 \\times \\ln (\\text { creatinine }(\\mathrm{mg} / \\mathrm{dL})))+(0.378 \\times \\ln (\\text { bilirubin }(\\mathrm{mg} / \\mathrm{dL})))+ \\\\\n",
    "(1.120 \\times \\ln (\\mathrm{INR}))+(0.643 \\times \\text { aetiology })\n",
    "\\end{array}\n",
    "\\end{equation}\n",
    "\n",
    "A modification for large MELD Scores is \n",
    "\n",
    "\\begin{equation}\n",
    "\\text { MELD-Na }=\\left\\{\\begin{array}{ll}\n",
    "\\text { MELD }+1.32 \\times(137-\\text { sodium })-0.033 \\times \\text { MELD } \\times(137-\\text { sodium }), & \\text { if MELD }>11 \\\\\n",
    "\\text { MELD }, & \\text { otherwise }\n",
    "\\end{array}\\right.\n",
    "\\end{equation}\n",
    "\n",
    "### Lille Score \n",
    "\n",
    "\\begin{equation}\n",
    "\\begin{array}{r}\n",
    "\\mathrm{R}=3.19-(0.101 \\times \\text { age }(\\text { years }))+(0.147 \\times \\text { albumin }(\\mathrm{g} / \\mathrm{L}))+(0.0165 \\times \\Delta \\text { bilirubin })- \\\\\n",
    "(0.206 \\times \\text { renal insufficiency }(0 \\text { or } 1))-(0.0065 \\times \\text { day } 0 \\text { bilirubin }(\\mu \\mathrm{mol} / \\mathrm{L}))- \\\\\n",
    "(0.0096 \\times \\text { prothrombin time }(\\text { seconds }))\n",
    "\\end{array}\n",
    "\\end{equation}\n",
    "\n",
    "When is a patient considered for a liver transplant:\n",
    "\n",
    "1. Lille Score > 0.45\n",
    "\n",
    "2. MELT Score \n",
    "\n",
    "3. Chronic Liver Failure Consortium acute-on-chronic liver failure (CLIF-C ACLF) score of ≥ 70\n",
    "\n",
    "As these scores are linear combinations of the values, the Shapley values are simply each term. \n",
    "\n",
    "Our aim is to extend the named scores by generalized versions via GAMS."
   ]
  },
  {
   "cell_type": "code",
   "execution_count": 1,
   "id": "1ddd5c61",
   "metadata": {},
   "outputs": [
    {
     "name": "stderr",
     "output_type": "stream",
     "text": [
      "/home/jlm217/.local/lib/python3.11/site-packages/tqdm/auto.py:21: TqdmWarning: IProgress not found. Please update jupyter and ipywidgets. See https://ipywidgets.readthedocs.io/en/stable/user_install.html\n",
      "  from .autonotebook import tqdm as notebook_tqdm\n"
     ]
    }
   ],
   "source": [
    "import os\n",
    "import pandas as pd\n",
    "import missingno as msno\n",
    "\n",
    "from pygam import * \n",
    "\n",
    "from sklearn.model_selection import train_test_split, cross_val_score, GridSearchCV, KFold, RandomizedSearchCV\n",
    "\n",
    "from sklearn.metrics import auc, roc_curve, roc_auc_score, classification_report, confusion_matrix, accuracy_score \n",
    "\n",
    "from sklearn.utils.class_weight import compute_sample_weight\n",
    "\n",
    "\n",
    "\n",
    "import numpy as np\n",
    "import matplotlib.pyplot as plt\n",
    "import sage \n",
    "import shap\n",
    "\n",
    "import xgboost as xgb"
   ]
  },
  {
   "cell_type": "code",
   "execution_count": 2,
   "id": "00df0c61",
   "metadata": {},
   "outputs": [],
   "source": [
    "df = pd.read_csv('/home/jlm217/rds/rds-mrc-bsu-csoP2nj6Y6Y/mimah/stopah/stopah/data/stopah.csv')"
   ]
  },
  {
   "cell_type": "code",
   "execution_count": 3,
   "id": "fa9a0767",
   "metadata": {},
   "outputs": [
    {
     "name": "stderr",
     "output_type": "stream",
     "text": [
      "invalid value encountered in log\n"
     ]
    }
   ],
   "source": [
    "# Original MELT Score\n",
    "\n",
    "#Compute MELT Score \n",
    "\n",
    "df['MELT'] = 0.957 *np.log(df['Creatinine...Merged']) + 0.378 * np.log(df['Bilirubin.Merged']) + 1.120 * np.log(df['INR...Merged.clinical.and.calc'])"
   ]
  },
  {
   "cell_type": "code",
   "execution_count": 4,
   "id": "1e6406de",
   "metadata": {},
   "outputs": [],
   "source": [
    "selected = ['D28_DTH','Prednisolone']\n",
    "\n",
    "X_MELT = ['Creatinine...Merged','Bilirubin.Merged','INR...Merged.clinical.and.calc']"
   ]
  },
  {
   "cell_type": "code",
   "execution_count": 5,
   "id": "a240dd55",
   "metadata": {},
   "outputs": [],
   "source": [
    "df = df[X_MELT+selected]"
   ]
  },
  {
   "cell_type": "code",
   "execution_count": 6,
   "id": "b67cd527",
   "metadata": {},
   "outputs": [],
   "source": [
    "df = df.dropna()\n",
    "\n",
    "df0 = df[df['Prednisolone']==0].drop(['Prednisolone'],axis=1)\n",
    "\n",
    "df = df[df['Prednisolone']==1].drop(['Prednisolone'],axis=1)\n",
    "\n",
    "X, y = df.drop('D28_DTH', axis=1), df[['D28_DTH']]\n",
    "\n",
    "X0, y0 = df0.drop('D28_DTH', axis=1), df0[['D28_DTH']]\n"
   ]
  },
  {
   "cell_type": "code",
   "execution_count": 7,
   "id": "6a5a41ef",
   "metadata": {},
   "outputs": [],
   "source": [
    "X_train, X_test, y_train, y_test = train_test_split(X, y, random_state=1)\n",
    "\n",
    "X0_train, X0_test, y0_train, y0_test = train_test_split(X0, y0, random_state=1)"
   ]
  },
  {
   "cell_type": "code",
   "execution_count": 14,
   "id": "d3a205e8",
   "metadata": {},
   "outputs": [],
   "source": [
    "gam = LogisticGAM().fit(X_train.values,y_train.values)\n",
    "gam0 = LogisticGAM().fit(X0_train.values,y0_train.values)"
   ]
  },
  {
   "cell_type": "code",
   "execution_count": 16,
   "id": "bccc7473",
   "metadata": {},
   "outputs": [
    {
     "name": "stdout",
     "output_type": "stream",
     "text": [
      "Untreated\n",
      "\n",
      "XGB Score:0.8432835820895522\n",
      "AUC Score: 69.84577922077922\n",
      "\n",
      "Treated\n",
      "\n",
      "XGB Score:0.8872180451127819\n",
      "AUC Score: 77.43961352657006\n"
     ]
    }
   ],
   "source": [
    "print('Untreated')\n",
    "print()\n",
    "print('XGB Score:'+str(gam0.score(X0_test, y0_test)))\n",
    "\n",
    "y0_predict = gam0.predict_proba(X0_test)\n",
    "\n",
    "auc_score0 = roc_auc_score(y0_test, y0_predict)\n",
    "print('AUC Score:',(auc_score0)*100)\n",
    "\n",
    "print()\n",
    "print('Treated')\n",
    "print()\n",
    "\n",
    "print('XGB Score:'+str(gam.score(X_test, y_test)))\n",
    "\n",
    "y_predict = gam.predict_proba(X_test)\n",
    "\n",
    "auc_score = roc_auc_score(y_test, y_predict)\n",
    "print('AUC Score:',(auc_score)*100)"
   ]
  },
  {
   "cell_type": "code",
   "execution_count": 17,
   "id": "8d6b74cf",
   "metadata": {},
   "outputs": [
    {
     "name": "stdout",
     "output_type": "stream",
     "text": [
      "LogisticGAM                                                                                               \n",
      "=============================================== ==========================================================\n",
      "Distribution:                      BinomialDist Effective DoF:                                     14.4067\n",
      "Link Function:                        LogitLink Log Likelihood:                                  -142.7142\n",
      "Number of Samples:                          399 AIC:                                              314.2419\n",
      "                                                AICc:                                             315.5632\n",
      "                                                UBRE:                                               2.8165\n",
      "                                                Scale:                                                 1.0\n",
      "                                                Pseudo R-Squared:                                   0.1181\n",
      "==========================================================================================================\n",
      "Feature Function                  Lambda               Rank         EDoF         P > x        Sig. Code   \n",
      "================================= ==================== ============ ============ ============ ============\n",
      "s(0)                              [0.6]                20           2.9          1.59e-02     *           \n",
      "s(1)                              [0.6]                20           6.9          3.85e-01                 \n",
      "s(2)                              [0.6]                20           4.6          6.14e-03     **          \n",
      "intercept                                              1            0.0          7.65e-01                 \n",
      "==========================================================================================================\n",
      "Significance codes:  0 '***' 0.001 '**' 0.01 '*' 0.05 '.' 0.1 ' ' 1\n",
      "\n",
      "WARNING: Fitting splines and a linear function to a feature introduces a model identifiability problem\n",
      "         which can cause p-values to appear significant when they are not.\n",
      "\n",
      "WARNING: p-values calculated in this manner behave correctly for un-penalized models or models with\n",
      "         known smoothing parameters, but when smoothing parameters have been estimated, the p-values\n",
      "         are typically lower than they should be, meaning that the tests reject the null too readily.\n",
      "LogisticGAM                                                                                               \n",
      "=============================================== ==========================================================\n",
      "Distribution:                      BinomialDist Effective DoF:                                     16.0173\n",
      "Link Function:                        LogitLink Log Likelihood:                                  -167.7812\n",
      "Number of Samples:                          399 AIC:                                              367.5969\n",
      "                                                AICc:                                             369.2065\n",
      "                                                UBRE:                                               2.9534\n",
      "                                                Scale:                                                 1.0\n",
      "                                                Pseudo R-Squared:                                   0.1364\n",
      "==========================================================================================================\n",
      "Feature Function                  Lambda               Rank         EDoF         P > x        Sig. Code   \n",
      "================================= ==================== ============ ============ ============ ============\n",
      "s(0)                              [0.6]                20           2.9          6.21e-03     **          \n",
      "s(1)                              [0.6]                20           7.0          3.97e-02     *           \n",
      "s(2)                              [0.6]                20           6.1          3.59e-01                 \n",
      "intercept                                              1            0.0          7.73e-01                 \n",
      "==========================================================================================================\n",
      "Significance codes:  0 '***' 0.001 '**' 0.01 '*' 0.05 '.' 0.1 ' ' 1\n",
      "\n",
      "WARNING: Fitting splines and a linear function to a feature introduces a model identifiability problem\n",
      "         which can cause p-values to appear significant when they are not.\n",
      "\n",
      "WARNING: p-values calculated in this manner behave correctly for un-penalized models or models with\n",
      "         known smoothing parameters, but when smoothing parameters have been estimated, the p-values\n",
      "         are typically lower than they should be, meaning that the tests reject the null too readily.\n"
     ]
    },
    {
     "name": "stderr",
     "output_type": "stream",
     "text": [
      "KNOWN BUG: p-values computed in this summary are likely much smaller than they should be. \n",
      " \n",
      "Please do not make inferences based on these values! \n",
      "\n",
      "Collaborate on a solution, and stay up to date at: \n",
      "github.com/dswah/pyGAM/issues/163 \n",
      "\n",
      "KNOWN BUG: p-values computed in this summary are likely much smaller than they should be. \n",
      " \n",
      "Please do not make inferences based on these values! \n",
      "\n",
      "Collaborate on a solution, and stay up to date at: \n",
      "github.com/dswah/pyGAM/issues/163 \n",
      "\n"
     ]
    }
   ],
   "source": [
    "gam.summary()\n",
    "gam0.summary()"
   ]
  },
  {
   "cell_type": "code",
   "execution_count": null,
   "id": "ad6c4cf4",
   "metadata": {},
   "outputs": [],
   "source": []
  }
 ],
 "metadata": {
  "kernelspec": {
   "display_name": "Python 3 (ipykernel)",
   "language": "python",
   "name": "python3"
  },
  "language_info": {
   "codemirror_mode": {
    "name": "ipython",
    "version": 3
   },
   "file_extension": ".py",
   "mimetype": "text/x-python",
   "name": "python",
   "nbconvert_exporter": "python",
   "pygments_lexer": "ipython3",
   "version": "3.11.5"
  }
 },
 "nbformat": 4,
 "nbformat_minor": 5
}

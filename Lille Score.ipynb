{
 "cells": [
  {
   "cell_type": "code",
   "execution_count": 1,
   "metadata": {},
   "outputs": [
    {
     "name": "stderr",
     "output_type": "stream",
     "text": [
      "/Users/lilimatic/opt/anaconda3/lib/python3.8/site-packages/pandas/core/computation/expressions.py:20: UserWarning: Pandas requires version '2.7.3' or newer of 'numexpr' (version '2.7.1' currently installed).\n",
      "  from pandas.core.computation.check import NUMEXPR_INSTALLED\n"
     ]
    }
   ],
   "source": [
    "from dfsubset import *\n",
    "from models import *\n",
    "\n",
    "from sklearn.metrics import auc, roc_auc_score, roc_curve\n",
    "from sklearn import metrics"
   ]
  },
  {
   "cell_type": "code",
   "execution_count": 2,
   "metadata": {},
   "outputs": [],
   "source": [
    "#Add Lille score\n",
    "\n",
    "lille_yes = []\n",
    "lille_no = []"
   ]
  },
  {
   "cell_type": "code",
   "execution_count": 3,
   "metadata": {},
   "outputs": [
    {
     "name": "stdout",
     "output_type": "stream",
     "text": [
      "yes\n"
     ]
    },
    {
     "name": "stderr",
     "output_type": "stream",
     "text": [
      "/Users/lilimatic/stopah/dfsubset.py:49: SettingWithCopyWarning: \n",
      "A value is trying to be set on a copy of a slice from a DataFrame.\n",
      "Try using .loc[row_indexer,col_indexer] = value instead\n",
      "\n",
      "See the caveats in the documentation: https://pandas.pydata.org/pandas-docs/stable/user_guide/indexing.html#returning-a-view-versus-a-copy\n",
      "  df['Renal Insufficency'] = (df['Creatinine..mg.dL....Merged'].loc[:] > 1.3).astype('float')\n"
     ]
    },
    {
     "name": "stdout",
     "output_type": "stream",
     "text": [
      "no\n"
     ]
    },
    {
     "name": "stderr",
     "output_type": "stream",
     "text": [
      "/Users/lilimatic/stopah/dfsubset.py:49: SettingWithCopyWarning: \n",
      "A value is trying to be set on a copy of a slice from a DataFrame.\n",
      "Try using .loc[row_indexer,col_indexer] = value instead\n",
      "\n",
      "See the caveats in the documentation: https://pandas.pydata.org/pandas-docs/stable/user_guide/indexing.html#returning-a-view-versus-a-copy\n",
      "  df['Renal Insufficency'] = (df['Creatinine..mg.dL....Merged'].loc[:] > 1.3).astype('float')\n"
     ]
    }
   ],
   "source": [
    "for t in ['yes','no']: \n",
    "    print(t)\n",
    "    df = pd.read_csv('stopah.csv')\n",
    "    df, X, y, X_train, X_test, y_train, y_test = dataset(df,'Lille',t,'cc','train-test',0.3)\n",
    "    Lille = 3.19 - 0.101 * X_test['Age.at.randomisation..calc.']  + 0.147 * X_test['Albumin...Merged'] + \\\n",
    "0.0165 * (X_test['Bilirubin.Merged']-X_test['Bilirubin.day.7']) \\\n",
    "-0.206 * X_test['Renal Insufficency'] \\\n",
    "- 0.0065 * X_test['Bilirubin.Merged'] \\\n",
    "- 0.0096 * X_test['Prothrombin.Time..patient....Merged'] \n",
    "    prop = 1/(1+np.exp(Lille))\n",
    "    fpr, tpr, thresholds = roc_curve(y_test, prop, pos_label=1)\n",
    "    #\n",
    "    if t == 'yes':\n",
    "        lille_yes.append(metrics.auc(fpr, tpr))\n",
    "    elif t == 'no':\n",
    "        lille_no.append(metrics.auc(fpr, tpr))\n",
    "        \n",
    "        "
   ]
  },
  {
   "cell_type": "code",
   "execution_count": 4,
   "metadata": {},
   "outputs": [
    {
     "data": {
      "text/plain": [
       "[0.6231527093596059]"
      ]
     },
     "execution_count": 4,
     "metadata": {},
     "output_type": "execute_result"
    }
   ],
   "source": [
    "lille_yes"
   ]
  },
  {
   "cell_type": "code",
   "execution_count": 5,
   "metadata": {},
   "outputs": [
    {
     "data": {
      "text/plain": [
       "[0.663370786516854]"
      ]
     },
     "execution_count": 5,
     "metadata": {},
     "output_type": "execute_result"
    }
   ],
   "source": [
    "lille_no"
   ]
  },
  {
   "cell_type": "code",
   "execution_count": 6,
   "metadata": {},
   "outputs": [
    {
     "ename": "SyntaxError",
     "evalue": "invalid syntax (<ipython-input-6-c7889544eb30>, line 1)",
     "output_type": "error",
     "traceback": [
      "\u001b[0;36m  File \u001b[0;32m\"<ipython-input-6-c7889544eb30>\"\u001b[0;36m, line \u001b[0;32m1\u001b[0m\n\u001b[0;31m    stph.lille$LILLE <- 3.19 - 0.101*stph.lille$Age + 0.147*stph.lille$Albumin + 0.0165*stph.lille$delta.bili -\u001b[0m\n\u001b[0m              ^\u001b[0m\n\u001b[0;31mSyntaxError\u001b[0m\u001b[0;31m:\u001b[0m invalid syntax\n"
     ]
    }
   ],
   "source": [
    "stph.lille$LILLE <- 3.19 - 0.101*stph.lille$Age + 0.147*stph.lille$Albumin + 0.0165*stph.lille$delta.bili - \n",
    "  0.206*stph.lille$ren.insuf - 0.0065*stph.lille$Bilirubin.Merged - 0.0096*stph.lille$protime\n",
    "stph.lille$Lille.surv <- 1 - (exp(-stph.lille$LILLE)/(1 + exp(-stph.lille$LILLE)))"
   ]
  },
  {
   "cell_type": "code",
   "execution_count": 9,
   "metadata": {},
   "outputs": [
    {
     "name": "stderr",
     "output_type": "stream",
     "text": [
      "/Users/lilimatic/stopah/dfsubset.py:49: SettingWithCopyWarning: \n",
      "A value is trying to be set on a copy of a slice from a DataFrame.\n",
      "Try using .loc[row_indexer,col_indexer] = value instead\n",
      "\n",
      "See the caveats in the documentation: https://pandas.pydata.org/pandas-docs/stable/user_guide/indexing.html#returning-a-view-versus-a-copy\n",
      "  df['Renal Insufficency'] = (df['Creatinine..mg.dL....Merged'].loc[:] > 1.3).astype('float')\n"
     ]
    }
   ],
   "source": [
    "lille_auc_mixed = []\n",
    "\n",
    "df = pd.read_csv('stopah.csv')\n",
    "df, X, y, X_train, X_test, y_train, y_test = dataset(df,'Lille','none','cc','mixed',0.3)\n",
    "\n",
    "Lille = 3.19 - 0.101 * X_test['Age.at.randomisation..calc.']  + 0.147 * X_test['Albumin...Merged'] + \\\n",
    "0.0165 * (X_test['Bilirubin.Merged']-X_test['Bilirubin.day.7']) \\\n",
    "-0.206 * X_test['Renal Insufficency'] \\\n",
    "- 0.0065 * X_test['Bilirubin.Merged'] \\\n",
    "- 0.0096 * X_test['Prothrombin.Time..patient....Merged'] \n",
    "\n",
    "prop = 1/(1+np.exp(Lille))\n",
    "fpr, tpr, thresholds = roc_curve(y_test, prop, pos_label=1)\n",
    "\n",
    "lille_mixed = [metrics.auc(fpr, tpr)]\n",
    "        \n",
    "        "
   ]
  },
  {
   "cell_type": "code",
   "execution_count": 11,
   "metadata": {},
   "outputs": [
    {
     "data": {
      "text/plain": [
       "[0.7563199644154497]"
      ]
     },
     "execution_count": 11,
     "metadata": {},
     "output_type": "execute_result"
    }
   ],
   "source": [
    "lille_mixed"
   ]
  },
  {
   "cell_type": "code",
   "execution_count": null,
   "metadata": {},
   "outputs": [],
   "source": []
  }
 ],
 "metadata": {
  "kernelspec": {
   "display_name": "Python 3",
   "language": "python",
   "name": "python3"
  },
  "language_info": {
   "codemirror_mode": {
    "name": "ipython",
    "version": 3
   },
   "file_extension": ".py",
   "mimetype": "text/x-python",
   "name": "python",
   "nbconvert_exporter": "python",
   "pygments_lexer": "ipython3",
   "version": "3.8.5"
  }
 },
 "nbformat": 4,
 "nbformat_minor": 4
}

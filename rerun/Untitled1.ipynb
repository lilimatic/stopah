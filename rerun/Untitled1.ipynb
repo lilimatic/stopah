{
 "cells": [
  {
   "cell_type": "code",
   "execution_count": 1,
   "metadata": {},
   "outputs": [
    {
     "name": "stderr",
     "output_type": "stream",
     "text": [
      "/Users/lilimatic/opt/anaconda3/lib/python3.8/site-packages/pandas/core/computation/expressions.py:20: UserWarning: Pandas requires version '2.7.3' or newer of 'numexpr' (version '2.7.1' currently installed).\n",
      "  from pandas.core.computation.check import NUMEXPR_INSTALLED\n"
     ]
    },
    {
     "data": {
      "text/html": [
       "<div>\n",
       "<style scoped>\n",
       "    .dataframe tbody tr th:only-of-type {\n",
       "        vertical-align: middle;\n",
       "    }\n",
       "\n",
       "    .dataframe tbody tr th {\n",
       "        vertical-align: top;\n",
       "    }\n",
       "\n",
       "    .dataframe thead th {\n",
       "        text-align: right;\n",
       "    }\n",
       "</style>\n",
       "<table border=\"1\" class=\"dataframe\">\n",
       "  <thead>\n",
       "    <tr style=\"text-align: right;\">\n",
       "      <th></th>\n",
       "      <th>diff</th>\n",
       "    </tr>\n",
       "  </thead>\n",
       "  <tbody>\n",
       "    <tr>\n",
       "      <th>count</th>\n",
       "      <td>528.000000</td>\n",
       "    </tr>\n",
       "    <tr>\n",
       "      <th>mean</th>\n",
       "      <td>199.664773</td>\n",
       "    </tr>\n",
       "    <tr>\n",
       "      <th>std</th>\n",
       "      <td>252.168619</td>\n",
       "    </tr>\n",
       "    <tr>\n",
       "      <th>min</th>\n",
       "      <td>2.000000</td>\n",
       "    </tr>\n",
       "    <tr>\n",
       "      <th>25%</th>\n",
       "      <td>27.000000</td>\n",
       "    </tr>\n",
       "    <tr>\n",
       "      <th>50%</th>\n",
       "      <td>79.000000</td>\n",
       "    </tr>\n",
       "    <tr>\n",
       "      <th>75%</th>\n",
       "      <td>296.500000</td>\n",
       "    </tr>\n",
       "    <tr>\n",
       "      <th>max</th>\n",
       "      <td>1356.000000</td>\n",
       "    </tr>\n",
       "  </tbody>\n",
       "</table>\n",
       "</div>"
      ],
      "text/plain": [
       "              diff\n",
       "count   528.000000\n",
       "mean    199.664773\n",
       "std     252.168619\n",
       "min       2.000000\n",
       "25%      27.000000\n",
       "50%      79.000000\n",
       "75%     296.500000\n",
       "max    1356.000000"
      ]
     },
     "execution_count": 1,
     "metadata": {},
     "output_type": "execute_result"
    },
    {
     "data": {
      "image/png": "[encoded data removed]",
      "text/plain": [
       "<Figure size 432x288 with 1 Axes>"
      ]
     },
     "metadata": {
      "needs_background": "light"
     },
     "output_type": "display_data"
    }
   ],
   "source": [
    "import pandas as pd\n",
    "import numpy as np\n",
    "from datetime import datetime\n",
    "\n",
    "#Analysis of Death Cases \n",
    "\n",
    "df = pd.read_csv('/Users/lilimatic/stopah.csv')\n",
    "\n",
    "#treat values as NA\n",
    "for x in df.columns:\n",
    "        if len(df[df[x] == -2147483648].index) >0:\n",
    "            ix = df[df[x] == -2147483648].index\n",
    "            imp = df[[x]].loc[~df.index.isin(ix)].mean()[0]\n",
    "            df.loc[ix,x] = np.nan\n",
    "            \n",
    "date_format = \"%d/%m/%Y\"\n",
    "\n",
    "df['Initial.Admission.date'] = pd.to_datetime(df['Initial.Admission.date'], format='%d-%b-%y')\n",
    "df['Date_of_death']          = pd.to_datetime(df['Date_of_death'], format='%d/%m/%y')\n",
    "df['diff']                   = df['Date_of_death'] - df['Initial.Admission.date']\n",
    "df['diff']                   = df['diff'].dt.days\n",
    "\n",
    "df['diff'].hist()\n",
    "df[['diff']].describe()"
   ]
  },
  {
   "cell_type": "code",
   "execution_count": 22,
   "metadata": {},
   "outputs": [
    {
     "name": "stdout",
     "output_type": "stream",
     "text": [
      "Male n=668 and percentage (%):62.55\n",
      "Female n=400 and percentage (%):37.45\n"
     ]
    }
   ],
   "source": [
    "#All gender types\n",
    "df['Gender'].unique()\n",
    "\n",
    "#Number of male \n",
    "print('Male n='+str(len(df[['Gender']][df['Gender']==0])) + ' and percentage (%):' +str(round(len(df[['Gender']][df['Gender']==0])*100/len(df),2)))\n",
    "\n",
    "print('Female n='+str(len(df[['Gender']][df['Gender']==1])) + ' and percentage (%):' +str(round(len(df[['Gender']][df['Gender']==1])*100/len(df),2)))\n",
    "\n"
   ]
  },
  {
   "cell_type": "code",
   "execution_count": null,
   "metadata": {},
   "outputs": [],
   "source": []
  }
 ],
 "metadata": {
  "kernelspec": {
   "display_name": "Python 3",
   "language": "python",
   "name": "python3"
  },
  "language_info": {
   "codemirror_mode": {
    "name": "ipython",
    "version": 3
   },
   "file_extension": ".py",
   "mimetype": "text/x-python",
   "name": "python",
   "nbconvert_exporter": "python",
   "pygments_lexer": "ipython3",
   "version": "3.8.5"
  }
 },
 "nbformat": 4,
 "nbformat_minor": 4
}

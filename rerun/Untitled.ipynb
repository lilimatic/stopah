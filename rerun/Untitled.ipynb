{
 "cells": [
  {
   "cell_type": "code",
   "execution_count": null,
   "metadata": {},
   "outputs": [],
   "source": [
    "# What is needed:\n",
    "\n",
    "# Redo hot one encoding"
   ]
  },
  {
   "cell_type": "code",
   "execution_count": 1,
   "metadata": {},
   "outputs": [
    {
     "name": "stderr",
     "output_type": "stream",
     "text": [
      "/Users/lilimatic/opt/anaconda3/lib/python3.8/site-packages/pandas/core/computation/expressions.py:20: UserWarning: Pandas requires version '2.7.3' or newer of 'numexpr' (version '2.7.1' currently installed).\n",
      "  from pandas.core.computation.check import NUMEXPR_INSTALLED\n"
     ]
    }
   ],
   "source": [
    "from data import *"
   ]
  },
  {
   "cell_type": "code",
   "execution_count": 9,
   "metadata": {},
   "outputs": [],
   "source": [
    "df, X, y, X_train, X_test, y_train, y_test =  dataset('baseline',28,1,'cv',0.1,'none')"
   ]
  },
  {
   "cell_type": "code",
   "execution_count": 13,
   "metadata": {},
   "outputs": [
    {
     "data": {
      "text/plain": [
       "Gender                                         int64\n",
       "Baseline_sepsis                                int64\n",
       "Baseline_GIB                                   int64\n",
       "Age.at.randomisation..calc.                  float64\n",
       "Weight                                       float64\n",
       "Max.grams.of.alcohol.drunk.per.day..calc.    float64\n",
       "Hepatic.Encephalopathy...Merged                Int64\n",
       "Temperature...Merged                         float64\n",
       "Pulse...Merged                               float64\n",
       "Systolic.BP...Merged                         float64\n",
       "Diastolic.BP...Merged                        float64\n",
       "MAP                                          float64\n",
       "Hb...Merged                                  float64\n",
       "Platelets...Merged                           float64\n",
       "WBC...Merged                                 float64\n",
       "Neutrophils...Merged                         float64\n",
       "INR...Merged.clinical.and.calc               float64\n",
       "Bilirubin.Merged                             float64\n",
       "ALT...Merged                                 float64\n",
       "ALP...Merged                                 float64\n",
       "Albumin...Merged                             float64\n",
       "Sodium...Merged                              float64\n",
       "Potassium...Merged                           float64\n",
       "Urea...Merged                                float64\n",
       "Creatinine...Merged                          float64\n",
       "NLR_0                                        float64\n",
       "bDNA                                         float64\n",
       "Ferritin_ngml                                float64\n",
       "Iron_mumoll                                  float64\n",
       "Transferrin                                  float64\n",
       "TSAT                                         float64\n",
       "PNPLA3_Add                                   float64\n",
       "PNPLA3_Rec                                   float64\n",
       "HPCT_NG                                      float64\n",
       "D28_DTH                                        int64\n",
       "dtype: object"
      ]
     },
     "execution_count": 13,
     "metadata": {},
     "output_type": "execute_result"
    }
   ],
   "source": [
    "df.dtypes"
   ]
  },
  {
   "cell_type": "code",
   "execution_count": null,
   "metadata": {},
   "outputs": [],
   "source": []
  }
 ],
 "metadata": {
  "kernelspec": {
   "display_name": "Python 3",
   "language": "python",
   "name": "python3"
  },
  "language_info": {
   "codemirror_mode": {
    "name": "ipython",
    "version": 3
   },
   "file_extension": ".py",
   "mimetype": "text/x-python",
   "name": "python",
   "nbconvert_exporter": "python",
   "pygments_lexer": "ipython3",
   "version": "3.8.5"
  }
 },
 "nbformat": 4,
 "nbformat_minor": 4
}

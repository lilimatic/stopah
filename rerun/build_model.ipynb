{
 "cells": [
  {
   "cell_type": "code",
   "execution_count": 1,
   "metadata": {},
   "outputs": [
    {
     "name": "stderr",
     "output_type": "stream",
     "text": [
      "/Users/lilimatic/opt/anaconda3/lib/python3.8/site-packages/pandas/core/computation/expressions.py:20: UserWarning: Pandas requires version '2.7.3' or newer of 'numexpr' (version '2.7.1' currently installed).\n",
      "  from pandas.core.computation.check import NUMEXPR_INSTALLED\n"
     ]
    }
   ],
   "source": [
    "from data import *\n",
    "from ml import *\n",
    "\n",
    "#Model \n",
    "from xgboost import XGBClassifier\n",
    "\n",
    "#AUC \n",
    "from sklearn.model_selection import cross_val_score\n",
    "\n",
    "\n",
    "from sklearn.linear_model import LogisticRegression"
   ]
  },
  {
   "cell_type": "code",
   "execution_count": 2,
   "metadata": {},
   "outputs": [],
   "source": [
    "df, X,y, X, X, y, y = dataset('baseline',28,1,'cv',0.25,'none')"
   ]
  },
  {
   "cell_type": "code",
   "execution_count": 3,
   "metadata": {},
   "outputs": [],
   "source": [
    "#Include model score and logistic regression"
   ]
  },
  {
   "cell_type": "code",
   "execution_count": 4,
   "metadata": {},
   "outputs": [],
   "source": [
    "def model(model,ttype,subset,death,treatment,split,size,missing): \n",
    "    #\n",
    "    #-model: String, model to be trained: 'xgb','elasticnet','' \n",
    "    #-ttype: String, determines model to be trained \n",
    "    #-subset: String, determines subset: 'Lille','7day','Baseline','Paper'\n",
    "    #-death: Integer, 30 days or 90 days\n",
    "    #-treatment: Integer, 1 if treated and else 0\n",
    "    #-split: String, determines split: 'train-test','mixed','cv'\n",
    "    #-testsize: Float, Size of test set \n",
    "    #-missing: String, provides missingness mechanism: 'none','cc','ipw','mice'\n",
    "    #\n",
    "    # MODEL TRAINING\n",
    "    #\n",
    "    # Train XGB\n",
    "    #\n",
    "    # Read data\n",
    "    df, X, y, X_train, X_test, y_train, y_test = dataset(subset,death,treatment,split,size,missing)\n",
    "    #\n",
    "    if model == 'xgb' :\n",
    "        random_search = xgb_tuning_cv(X, y)\n",
    "        training = XGBClassifier(**random_search.best_params_,objective='binary:logistic')\n",
    "    #\n",
    "    # Train EBM\n",
    "    #\n",
    "    elif model == 'gam':\n",
    "        random_search = ebm_tuning_cv(X,y)\n",
    "        training = ExplainableBoostingClassifier(**random_search.best_params_)\n",
    "    #\n",
    "    #Model Training\n",
    "    #  \n",
    "    if ttype == 'cv':\n",
    "        #df, X,y = dataset(subset,death,treatment,split,size,missing)\n",
    "        cv_aucs = cross_val_score(training,X,y,cv=10,scoring='roc_auc')\n",
    "        #score = cross_val_score(training,X,y,cv=10,scoring='score')\n",
    "        auc = np.mean(cv_aucs)\n",
    "        \n",
    "    else:\n",
    "        #df, X, y, X_train, X_test, y_train, y_test = dataset(subset,death,treatment,split,size,missing)\n",
    "        model_fit = model.fit(X_train, y_train)\n",
    "        #score = model_fit.score(X_test, y_test)\n",
    "        auc = roc_auc_score(y_test, model_fit.predict_proba(X_test)[:, 1])\n",
    "        \n",
    "    return auc\n",
    "        \n",
    "        \n",
    "#Fix assignement of model "
   ]
  },
  {
   "cell_type": "code",
   "execution_count": null,
   "metadata": {},
   "outputs": [],
   "source": [
    "no_mis = []\n",
    "\n",
    "for d in [28,90]:\n",
    "    for x in ['xgb']: #,'gam'\n",
    "        for y in ['baseline','7day','full']:\n",
    "            print('death: '+ str(d))\n",
    "            print()\n",
    "            print('model: '+ x)\n",
    "            print('Auc')\n",
    "            print()\n",
    "            no_mis.append(model(x,'cv',y,d,1,'cv',0.25,'none'))"
   ]
  },
  {
   "cell_type": "code",
   "execution_count": null,
   "metadata": {},
   "outputs": [],
   "source": []
  },
  {
   "cell_type": "code",
   "execution_count": 9,
   "metadata": {},
   "outputs": [
    {
     "data": {
      "text/plain": [
       "[0.8145876466528641,\n",
       " 0.7530076777087646,\n",
       " 0.8669220151828847,\n",
       " 0.8033945824706693,\n",
       " 0.7522985679779158,\n",
       " 0.853798309178744,\n",
       " 0.7331059218559218,\n",
       " 0.7003228021978022,\n",
       " 0.7562164224664224,\n",
       " 0.7320619658119658,\n",
       " 0.6961393467643466,\n",
       " 0.7654410866910867]"
      ]
     },
     "execution_count": 9,
     "metadata": {},
     "output_type": "execute_result"
    }
   ],
   "source": [
    "no_mis"
   ]
  },
  {
   "cell_type": "code",
   "execution_count": 19,
   "metadata": {},
   "outputs": [],
   "source": [
    "#model('gam','cv',y,d,1,'cv',0.25,'ipw')"
   ]
  },
  {
   "cell_type": "code",
   "execution_count": 15,
   "metadata": {},
   "outputs": [
    {
     "name": "stdout",
     "output_type": "stream",
     "text": [
      "death: 28\n",
      "\n",
      "model: xgb\n",
      "Auc\n",
      "\n"
     ]
    },
    {
     "name": "stderr",
     "output_type": "stream",
     "text": [
      "/Users/lilimatic/opt/anaconda3/lib/python3.8/site-packages/sklearn/model_selection/_search.py:307: UserWarning: The total space of parameters 1 is smaller than n_iter=1000. Running 1 iterations. For exhaustive searches, use GridSearchCV.\n",
      "  warnings.warn(\n"
     ]
    },
    {
     "name": "stdout",
     "output_type": "stream",
     "text": [
      "death: 28\n",
      "\n",
      "model: xgb\n",
      "Auc\n",
      "\n"
     ]
    },
    {
     "name": "stderr",
     "output_type": "stream",
     "text": [
      "/Users/lilimatic/opt/anaconda3/lib/python3.8/site-packages/sklearn/model_selection/_search.py:307: UserWarning: The total space of parameters 1 is smaller than n_iter=1000. Running 1 iterations. For exhaustive searches, use GridSearchCV.\n",
      "  warnings.warn(\n"
     ]
    },
    {
     "name": "stdout",
     "output_type": "stream",
     "text": [
      "death: 28\n",
      "\n",
      "model: xgb\n",
      "Auc\n",
      "\n"
     ]
    },
    {
     "name": "stderr",
     "output_type": "stream",
     "text": [
      "/Users/lilimatic/opt/anaconda3/lib/python3.8/site-packages/sklearn/model_selection/_search.py:307: UserWarning: The total space of parameters 1 is smaller than n_iter=1000. Running 1 iterations. For exhaustive searches, use GridSearchCV.\n",
      "  warnings.warn(\n"
     ]
    },
    {
     "name": "stdout",
     "output_type": "stream",
     "text": [
      "death: 90\n",
      "\n",
      "model: xgb\n",
      "Auc\n",
      "\n"
     ]
    },
    {
     "name": "stderr",
     "output_type": "stream",
     "text": [
      "/Users/lilimatic/opt/anaconda3/lib/python3.8/site-packages/sklearn/model_selection/_search.py:307: UserWarning: The total space of parameters 1 is smaller than n_iter=1000. Running 1 iterations. For exhaustive searches, use GridSearchCV.\n",
      "  warnings.warn(\n"
     ]
    },
    {
     "name": "stdout",
     "output_type": "stream",
     "text": [
      "death: 90\n",
      "\n",
      "model: xgb\n",
      "Auc\n",
      "\n"
     ]
    },
    {
     "name": "stderr",
     "output_type": "stream",
     "text": [
      "/Users/lilimatic/opt/anaconda3/lib/python3.8/site-packages/sklearn/model_selection/_search.py:307: UserWarning: The total space of parameters 1 is smaller than n_iter=1000. Running 1 iterations. For exhaustive searches, use GridSearchCV.\n",
      "  warnings.warn(\n"
     ]
    },
    {
     "name": "stdout",
     "output_type": "stream",
     "text": [
      "death: 90\n",
      "\n",
      "model: xgb\n",
      "Auc\n",
      "\n"
     ]
    },
    {
     "name": "stderr",
     "output_type": "stream",
     "text": [
      "/Users/lilimatic/opt/anaconda3/lib/python3.8/site-packages/sklearn/model_selection/_search.py:307: UserWarning: The total space of parameters 1 is smaller than n_iter=1000. Running 1 iterations. For exhaustive searches, use GridSearchCV.\n",
      "  warnings.warn(\n"
     ]
    }
   ],
   "source": [
    "ipw_mis = []\n",
    "\n",
    "for d in [28,90]:\n",
    "    for x in ['xgb']:\n",
    "        for y in ['baseline','7day','full']:\n",
    "            print('death: '+ str(d))\n",
    "            print()\n",
    "            print('model: '+ x)\n",
    "            print('Auc')\n",
    "            print()\n",
    "            ipw_mis.append(model(x,'cv',y,d,1,'cv',0.25,'ipw'))"
   ]
  },
  {
   "cell_type": "code",
   "execution_count": 16,
   "metadata": {},
   "outputs": [
    {
     "data": {
      "text/plain": [
       "[0.6670329670329671,\n",
       " 0.7913866930171278,\n",
       " 0.7340277777777777,\n",
       " 0.7236645299145299,\n",
       " 0.7875751879699248,\n",
       " 0.7056547619047621]"
      ]
     },
     "execution_count": 16,
     "metadata": {},
     "output_type": "execute_result"
    }
   ],
   "source": [
    "ipw_mis"
   ]
  },
  {
   "cell_type": "code",
   "execution_count": 18,
   "metadata": {},
   "outputs": [
    {
     "name": "stdout",
     "output_type": "stream",
     "text": [
      "death: 28\n",
      "\n",
      "model: gam\n",
      "Auc\n",
      "\n"
     ]
    },
    {
     "name": "stderr",
     "output_type": "stream",
     "text": [
      "/Users/lilimatic/opt/anaconda3/lib/python3.8/site-packages/sklearn/model_selection/_validation.py:425: FitFailedWarning: \n",
      "10 fits failed out of a total of 50.\n",
      "The score on these train-test partitions for these parameters will be set to nan.\n",
      "If these failures are not expected, you can try to debug them by setting error_score='raise'.\n",
      "\n",
      "Below are more details about the failures:\n",
      "--------------------------------------------------------------------------------\n",
      "10 fits failed with the following error:\n",
      "Traceback (most recent call last):\n",
      "  File \"/Users/lilimatic/opt/anaconda3/lib/python3.8/site-packages/sklearn/model_selection/_validation.py\", line 729, in _fit_and_score\n",
      "    estimator.fit(X_train, y_train, **fit_params)\n",
      "  File \"/Users/lilimatic/opt/anaconda3/lib/python3.8/site-packages/interpret/glassbox/_ebm/_ebm.py\", line 467, in fit\n",
      "    raise ValueError(msg)\n",
      "ValueError: greediness must be a percentage between 0.0 and 1.0 inclusive\n",
      "\n",
      "  warnings.warn(some_fits_failed_message, FitFailedWarning)\n",
      "/Users/lilimatic/opt/anaconda3/lib/python3.8/site-packages/sklearn/model_selection/_search.py:979: UserWarning: One or more of the test scores are non-finite: [0.75864198 0.76851852 0.74567901 0.73395062        nan 0.75246914\n",
      "        nan 0.7191358  0.71419753 0.75925926]\n",
      "  warnings.warn(\n"
     ]
    },
    {
     "name": "stdout",
     "output_type": "stream",
     "text": [
      "death: 28\n",
      "\n",
      "model: gam\n",
      "Auc\n",
      "\n"
     ]
    },
    {
     "name": "stderr",
     "output_type": "stream",
     "text": [
      "/Users/lilimatic/opt/anaconda3/lib/python3.8/site-packages/sklearn/model_selection/_validation.py:425: FitFailedWarning: \n",
      "20 fits failed out of a total of 50.\n",
      "The score on these train-test partitions for these parameters will be set to nan.\n",
      "If these failures are not expected, you can try to debug them by setting error_score='raise'.\n",
      "\n",
      "Below are more details about the failures:\n",
      "--------------------------------------------------------------------------------\n",
      "20 fits failed with the following error:\n",
      "Traceback (most recent call last):\n",
      "  File \"/Users/lilimatic/opt/anaconda3/lib/python3.8/site-packages/sklearn/model_selection/_validation.py\", line 729, in _fit_and_score\n",
      "    estimator.fit(X_train, y_train, **fit_params)\n",
      "  File \"/Users/lilimatic/opt/anaconda3/lib/python3.8/site-packages/interpret/glassbox/_ebm/_ebm.py\", line 467, in fit\n",
      "    raise ValueError(msg)\n",
      "ValueError: greediness must be a percentage between 0.0 and 1.0 inclusive\n",
      "\n",
      "  warnings.warn(some_fits_failed_message, FitFailedWarning)\n",
      "/Users/lilimatic/opt/anaconda3/lib/python3.8/site-packages/sklearn/model_selection/_search.py:979: UserWarning: One or more of the test scores are non-finite: [       nan 0.82191378 0.78789322 0.81506494        nan 0.79123557\n",
      " 0.80861291        nan        nan 0.81406025]\n",
      "  warnings.warn(\n"
     ]
    },
    {
     "name": "stdout",
     "output_type": "stream",
     "text": [
      "death: 28\n",
      "\n",
      "model: gam\n",
      "Auc\n",
      "\n"
     ]
    },
    {
     "name": "stderr",
     "output_type": "stream",
     "text": [
      "/Users/lilimatic/opt/anaconda3/lib/python3.8/site-packages/sklearn/model_selection/_validation.py:425: FitFailedWarning: \n",
      "25 fits failed out of a total of 50.\n",
      "The score on these train-test partitions for these parameters will be set to nan.\n",
      "If these failures are not expected, you can try to debug them by setting error_score='raise'.\n",
      "\n",
      "Below are more details about the failures:\n",
      "--------------------------------------------------------------------------------\n",
      "25 fits failed with the following error:\n",
      "Traceback (most recent call last):\n",
      "  File \"/Users/lilimatic/opt/anaconda3/lib/python3.8/site-packages/sklearn/model_selection/_validation.py\", line 729, in _fit_and_score\n",
      "    estimator.fit(X_train, y_train, **fit_params)\n",
      "  File \"/Users/lilimatic/opt/anaconda3/lib/python3.8/site-packages/interpret/glassbox/_ebm/_ebm.py\", line 467, in fit\n",
      "    raise ValueError(msg)\n",
      "ValueError: greediness must be a percentage between 0.0 and 1.0 inclusive\n",
      "\n",
      "  warnings.warn(some_fits_failed_message, FitFailedWarning)\n",
      "/Users/lilimatic/opt/anaconda3/lib/python3.8/site-packages/sklearn/model_selection/_search.py:979: UserWarning: One or more of the test scores are non-finite: [0.70263889 0.675      0.59736111 0.62986111        nan        nan\n",
      "        nan        nan 0.70347222        nan]\n",
      "  warnings.warn(\n"
     ]
    },
    {
     "name": "stdout",
     "output_type": "stream",
     "text": [
      "death: 28\n",
      "\n",
      "model: xgb\n",
      "Auc\n",
      "\n"
     ]
    },
    {
     "name": "stderr",
     "output_type": "stream",
     "text": [
      "/Users/lilimatic/opt/anaconda3/lib/python3.8/site-packages/sklearn/model_selection/_search.py:307: UserWarning: The total space of parameters 1 is smaller than n_iter=1000. Running 1 iterations. For exhaustive searches, use GridSearchCV.\n",
      "  warnings.warn(\n"
     ]
    },
    {
     "name": "stdout",
     "output_type": "stream",
     "text": [
      "death: 28\n",
      "\n",
      "model: xgb\n",
      "Auc\n",
      "\n"
     ]
    },
    {
     "name": "stderr",
     "output_type": "stream",
     "text": [
      "/Users/lilimatic/opt/anaconda3/lib/python3.8/site-packages/sklearn/model_selection/_search.py:307: UserWarning: The total space of parameters 1 is smaller than n_iter=1000. Running 1 iterations. For exhaustive searches, use GridSearchCV.\n",
      "  warnings.warn(\n"
     ]
    },
    {
     "name": "stdout",
     "output_type": "stream",
     "text": [
      "death: 28\n",
      "\n",
      "model: xgb\n",
      "Auc\n",
      "\n"
     ]
    },
    {
     "name": "stderr",
     "output_type": "stream",
     "text": [
      "/Users/lilimatic/opt/anaconda3/lib/python3.8/site-packages/sklearn/model_selection/_search.py:307: UserWarning: The total space of parameters 1 is smaller than n_iter=1000. Running 1 iterations. For exhaustive searches, use GridSearchCV.\n",
      "  warnings.warn(\n"
     ]
    },
    {
     "name": "stdout",
     "output_type": "stream",
     "text": [
      "death: 90\n",
      "\n",
      "model: gam\n",
      "Auc\n",
      "\n"
     ]
    },
    {
     "name": "stderr",
     "output_type": "stream",
     "text": [
      "/Users/lilimatic/opt/anaconda3/lib/python3.8/site-packages/sklearn/model_selection/_validation.py:425: FitFailedWarning: \n",
      "20 fits failed out of a total of 50.\n",
      "The score on these train-test partitions for these parameters will be set to nan.\n",
      "If these failures are not expected, you can try to debug them by setting error_score='raise'.\n",
      "\n",
      "Below are more details about the failures:\n",
      "--------------------------------------------------------------------------------\n",
      "20 fits failed with the following error:\n",
      "Traceback (most recent call last):\n",
      "  File \"/Users/lilimatic/opt/anaconda3/lib/python3.8/site-packages/sklearn/model_selection/_validation.py\", line 729, in _fit_and_score\n",
      "    estimator.fit(X_train, y_train, **fit_params)\n",
      "  File \"/Users/lilimatic/opt/anaconda3/lib/python3.8/site-packages/interpret/glassbox/_ebm/_ebm.py\", line 467, in fit\n",
      "    raise ValueError(msg)\n",
      "ValueError: greediness must be a percentage between 0.0 and 1.0 inclusive\n",
      "\n",
      "  warnings.warn(some_fits_failed_message, FitFailedWarning)\n",
      "/Users/lilimatic/opt/anaconda3/lib/python3.8/site-packages/sklearn/model_selection/_search.py:979: UserWarning: One or more of the test scores are non-finite: [       nan        nan 0.73061111        nan 0.74294444 0.75077778\n",
      " 0.75005556        nan 0.73627778 0.74016667]\n",
      "  warnings.warn(\n"
     ]
    },
    {
     "name": "stdout",
     "output_type": "stream",
     "text": [
      "death: 90\n",
      "\n",
      "model: gam\n",
      "Auc\n",
      "\n"
     ]
    },
    {
     "name": "stderr",
     "output_type": "stream",
     "text": [
      "/Users/lilimatic/opt/anaconda3/lib/python3.8/site-packages/sklearn/model_selection/_validation.py:425: FitFailedWarning: \n",
      "30 fits failed out of a total of 50.\n",
      "The score on these train-test partitions for these parameters will be set to nan.\n",
      "If these failures are not expected, you can try to debug them by setting error_score='raise'.\n",
      "\n",
      "Below are more details about the failures:\n",
      "--------------------------------------------------------------------------------\n",
      "30 fits failed with the following error:\n",
      "Traceback (most recent call last):\n",
      "  File \"/Users/lilimatic/opt/anaconda3/lib/python3.8/site-packages/sklearn/model_selection/_validation.py\", line 729, in _fit_and_score\n",
      "    estimator.fit(X_train, y_train, **fit_params)\n",
      "  File \"/Users/lilimatic/opt/anaconda3/lib/python3.8/site-packages/interpret/glassbox/_ebm/_ebm.py\", line 467, in fit\n",
      "    raise ValueError(msg)\n",
      "ValueError: greediness must be a percentage between 0.0 and 1.0 inclusive\n",
      "\n",
      "  warnings.warn(some_fits_failed_message, FitFailedWarning)\n",
      "/Users/lilimatic/opt/anaconda3/lib/python3.8/site-packages/sklearn/model_selection/_search.py:979: UserWarning: One or more of the test scores are non-finite: [       nan 0.76359167 0.75998576 0.77212706        nan 0.75000741\n",
      "        nan        nan        nan        nan]\n",
      "  warnings.warn(\n"
     ]
    },
    {
     "name": "stdout",
     "output_type": "stream",
     "text": [
      "death: 90\n",
      "\n",
      "model: gam\n",
      "Auc\n",
      "\n"
     ]
    },
    {
     "name": "stderr",
     "output_type": "stream",
     "text": [
      "/Users/lilimatic/opt/anaconda3/lib/python3.8/site-packages/sklearn/model_selection/_validation.py:425: FitFailedWarning: \n",
      "30 fits failed out of a total of 50.\n",
      "The score on these train-test partitions for these parameters will be set to nan.\n",
      "If these failures are not expected, you can try to debug them by setting error_score='raise'.\n",
      "\n",
      "Below are more details about the failures:\n",
      "--------------------------------------------------------------------------------\n",
      "30 fits failed with the following error:\n",
      "Traceback (most recent call last):\n",
      "  File \"/Users/lilimatic/opt/anaconda3/lib/python3.8/site-packages/sklearn/model_selection/_validation.py\", line 729, in _fit_and_score\n",
      "    estimator.fit(X_train, y_train, **fit_params)\n",
      "  File \"/Users/lilimatic/opt/anaconda3/lib/python3.8/site-packages/interpret/glassbox/_ebm/_ebm.py\", line 467, in fit\n",
      "    raise ValueError(msg)\n",
      "ValueError: greediness must be a percentage between 0.0 and 1.0 inclusive\n",
      "\n",
      "  warnings.warn(some_fits_failed_message, FitFailedWarning)\n",
      "/Users/lilimatic/opt/anaconda3/lib/python3.8/site-packages/sklearn/model_selection/_search.py:979: UserWarning: One or more of the test scores are non-finite: [       nan 0.69569597        nan        nan 0.56327839 0.70540293\n",
      "        nan        nan 0.65741758        nan]\n",
      "  warnings.warn(\n"
     ]
    },
    {
     "name": "stdout",
     "output_type": "stream",
     "text": [
      "death: 90\n",
      "\n",
      "model: xgb\n",
      "Auc\n",
      "\n"
     ]
    },
    {
     "name": "stderr",
     "output_type": "stream",
     "text": [
      "/Users/lilimatic/opt/anaconda3/lib/python3.8/site-packages/sklearn/model_selection/_search.py:307: UserWarning: The total space of parameters 1 is smaller than n_iter=1000. Running 1 iterations. For exhaustive searches, use GridSearchCV.\n",
      "  warnings.warn(\n"
     ]
    },
    {
     "name": "stdout",
     "output_type": "stream",
     "text": [
      "death: 90\n",
      "\n",
      "model: xgb\n",
      "Auc\n",
      "\n"
     ]
    },
    {
     "name": "stderr",
     "output_type": "stream",
     "text": [
      "/Users/lilimatic/opt/anaconda3/lib/python3.8/site-packages/sklearn/model_selection/_search.py:307: UserWarning: The total space of parameters 1 is smaller than n_iter=1000. Running 1 iterations. For exhaustive searches, use GridSearchCV.\n",
      "  warnings.warn(\n"
     ]
    },
    {
     "name": "stdout",
     "output_type": "stream",
     "text": [
      "death: 90\n",
      "\n",
      "model: xgb\n",
      "Auc\n",
      "\n"
     ]
    },
    {
     "name": "stderr",
     "output_type": "stream",
     "text": [
      "/Users/lilimatic/opt/anaconda3/lib/python3.8/site-packages/sklearn/model_selection/_search.py:307: UserWarning: The total space of parameters 1 is smaller than n_iter=1000. Running 1 iterations. For exhaustive searches, use GridSearchCV.\n",
      "  warnings.warn(\n"
     ]
    }
   ],
   "source": [
    "cc_mis = []\n",
    "\n",
    "for d in [28,90]:\n",
    "    for x in ['gam','xgb']:\n",
    "        for y in ['baseline','7day','full']:\n",
    "            print('death: '+ str(d))\n",
    "            print()\n",
    "            print('model: '+ x)\n",
    "            print('Auc')\n",
    "            print()\n",
    "            cc_mis.append(model(x,'cv',y,d,1,'cv',0.25,'cc'))"
   ]
  },
  {
   "cell_type": "markdown",
   "metadata": {},
   "source": [
    "## Erstelle Programm "
   ]
  },
  {
   "cell_type": "markdown",
   "metadata": {},
   "source": [
    "# Tabellen erstellen\n",
    "\n",
    "1. Erstelle Tabelle für XGB, GAM, ElasticNET, Scores\n",
    "\n"
   ]
  },
  {
   "cell_type": "code",
   "execution_count": null,
   "metadata": {},
   "outputs": [
    {
     "name": "stdout",
     "output_type": "stream",
     "text": [
      "death: 28\n",
      "\n",
      "model: gam\n",
      "Auc\n",
      "\n"
     ]
    }
   ],
   "source": [
    "mice_mis = []\n",
    "\n",
    "for d in [28,90]:\n",
    "    for x in ['gam','xgb']:\n",
    "        for y in ['baseline','7day','full']:\n",
    "            print('death: '+ str(d))\n",
    "            print()\n",
    "            print('model: '+ x)\n",
    "            print('Auc')\n",
    "            print()\n",
    "            mice_mis.append(model(x,'cv',y,d,1,'cv',0.25,'mice'))"
   ]
  },
  {
   "cell_type": "code",
   "execution_count": 27,
   "metadata": {},
   "outputs": [
    {
     "data": {
      "text/plain": [
       "0.9338929279576998"
      ]
     },
     "execution_count": 27,
     "metadata": {},
     "output_type": "execute_result"
    }
   ],
   "source": [
    "#Cross-Validation\n",
    "\n",
    "np.random.seed(123)\n",
    "\n",
    "clf = XGBClassifier(**random_search.best_params_,objective='binary:logistic')\n",
    "\n",
    "cv_auc = cross_val_score(clf,X,y,cv=10,scoring='roc_auc')\n",
    "\n",
    "np.mean(cv_auc)"
   ]
  },
  {
   "cell_type": "code",
   "execution_count": 28,
   "metadata": {},
   "outputs": [],
   "source": [
    "treated   = []\n",
    "untreated = []"
   ]
  },
  {
   "cell_type": "code",
   "execution_count": 29,
   "metadata": {},
   "outputs": [
    {
     "name": "stderr",
     "output_type": "stream",
     "text": [
      "/Users/lilimatic/opt/anaconda3/lib/python3.8/site-packages/sklearn/impute/_iterative.py:800: ConvergenceWarning: [IterativeImputer] Early stopping criterion not reached.\n",
      "  warnings.warn(\n",
      "/Users/lilimatic/opt/anaconda3/lib/python3.8/site-packages/sklearn/impute/_iterative.py:800: ConvergenceWarning: [IterativeImputer] Early stopping criterion not reached.\n",
      "  warnings.warn(\n",
      "/Users/lilimatic/opt/anaconda3/lib/python3.8/site-packages/sklearn/impute/_iterative.py:800: ConvergenceWarning: [IterativeImputer] Early stopping criterion not reached.\n",
      "  warnings.warn(\n"
     ]
    }
   ],
   "source": [
    "for treat in [0,1]:\n",
    "    for sub in ['baseline','7day','full']:\n",
    "        df, X, y, X_train, X_test, y_train, y_test = dataset(sub,28,treat,'train-test',0.25,'mice')\n",
    "        cv_aucs = cross_val_score(clf,X,y,cv=10,scoring='roc_auc')\n",
    "        cv_auc = np.mean(cv_aucs)\n",
    "        if treat ==1:\n",
    "            treated.append(cv_auc)\n",
    "        else:\n",
    "            untreated.append(cv_auc)\n",
    "        \n",
    "    \n",
    "\n",
    "    "
   ]
  },
  {
   "cell_type": "code",
   "execution_count": 30,
   "metadata": {},
   "outputs": [],
   "source": [
    "table28 = pd.DataFrame({'Treated':treated ,'Untreated':untreated})"
   ]
  },
  {
   "cell_type": "code",
   "execution_count": 31,
   "metadata": {},
   "outputs": [
    {
     "data": {
      "text/html": [
       "<div>\n",
       "<style scoped>\n",
       "    .dataframe tbody tr th:only-of-type {\n",
       "        vertical-align: middle;\n",
       "    }\n",
       "\n",
       "    .dataframe tbody tr th {\n",
       "        vertical-align: top;\n",
       "    }\n",
       "\n",
       "    .dataframe thead th {\n",
       "        text-align: right;\n",
       "    }\n",
       "</style>\n",
       "<table border=\"1\" class=\"dataframe\">\n",
       "  <thead>\n",
       "    <tr style=\"text-align: right;\">\n",
       "      <th></th>\n",
       "      <th>Treated</th>\n",
       "      <th>Untreated</th>\n",
       "    </tr>\n",
       "  </thead>\n",
       "  <tbody>\n",
       "    <tr>\n",
       "      <th>0</th>\n",
       "      <td>0.823783</td>\n",
       "      <td>0.820379</td>\n",
       "    </tr>\n",
       "    <tr>\n",
       "      <th>1</th>\n",
       "      <td>0.926551</td>\n",
       "      <td>0.924925</td>\n",
       "    </tr>\n",
       "    <tr>\n",
       "      <th>2</th>\n",
       "      <td>0.857438</td>\n",
       "      <td>0.874872</td>\n",
       "    </tr>\n",
       "  </tbody>\n",
       "</table>\n",
       "</div>"
      ],
      "text/plain": [
       "    Treated  Untreated\n",
       "0  0.823783   0.820379\n",
       "1  0.926551   0.924925\n",
       "2  0.857438   0.874872"
      ]
     },
     "execution_count": 31,
     "metadata": {},
     "output_type": "execute_result"
    }
   ],
   "source": [
    "table28"
   ]
  },
  {
   "cell_type": "code",
   "execution_count": null,
   "metadata": {},
   "outputs": [],
   "source": []
  }
 ],
 "metadata": {
  "kernelspec": {
   "display_name": "Python 3",
   "language": "python",
   "name": "python3"
  },
  "language_info": {
   "codemirror_mode": {
    "name": "ipython",
    "version": 3
   },
   "file_extension": ".py",
   "mimetype": "text/x-python",
   "name": "python",
   "nbconvert_exporter": "python",
   "pygments_lexer": "ipython3",
   "version": "3.8.5"
  }
 },
 "nbformat": 4,
 "nbformat_minor": 4
}

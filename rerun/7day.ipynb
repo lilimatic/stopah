{
 "cells": [
  {
   "cell_type": "code",
   "execution_count": 1,
   "metadata": {},
   "outputs": [
    {
     "name": "stderr",
     "output_type": "stream",
     "text": [
      "/Users/lilimatic/opt/anaconda3/lib/python3.8/site-packages/pandas/core/computation/expressions.py:20: UserWarning: Pandas requires version '2.7.3' or newer of 'numexpr' (version '2.7.1' currently installed).\n",
      "  from pandas.core.computation.check import NUMEXPR_INSTALLED\n"
     ]
    }
   ],
   "source": [
    "import pandas as pd\n",
    "import numpy as np"
   ]
  },
  {
   "cell_type": "code",
   "execution_count": 2,
   "metadata": {},
   "outputs": [],
   "source": [
    "df = pd.read_csv('/Users/lilimatic/stopah.csv')\n",
    "\n",
    "#Treat values as NA\n",
    "for x in df.columns:\n",
    "    if len(df[df[x] == -2147483648].index) >0:\n",
    "        ix = df[df[x] == -2147483648].index\n",
    "        imp = df[[x]].loc[~df.index.isin(ix)].mean()[0]\n",
    "        df.loc[ix,x] = np.nan"
   ]
  },
  {
   "cell_type": "code",
   "execution_count": 3,
   "metadata": {},
   "outputs": [],
   "source": [
    "baseline = ['Gender','Baseline_sepsis','Baseline_GIB','Age.at.randomisation..calc.','Weight',\n",
    "             'Max.grams.of.alcohol.drunk.per.day..calc.','Hepatic.Encephalopathy...Merged','Temperature...Merged',\n",
    "             'Pulse...Merged','Systolic.BP...Merged','Diastolic.BP...Merged','MAP','Hb...Merged','Platelets...Merged',\n",
    "             'WBC...Merged','Neutrophils...Merged','INR...Merged.clinical.and.calc','Bilirubin.Merged','ALT...Merged',\n",
    "             'ALP...Merged','Albumin...Merged','Sodium...Merged','Potassium...Merged','Urea...Merged','Creatinine...Merged',\n",
    "             'NLR_0','bDNA','Ferritin_ngml','Iron_mumoll','Transferrin','TSAT','PNPLA3_Add','PNPLA3_Rec','HPCT_NG']\n",
    "\n",
    "baseline = sorted(baseline)"
   ]
  },
  {
   "cell_type": "code",
   "execution_count": 4,
   "metadata": {},
   "outputs": [],
   "source": [
    "df_base = df[baseline]"
   ]
  },
  {
   "cell_type": "code",
   "execution_count": 5,
   "metadata": {},
   "outputs": [],
   "source": [
    "df_col = [x.strip('...Merged') for x in list(df_base.columns)]\n",
    "\n",
    "# df_base.columns = [x.strip('...Merged') for x in list(df_base.columns)]"
   ]
  },
  {
   "cell_type": "code",
   "execution_count": 6,
   "metadata": {},
   "outputs": [
    {
     "data": {
      "text/plain": [
       "Index(['ALP...Merged', 'ALT...Merged', 'Age.at.randomisation..calc.',\n",
       "       'Albumin...Merged', 'Baseline_GIB', 'Baseline_sepsis',\n",
       "       'Bilirubin.Merged', 'Creatinine...Merged', 'Diastolic.BP...Merged',\n",
       "       'Ferritin_ngml', 'Gender', 'HPCT_NG', 'Hb...Merged',\n",
       "       'Hepatic.Encephalopathy...Merged', 'INR...Merged.clinical.and.calc',\n",
       "       'Iron_mumoll', 'MAP', 'Max.grams.of.alcohol.drunk.per.day..calc.',\n",
       "       'NLR_0', 'Neutrophils...Merged', 'PNPLA3_Add', 'PNPLA3_Rec',\n",
       "       'Platelets...Merged', 'Potassium...Merged', 'Pulse...Merged',\n",
       "       'Sodium...Merged', 'Systolic.BP...Merged', 'TSAT',\n",
       "       'Temperature...Merged', 'Transferrin', 'Urea...Merged', 'WBC...Merged',\n",
       "       'Weight', 'bDNA'],\n",
       "      dtype='object')"
      ]
     },
     "execution_count": 6,
     "metadata": {},
     "output_type": "execute_result"
    }
   ],
   "source": [
    "df_base.columns"
   ]
  },
  {
   "cell_type": "code",
   "execution_count": 7,
   "metadata": {},
   "outputs": [],
   "source": [
    "df_base.columns = [x+'.day.7' for x in df_col]"
   ]
  },
  {
   "cell_type": "code",
   "execution_count": 8,
   "metadata": {},
   "outputs": [
    {
     "data": {
      "text/plain": [
       "Index(['ALP.day.7', 'ALT.day.7', 'Age.at.randomisation..calc.day.7',\n",
       "       'Albumin.day.7', 'Baseline_GIB.day.7', 'Baseline_sepsis.day.7',\n",
       "       'Bilirubin.day.7', 'Creatinin.day.7', 'Diastolic.BP.day.7',\n",
       "       'Ferritin_ngml.day.7', 'Gen.day.7', 'HPCT_NG.day.7', 'Hb.day.7',\n",
       "       'Hepatic.Encephalopathy.day.7', 'INR...Merged.clinical.and.calc.day.7',\n",
       "       'Iron_mumoll.day.7', 'AP.day.7',\n",
       "       'ax.grams.of.alcohol.drunk.per.day..calc.day.7', 'NLR_0.day.7',\n",
       "       'Neutrophils.day.7', 'PNPLA3_A.day.7', 'PNPLA3_Rec.day.7',\n",
       "       'Platelets.day.7', 'Potassium.day.7', 'Puls.day.7', 'Sodium.day.7',\n",
       "       'Systolic.BP.day.7', 'TSAT.day.7', 'Temperatu.day.7',\n",
       "       'Transferrin.day.7', 'Urea.day.7', 'WBC.day.7', 'Weight.day.7',\n",
       "       'bDNA.day.7'],\n",
       "      dtype='object')"
      ]
     },
     "execution_count": 8,
     "metadata": {},
     "output_type": "execute_result"
    }
   ],
   "source": [
    "df_base.columns"
   ]
  },
  {
   "cell_type": "code",
   "execution_count": 20,
   "metadata": {},
   "outputs": [],
   "source": [
    "sevenday = ['Hepatic.Encephalopathy...Treatment.Day.7..','Day.7.infection',\n",
    "    'Gastrointestinal.Bleed.since.the.last.visit.Gastrointestinal.bleed...and.Choose..Treatment.Day.7..',\n",
    "    'Temperature..Treatment.Day.7..','Pulse..Treatment.Day.7..',\n",
    "    'Systolic.BP..Treatment.Day.7..','Diastolic.BP..Treatment.Day.7..','MAP..Treatment.Day.7',\n",
    "    'Hb..1.decimal.point..Haematology..Treatment.Day.7..','Platelets.day.7','WBC.day.7',\n",
    "    'Neutrophils.day.7','INR.clinical.and.calc.day.7','Bilirubin.day.7','ALT.day.7',\n",
    "    'ALP.day.7','Albumin.day.7','Sodium.day.7','Potassium.day.7','Urea.day.7','Creatinine.day.7']"
   ]
  },
  {
   "cell_type": "code",
   "execution_count": 21,
   "metadata": {},
   "outputs": [],
   "source": [
    "sevenday = sorted(sevenday)"
   ]
  },
  {
   "cell_type": "code",
   "execution_count": 25,
   "metadata": {},
   "outputs": [
    {
     "data": {
      "text/plain": [
       "Index(['ALP.day.7', 'ALT.day.7', 'Age.at.randomisation..calc.day.7',\n",
       "       'Albumin.day.7', 'Baseline_GIB.day.7', 'Baseline_sepsis.day.7',\n",
       "       'Bilirubin.day.7', 'Creatinin.day.7', 'Diastolic.BP.day.7',\n",
       "       'Ferritin_ngml.day.7', 'Gen.day.7', 'HPCT_NG.day.7', 'Hb.day.7',\n",
       "       'Hepatic.Encephalopathy.day.7', 'INR...Merged.clinical.and.calc.day.7',\n",
       "       'Iron_mumoll.day.7', 'AP.day.7',\n",
       "       'ax.grams.of.alcohol.drunk.per.day..calc.day.7', 'NLR_0.day.7',\n",
       "       'Neutrophils.day.7', 'PNPLA3_A.day.7', 'PNPLA3_Rec.day.7',\n",
       "       'Platelets.day.7', 'Potassium.day.7', 'Puls.day.7', 'Sodium.day.7',\n",
       "       'Systolic.BP.day.7', 'TSAT.day.7', 'Temperatu.day.7',\n",
       "       'Transferrin.day.7', 'Urea.day.7', 'WBC.day.7', 'Weight.day.7',\n",
       "       'bDNA.day.7'],\n",
       "      dtype='object')"
      ]
     },
     "execution_count": 25,
     "metadata": {},
     "output_type": "execute_result"
    }
   ],
   "source": [
    "df_base.columns"
   ]
  },
  {
   "cell_type": "code",
   "execution_count": 12,
   "metadata": {},
   "outputs": [],
   "source": [
    "df_sevenday = df[sevenday]"
   ]
  },
  {
   "cell_type": "code",
   "execution_count": 23,
   "metadata": {},
   "outputs": [],
   "source": [
    "df_sevenday.columns = ['ALP.day.7',\n",
    " 'ALT.day.7',\n",
    " 'Albumin.day.7',\n",
    " 'Bilirubin.day.7',\n",
    " 'Creatinine.day.7',\n",
    " 'Day.7.infection',\n",
    " 'Diastolic.BP..Treatment.Day.7..',\n",
    " 'Gastrointestinal.Bleed.since.the.last.visit.Gastrointestinal.bleed...and.Choose..Treatment.Day.7..',\n",
    " 'Hb..1.decimal.point..Haematology..Treatment.Day.7..',\n",
    " 'Hepatic.Encephalopathy...Treatment.Day.7..',\n",
    " 'INR.clinical.and.calc.day.7',\n",
    " 'MAP..Treatment.Day.7',\n",
    " 'Neutrophils.day.7',\n",
    " 'Platelets.day.7',\n",
    " 'Potassium.day.7',\n",
    " 'Pulse..Treatment.Day.7..',\n",
    " 'Sodium.day.7',\n",
    " 'Systolic.BP..Treatment.Day.7..',\n",
    " 'Temperature..Treatment.Day.7..',\n",
    " 'Urea.day.7',\n",
    " 'WBC.day.7']"
   ]
  },
  {
   "cell_type": "code",
   "execution_count": 24,
   "metadata": {},
   "outputs": [
    {
     "data": {
      "text/plain": [
       "{'ALP.day.7',\n",
       " 'ALT.day.7',\n",
       " 'Albumin.day.7',\n",
       " 'Bilirubin.day.7',\n",
       " 'Neutrophils.day.7',\n",
       " 'Platelets.day.7',\n",
       " 'Potassium.day.7',\n",
       " 'Sodium.day.7',\n",
       " 'Urea.day.7',\n",
       " 'WBC.day.7'}"
      ]
     },
     "execution_count": 24,
     "metadata": {},
     "output_type": "execute_result"
    }
   ],
   "source": [
    "set(df_base) & set(df_sevenday)"
   ]
  },
  {
   "cell_type": "code",
   "execution_count": null,
   "metadata": {},
   "outputs": [],
   "source": []
  }
 ],
 "metadata": {
  "kernelspec": {
   "display_name": "Python 3",
   "language": "python",
   "name": "python3"
  },
  "language_info": {
   "codemirror_mode": {
    "name": "ipython",
    "version": 3
   },
   "file_extension": ".py",
   "mimetype": "text/x-python",
   "name": "python",
   "nbconvert_exporter": "python",
   "pygments_lexer": "ipython3",
   "version": "3.8.5"
  }
 },
 "nbformat": 4,
 "nbformat_minor": 4
}

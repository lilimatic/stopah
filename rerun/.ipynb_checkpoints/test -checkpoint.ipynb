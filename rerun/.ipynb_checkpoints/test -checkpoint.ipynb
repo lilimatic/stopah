{
 "cells": [
  {
   "cell_type": "code",
   "execution_count": 1,
   "metadata": {},
   "outputs": [
    {
     "name": "stderr",
     "output_type": "stream",
     "text": [
      "/Users/lilimatic/opt/anaconda3/lib/python3.8/site-packages/pandas/core/computation/expressions.py:20: UserWarning: Pandas requires version '2.7.3' or newer of 'numexpr' (version '2.7.1' currently installed).\n",
      "  from pandas.core.computation.check import NUMEXPR_INSTALLED\n"
     ]
    }
   ],
   "source": [
    "from data import *"
   ]
  },
  {
   "cell_type": "code",
   "execution_count": 10,
   "metadata": {},
   "outputs": [],
   "source": [
    "df, X, y, X_train, X_test, y_train, y_test = dataset('baseline',28,1,'train-test',0.25,'cc')"
   ]
  },
  {
   "cell_type": "code",
   "execution_count": 11,
   "metadata": {},
   "outputs": [
    {
     "name": "stdout",
     "output_type": "stream",
     "text": [
      "Gender\n",
      "Baseline_sepsis\n",
      "Baseline_GIB\n",
      "Age.at.randomisation..calc.\n",
      "Weight\n",
      "Max.grams.of.alcohol.drunk.per.day..calc.\n",
      "Hepatic.Encephalopathy...Merged\n",
      "Temperature...Merged\n",
      "Pulse...Merged\n",
      "Systolic.BP...Merged\n",
      "Diastolic.BP...Merged\n",
      "MAP\n",
      "Hb...Merged\n",
      "Platelets...Merged\n",
      "WBC...Merged\n",
      "Neutrophils...Merged\n",
      "INR...Merged.clinical.and.calc\n",
      "Bilirubin.Merged\n",
      "ALT...Merged\n",
      "ALP...Merged\n",
      "Albumin...Merged\n",
      "Sodium...Merged\n",
      "Potassium...Merged\n",
      "Urea...Merged\n",
      "Creatinine...Merged\n",
      "NLR_0\n",
      "bDNA\n",
      "Ferritin_ngml\n",
      "Iron_mumoll\n",
      "Transferrin\n",
      "TSAT\n",
      "PNPLA3_Add\n",
      "PNPLA3_Rec\n",
      "HPCT_NG\n",
      "Gender_2\n",
      "Baseline_sepsis_2\n",
      "Baseline_GIB_2\n",
      "Hepatic.Encephalopathy...Merged_2\n"
     ]
    }
   ],
   "source": [
    "for x in X_test.columns:\n",
    "    print(x)"
   ]
  },
  {
   "cell_type": "code",
   "execution_count": null,
   "metadata": {},
   "outputs": [],
   "source": []
  },
  {
   "cell_type": "code",
   "execution_count": null,
   "metadata": {},
   "outputs": [],
   "source": []
  },
  {
   "cell_type": "code",
   "execution_count": null,
   "metadata": {},
   "outputs": [],
   "source": []
  },
  {
   "cell_type": "code",
   "execution_count": null,
   "metadata": {},
   "outputs": [],
   "source": []
  }
 ],
 "metadata": {
  "kernelspec": {
   "display_name": "Python 3",
   "language": "python",
   "name": "python3"
  },
  "language_info": {
   "codemirror_mode": {
    "name": "ipython",
    "version": 3
   },
   "file_extension": ".py",
   "mimetype": "text/x-python",
   "name": "python",
   "nbconvert_exporter": "python",
   "pygments_lexer": "ipython3",
   "version": "3.8.5"
  }
 },
 "nbformat": 4,
 "nbformat_minor": 4
}

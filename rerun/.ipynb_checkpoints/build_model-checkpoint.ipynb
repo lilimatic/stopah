{
 "cells": [
  {
   "cell_type": "code",
   "execution_count": 1,
   "metadata": {},
   "outputs": [
    {
     "name": "stderr",
     "output_type": "stream",
     "text": [
      "/Users/lilimatic/opt/anaconda3/lib/python3.8/site-packages/pandas/core/computation/expressions.py:20: UserWarning: Pandas requires version '2.7.3' or newer of 'numexpr' (version '2.7.1' currently installed).\n",
      "  from pandas.core.computation.check import NUMEXPR_INSTALLED\n"
     ]
    }
   ],
   "source": [
    "from data import *\n",
    "from ml import *\n",
    "\n",
    "#Model \n",
    "from xgboost import XGBClassifier\n",
    "\n",
    "#AUC \n",
    "from sklearn.model_selection import cross_val_score\n",
    "\n",
    "\n",
    "from sklearn.linear_model import LogisticRegression"
   ]
  },
  {
   "cell_type": "code",
   "execution_count": 2,
   "metadata": {},
   "outputs": [],
   "source": [
    "#Include model score and logistic regression"
   ]
  },
  {
   "cell_type": "code",
   "execution_count": 3,
   "metadata": {},
   "outputs": [],
   "source": [
    "def model(model,ttype,subset,death,treatment,split,size,missing): \n",
    "    #\n",
    "    #-model: String, model to be trained: 'xgb','elasticnet','' \n",
    "    #-ttype: String, determines model to be trained \n",
    "    #-subset: String, determines subset: 'Lille','7day','Baseline','Paper'\n",
    "    #-death: Integer, 30 days or 90 days\n",
    "    #-treatment: Integer, 1 if treated and else 0\n",
    "    #-split: String, determines split: 'train-test','mixed','cv'\n",
    "    #-testsize: Float, Size of test set \n",
    "    #-missing: String, provides missingness mechanism: 'none','cc','ipw','mice'\n",
    "    #\n",
    "    # MODEL TRAINING\n",
    "    #\n",
    "    # Train XGB\n",
    "    #\n",
    "    # Read data\n",
    "    df, X, y, X_train, X_test, y_train, y_test = dataset(subset,death,treatment,split,size,missing)\n",
    "    #\n",
    "    if model == 'xgb' :\n",
    "        random_search = xgb_tuning_cv(X, y)\n",
    "        training = XGBClassifier(**random_search.best_params_,objective='binary:logistic')\n",
    "    #\n",
    "    # Train EBM\n",
    "    #\n",
    "    elif model == 'gam':\n",
    "        random_search = ebm_tuning_cv(X,y)\n",
    "        training = ExplainableBoostingClassifier(**random_search.best_params_)\n",
    "    #\n",
    "    #Model Training\n",
    "    #  \n",
    "    if ttype == 'cv':\n",
    "        #df, X,y = dataset(subset,death,treatment,split,size,missing)\n",
    "        cv_aucs = cross_val_score(training,X,y,cv=10,scoring='roc_auc')\n",
    "        scores = cross_val_score(training,X,y,cv=10)\n",
    "        auc = np.mean(cv_aucs)\n",
    "        score = np.mean(scores)\n",
    "        \n",
    "    else:\n",
    "        #df, X, y, X_train, X_test, y_train, y_test = dataset(subset,death,treatment,split,size,missing)\n",
    "        model_fit = model.fit(X_train, y_train)\n",
    "        score = model_fit.score(X_test, y_test)\n",
    "        auc = roc_auc_score(y_test, model_fit.predict_proba(X_test)[:, 1])\n",
    "        \n",
    "    return round(auc*100,2)\n",
    "        \n",
    "        \n",
    "#Fix assignement of model "
   ]
  },
  {
   "cell_type": "code",
   "execution_count": 4,
   "metadata": {},
   "outputs": [
    {
     "name": "stdout",
     "output_type": "stream",
     "text": [
      "death: 90\n",
      "\n",
      "model: xgb\n",
      "Auc\n",
      "\n"
     ]
    },
    {
     "name": "stderr",
     "output_type": "stream",
     "text": [
      "/Users/lilimatic/opt/anaconda3/lib/python3.8/site-packages/sklearn/model_selection/_search.py:307: UserWarning: The total space of parameters 1 is smaller than n_iter=1000. Running 1 iterations. For exhaustive searches, use GridSearchCV.\n",
      "  warnings.warn(\n"
     ]
    },
    {
     "name": "stdout",
     "output_type": "stream",
     "text": [
      "death: 90\n",
      "\n",
      "model: xgb\n",
      "Auc\n",
      "\n"
     ]
    },
    {
     "name": "stderr",
     "output_type": "stream",
     "text": [
      "/Users/lilimatic/opt/anaconda3/lib/python3.8/site-packages/sklearn/model_selection/_search.py:307: UserWarning: The total space of parameters 1 is smaller than n_iter=1000. Running 1 iterations. For exhaustive searches, use GridSearchCV.\n",
      "  warnings.warn(\n"
     ]
    },
    {
     "name": "stdout",
     "output_type": "stream",
     "text": [
      "death: 90\n",
      "\n",
      "model: xgb\n",
      "Auc\n",
      "\n"
     ]
    },
    {
     "name": "stderr",
     "output_type": "stream",
     "text": [
      "/Users/lilimatic/opt/anaconda3/lib/python3.8/site-packages/sklearn/model_selection/_search.py:307: UserWarning: The total space of parameters 1 is smaller than n_iter=1000. Running 1 iterations. For exhaustive searches, use GridSearchCV.\n",
      "  warnings.warn(\n"
     ]
    }
   ],
   "source": [
    "no_mis = []\n",
    "\n",
    "for d in [90]:\n",
    "    for x in ['xgb']: #,'gam'\n",
    "        for y in ['baseline','7day','full']:\n",
    "            print('death: '+ str(d))\n",
    "            print()\n",
    "            print('model: '+ x)\n",
    "            print('Auc')\n",
    "            print()\n",
    "            no_mis.append(model(x,'cv',y,d,1,'cv',0.25,'none'))"
   ]
  },
  {
   "cell_type": "code",
   "execution_count": 5,
   "metadata": {},
   "outputs": [
    {
     "data": {
      "text/plain": [
       "[72.67, 70.98, 77.8]"
      ]
     },
     "execution_count": 5,
     "metadata": {},
     "output_type": "execute_result"
    }
   ],
   "source": [
    "no_mis"
   ]
  },
  {
   "cell_type": "code",
   "execution_count": 6,
   "metadata": {},
   "outputs": [
    {
     "name": "stderr",
     "output_type": "stream",
     "text": [
      "/Users/lilimatic/opt/anaconda3/lib/python3.8/site-packages/sklearn/model_selection/_search.py:307: UserWarning: The total space of parameters 1 is smaller than n_iter=1000. Running 1 iterations. For exhaustive searches, use GridSearchCV.\n",
      "  warnings.warn(\n",
      "/Users/lilimatic/opt/anaconda3/lib/python3.8/site-packages/sklearn/model_selection/_search.py:307: UserWarning: The total space of parameters 1 is smaller than n_iter=1000. Running 1 iterations. For exhaustive searches, use GridSearchCV.\n",
      "  warnings.warn(\n",
      "/Users/lilimatic/opt/anaconda3/lib/python3.8/site-packages/sklearn/model_selection/_search.py:307: UserWarning: The total space of parameters 1 is smaller than n_iter=1000. Running 1 iterations. For exhaustive searches, use GridSearchCV.\n",
      "  warnings.warn(\n"
     ]
    }
   ],
   "source": [
    "no_mis_ut = []\n",
    "\n",
    "for d in [90]:\n",
    "    for x in ['xgb']: #,'gam'\n",
    "        for y in ['baseline','7day','full']:\n",
    "            #print('death: '+ str(d))\n",
    "            #print()\n",
    "            #print('model: '+ x)\n",
    "            #print('Auc')\n",
    "            #print()\n",
    "            no_mis_ut.append(model(x,'cv',y,d,0,'cv',0.25,'none'))"
   ]
  },
  {
   "cell_type": "code",
   "execution_count": 7,
   "metadata": {},
   "outputs": [
    {
     "data": {
      "text/plain": [
       "[73.59, 70.85, 77.61]"
      ]
     },
     "execution_count": 7,
     "metadata": {},
     "output_type": "execute_result"
    }
   ],
   "source": [
    "no_mis_ut"
   ]
  },
  {
   "cell_type": "code",
   "execution_count": 8,
   "metadata": {},
   "outputs": [
    {
     "name": "stderr",
     "output_type": "stream",
     "text": [
      "/Users/lilimatic/opt/anaconda3/lib/python3.8/site-packages/sklearn/model_selection/_search.py:307: UserWarning: The total space of parameters 1 is smaller than n_iter=1000. Running 1 iterations. For exhaustive searches, use GridSearchCV.\n",
      "  warnings.warn(\n",
      "/Users/lilimatic/opt/anaconda3/lib/python3.8/site-packages/sklearn/model_selection/_search.py:307: UserWarning: The total space of parameters 1 is smaller than n_iter=1000. Running 1 iterations. For exhaustive searches, use GridSearchCV.\n",
      "  warnings.warn(\n",
      "/Users/lilimatic/opt/anaconda3/lib/python3.8/site-packages/sklearn/impute/_iterative.py:800: ConvergenceWarning: [IterativeImputer] Early stopping criterion not reached.\n",
      "  warnings.warn(\n",
      "/Users/lilimatic/opt/anaconda3/lib/python3.8/site-packages/sklearn/model_selection/_search.py:307: UserWarning: The total space of parameters 1 is smaller than n_iter=1000. Running 1 iterations. For exhaustive searches, use GridSearchCV.\n",
      "  warnings.warn(\n"
     ]
    },
    {
     "data": {
      "text/plain": [
       "[72.64, 89.5, 77.29]"
      ]
     },
     "execution_count": 8,
     "metadata": {},
     "output_type": "execute_result"
    }
   ],
   "source": [
    "mice_mis_t = []\n",
    "\n",
    "for d in [90]:\n",
    "    for x in ['xgb']: #,'gam'\n",
    "        for y in ['baseline','7day','full']:\n",
    "            #print('death: '+ str(d))\n",
    "            #print()\n",
    "            #print('model: '+ x)\n",
    "            #print('Auc')\n",
    "            #print()\n",
    "            mice_mis_t.append(model(x,'cv',y,d,1,'cv',0.25,'mice'))\n",
    "\n",
    "mice_mis_t "
   ]
  },
  {
   "cell_type": "code",
   "execution_count": 9,
   "metadata": {},
   "outputs": [
    {
     "name": "stderr",
     "output_type": "stream",
     "text": [
      "/Users/lilimatic/opt/anaconda3/lib/python3.8/site-packages/sklearn/impute/_iterative.py:800: ConvergenceWarning: [IterativeImputer] Early stopping criterion not reached.\n",
      "  warnings.warn(\n",
      "/Users/lilimatic/opt/anaconda3/lib/python3.8/site-packages/sklearn/model_selection/_search.py:307: UserWarning: The total space of parameters 1 is smaller than n_iter=1000. Running 1 iterations. For exhaustive searches, use GridSearchCV.\n",
      "  warnings.warn(\n",
      "/Users/lilimatic/opt/anaconda3/lib/python3.8/site-packages/sklearn/model_selection/_search.py:307: UserWarning: The total space of parameters 1 is smaller than n_iter=1000. Running 1 iterations. For exhaustive searches, use GridSearchCV.\n",
      "  warnings.warn(\n",
      "/Users/lilimatic/opt/anaconda3/lib/python3.8/site-packages/sklearn/impute/_iterative.py:800: ConvergenceWarning: [IterativeImputer] Early stopping criterion not reached.\n",
      "  warnings.warn(\n",
      "/Users/lilimatic/opt/anaconda3/lib/python3.8/site-packages/sklearn/model_selection/_search.py:307: UserWarning: The total space of parameters 1 is smaller than n_iter=1000. Running 1 iterations. For exhaustive searches, use GridSearchCV.\n",
      "  warnings.warn(\n"
     ]
    },
    {
     "data": {
      "text/plain": [
       "[73.96, 85.21, 78.97]"
      ]
     },
     "execution_count": 9,
     "metadata": {},
     "output_type": "execute_result"
    }
   ],
   "source": [
    "mice_mis_ut = []\n",
    "\n",
    "for d in [90]:\n",
    "    for x in ['xgb']: #,'gam'\n",
    "        for y in ['baseline','7day','full']:\n",
    "            #print('death: '+ str(d))\n",
    "            #print()\n",
    "            #print('model: '+ x)\n",
    "            #print('Auc')\n",
    "            #print()\n",
    "            mice_mis_ut.append(model(x,'cv',y,d,0,'cv',0.25,'mice'))\n",
    "\n",
    "mice_mis_ut "
   ]
  },
  {
   "cell_type": "code",
   "execution_count": 10,
   "metadata": {},
   "outputs": [
    {
     "name": "stderr",
     "output_type": "stream",
     "text": [
      "/Users/lilimatic/opt/anaconda3/lib/python3.8/site-packages/sklearn/model_selection/_search.py:307: UserWarning: The total space of parameters 1 is smaller than n_iter=1000. Running 1 iterations. For exhaustive searches, use GridSearchCV.\n",
      "  warnings.warn(\n",
      "/Users/lilimatic/opt/anaconda3/lib/python3.8/site-packages/sklearn/model_selection/_search.py:307: UserWarning: The total space of parameters 1 is smaller than n_iter=1000. Running 1 iterations. For exhaustive searches, use GridSearchCV.\n",
      "  warnings.warn(\n",
      "/Users/lilimatic/opt/anaconda3/lib/python3.8/site-packages/sklearn/model_selection/_search.py:307: UserWarning: The total space of parameters 1 is smaller than n_iter=1000. Running 1 iterations. For exhaustive searches, use GridSearchCV.\n",
      "  warnings.warn(\n"
     ]
    },
    {
     "data": {
      "text/plain": [
       "[67.73, 77.15, 71.85]"
      ]
     },
     "execution_count": 10,
     "metadata": {},
     "output_type": "execute_result"
    }
   ],
   "source": [
    "ipw_mis_t = []\n",
    "\n",
    "for d in [90]:\n",
    "    for x in ['xgb']: #,'gam'\n",
    "        for y in ['baseline','7day','full']:\n",
    "            #print('death: '+ str(d))\n",
    "            #print()\n",
    "            #print('model: '+ x)\n",
    "            #print('Auc')\n",
    "            #print()\n",
    "            ipw_mis_t.append(model(x,'cv',y,d,1,'cv',0.25,'ipw'))\n",
    "            \n",
    "ipw_mis_t"
   ]
  },
  {
   "cell_type": "code",
   "execution_count": 11,
   "metadata": {},
   "outputs": [
    {
     "name": "stderr",
     "output_type": "stream",
     "text": [
      "/Users/lilimatic/opt/anaconda3/lib/python3.8/site-packages/sklearn/model_selection/_search.py:307: UserWarning: The total space of parameters 1 is smaller than n_iter=1000. Running 1 iterations. For exhaustive searches, use GridSearchCV.\n",
      "  warnings.warn(\n",
      "/Users/lilimatic/opt/anaconda3/lib/python3.8/site-packages/sklearn/model_selection/_search.py:307: UserWarning: The total space of parameters 1 is smaller than n_iter=1000. Running 1 iterations. For exhaustive searches, use GridSearchCV.\n",
      "  warnings.warn(\n",
      "/Users/lilimatic/opt/anaconda3/lib/python3.8/site-packages/sklearn/model_selection/_search.py:307: UserWarning: The total space of parameters 1 is smaller than n_iter=1000. Running 1 iterations. For exhaustive searches, use GridSearchCV.\n",
      "  warnings.warn(\n"
     ]
    },
    {
     "data": {
      "text/plain": [
       "[79.75, 74.49, 76.11]"
      ]
     },
     "execution_count": 11,
     "metadata": {},
     "output_type": "execute_result"
    }
   ],
   "source": [
    "ipw_mis_ut = []\n",
    "\n",
    "for d in [90]:\n",
    "    for x in ['xgb']: #,'gam'\n",
    "        for y in ['baseline','7day','full']:\n",
    "            #print('death: '+ str(d))\n",
    "            #print()\n",
    "            #print('model: '+ x)\n",
    "            #print('Auc')\n",
    "            #print()\n",
    "            ipw_mis_ut.append(model(x,'cv',y,d,0,'cv',0.25,'ipw'))\n",
    "            \n",
    "ipw_mis_ut"
   ]
  },
  {
   "cell_type": "code",
   "execution_count": 17,
   "metadata": {},
   "outputs": [
    {
     "name": "stderr",
     "output_type": "stream",
     "text": [
      "/Users/lilimatic/opt/anaconda3/lib/python3.8/site-packages/sklearn/model_selection/_search.py:307: UserWarning: The total space of parameters 1 is smaller than n_iter=1000. Running 1 iterations. For exhaustive searches, use GridSearchCV.\n",
      "  warnings.warn(\n",
      "/Users/lilimatic/opt/anaconda3/lib/python3.8/site-packages/sklearn/model_selection/_search.py:307: UserWarning: The total space of parameters 1 is smaller than n_iter=1000. Running 1 iterations. For exhaustive searches, use GridSearchCV.\n",
      "  warnings.warn(\n",
      "/Users/lilimatic/opt/anaconda3/lib/python3.8/site-packages/sklearn/model_selection/_search.py:307: UserWarning: The total space of parameters 1 is smaller than n_iter=1000. Running 1 iterations. For exhaustive searches, use GridSearchCV.\n",
      "  warnings.warn(\n"
     ]
    },
    {
     "data": {
      "text/plain": [
       "[71.62, 77.47, 70.36]"
      ]
     },
     "execution_count": 17,
     "metadata": {},
     "output_type": "execute_result"
    }
   ],
   "source": [
    "cc_mis_t = []\n",
    "\n",
    "for d in [90]:\n",
    "    for x in ['xgb']: #,'gam'\n",
    "        for y in ['baseline','7day','full']:\n",
    "            #print('death: '+ str(d))\n",
    "            #print()\n",
    "            #print('model: '+ x)\n",
    "            #print('Auc')\n",
    "            #print()\n",
    "            cc_mis_t.append(model(x,'cv',y,d,1,'cv',0.25,'cc'))\n",
    "            \n",
    "cc_mis_t"
   ]
  },
  {
   "cell_type": "code",
   "execution_count": 16,
   "metadata": {},
   "outputs": [
    {
     "name": "stderr",
     "output_type": "stream",
     "text": [
      "/Users/lilimatic/opt/anaconda3/lib/python3.8/site-packages/sklearn/model_selection/_search.py:307: UserWarning: The total space of parameters 1 is smaller than n_iter=1000. Running 1 iterations. For exhaustive searches, use GridSearchCV.\n",
      "  warnings.warn(\n",
      "/Users/lilimatic/opt/anaconda3/lib/python3.8/site-packages/sklearn/model_selection/_search.py:307: UserWarning: The total space of parameters 1 is smaller than n_iter=1000. Running 1 iterations. For exhaustive searches, use GridSearchCV.\n",
      "  warnings.warn(\n",
      "/Users/lilimatic/opt/anaconda3/lib/python3.8/site-packages/sklearn/model_selection/_search.py:307: UserWarning: The total space of parameters 1 is smaller than n_iter=1000. Running 1 iterations. For exhaustive searches, use GridSearchCV.\n",
      "  warnings.warn(\n"
     ]
    },
    {
     "data": {
      "text/plain": [
       "[79.89, 73.91, 78.19]"
      ]
     },
     "execution_count": 16,
     "metadata": {},
     "output_type": "execute_result"
    }
   ],
   "source": [
    "cc_mis_ut = []\n",
    "\n",
    "for d in [90]:\n",
    "    for x in ['xgb']: #,'gam'\n",
    "        for y in ['baseline','7day','full']:\n",
    "            #print('death: '+ str(d))\n",
    "            #print()\n",
    "            #print('model: '+ x)\n",
    "            #print('Auc')\n",
    "            #print()\n",
    "            cc_mis_ut.append(model(x,'cv',y,d,0,'cv',0.25,'ipw'))\n",
    "            \n",
    "cc_mis_ut"
   ]
  },
  {
   "cell_type": "code",
   "execution_count": null,
   "metadata": {},
   "outputs": [],
   "source": []
  }
 ],
 "metadata": {
  "kernelspec": {
   "display_name": "Python 3",
   "language": "python",
   "name": "python3"
  },
  "language_info": {
   "codemirror_mode": {
    "name": "ipython",
    "version": 3
   },
   "file_extension": ".py",
   "mimetype": "text/x-python",
   "name": "python",
   "nbconvert_exporter": "python",
   "pygments_lexer": "ipython3",
   "version": "3.8.5"
  }
 },
 "nbformat": 4,
 "nbformat_minor": 4
}

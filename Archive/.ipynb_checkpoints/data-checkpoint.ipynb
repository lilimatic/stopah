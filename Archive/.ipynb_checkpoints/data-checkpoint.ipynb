{
 "cells": [
  {
   "cell_type": "code",
   "execution_count": 1,
   "metadata": {},
   "outputs": [
    {
     "name": "stderr",
     "output_type": "stream",
     "text": [
      "/Users/lilimatic/opt/anaconda3/lib/python3.8/site-packages/pandas/core/computation/expressions.py:20: UserWarning: Pandas requires version '2.7.3' or newer of 'numexpr' (version '2.7.1' currently installed).\n",
      "  from pandas.core.computation.check import NUMEXPR_INSTALLED\n"
     ]
    }
   ],
   "source": [
    "#Models \n",
    "from sklearn.ensemble import RandomForestClassifier\n",
    "from xgboost import XGBClassifier\n",
    "\n",
    "#Hyperparameter tuning\n",
    "from sklearn.model_selection import RandomizedSearchCV\n",
    "from sklearn.metrics import roc_auc_score\n",
    "from sklearn.utils.class_weight import compute_sample_weight\n",
    "\n",
    "import random"
   ]
  },
  {
   "cell_type": "code",
   "execution_count": 2,
   "metadata": {},
   "outputs": [],
   "source": [
    "from dfsubset import *"
   ]
  },
  {
   "cell_type": "code",
   "execution_count": 3,
   "metadata": {},
   "outputs": [],
   "source": [
    "df = pd.read_csv('stopah.csv')\n",
    "\n",
    "df, X, y, X_train, X_test, y_train, y_test = dataset(df,'Lille','yes','cc','train-test',0.25)"
   ]
  },
  {
   "cell_type": "code",
   "execution_count": 4,
   "metadata": {},
   "outputs": [],
   "source": [
    "def xgb_tuning(X_train, y_train):\n",
    "    param_dist = {\n",
    "    'max_depth': [random.randint(3, 10)],\n",
    "    'learning_rate': [random.uniform(0.01, 0.1)],\n",
    "    'subsample': [random.uniform(0.5, 0.5)],\n",
    "    'n_estimators':[random.randint(50, 200)]}\n",
    "    \n",
    "    #5 Fold Cross-validation \n",
    "    xgb_model = XGBClassifier(objective='binary:logistic')\n",
    "    random_search = RandomizedSearchCV(xgb_model, param_distributions=param_dist, n_iter=1000, cv=5,scoring='roc_auc')\n",
    "    random_search.fit(X_train, y_train)\n",
    "    print(\"Best score: \", random_search.best_score_)\n",
    "    return random_search"
   ]
  },
  {
   "cell_type": "code",
   "execution_count": 5,
   "metadata": {},
   "outputs": [],
   "source": [
    "subset = ['baseline','7day','Lille','full']"
   ]
  },
  {
   "cell_type": "code",
   "execution_count": 12,
   "metadata": {},
   "outputs": [
    {
     "name": "stdout",
     "output_type": "stream",
     "text": [
      "baseline\n"
     ]
    },
    {
     "name": "stderr",
     "output_type": "stream",
     "text": [
      "/Users/lilimatic/opt/anaconda3/lib/python3.8/site-packages/sklearn/model_selection/_search.py:307: UserWarning: The total space of parameters 1 is smaller than n_iter=1000. Running 1 iterations. For exhaustive searches, use GridSearchCV.\n",
      "  warnings.warn(\n"
     ]
    },
    {
     "name": "stdout",
     "output_type": "stream",
     "text": [
      "Best score:  0.7679012345679013\n",
      "7day\n"
     ]
    },
    {
     "name": "stderr",
     "output_type": "stream",
     "text": [
      "/Users/lilimatic/opt/anaconda3/lib/python3.8/site-packages/sklearn/model_selection/_search.py:307: UserWarning: The total space of parameters 1 is smaller than n_iter=1000. Running 1 iterations. For exhaustive searches, use GridSearchCV.\n",
      "  warnings.warn(\n"
     ]
    },
    {
     "name": "stdout",
     "output_type": "stream",
     "text": [
      "Best score:  0.8216810966810966\n",
      "Lille\n"
     ]
    },
    {
     "name": "stderr",
     "output_type": "stream",
     "text": [
      "/Users/lilimatic/opt/anaconda3/lib/python3.8/site-packages/sklearn/model_selection/_search.py:307: UserWarning: The total space of parameters 1 is smaller than n_iter=1000. Running 1 iterations. For exhaustive searches, use GridSearchCV.\n",
      "  warnings.warn(\n"
     ]
    },
    {
     "name": "stdout",
     "output_type": "stream",
     "text": [
      "Best score:  0.6438084549195661\n",
      "full\n"
     ]
    },
    {
     "name": "stderr",
     "output_type": "stream",
     "text": [
      "/Users/lilimatic/opt/anaconda3/lib/python3.8/site-packages/sklearn/model_selection/_search.py:307: UserWarning: The total space of parameters 1 is smaller than n_iter=1000. Running 1 iterations. For exhaustive searches, use GridSearchCV.\n",
      "  warnings.warn(\n"
     ]
    },
    {
     "name": "stdout",
     "output_type": "stream",
     "text": [
      "Best score:  0.7558333333333334\n",
      "baseline\n"
     ]
    },
    {
     "name": "stderr",
     "output_type": "stream",
     "text": [
      "/Users/lilimatic/opt/anaconda3/lib/python3.8/site-packages/sklearn/model_selection/_search.py:307: UserWarning: The total space of parameters 1 is smaller than n_iter=1000. Running 1 iterations. For exhaustive searches, use GridSearchCV.\n",
      "  warnings.warn(\n"
     ]
    },
    {
     "name": "stdout",
     "output_type": "stream",
     "text": [
      "Best score:  0.8264666666666667\n",
      "7day\n"
     ]
    },
    {
     "name": "stderr",
     "output_type": "stream",
     "text": [
      "/Users/lilimatic/opt/anaconda3/lib/python3.8/site-packages/sklearn/model_selection/_search.py:307: UserWarning: The total space of parameters 1 is smaller than n_iter=1000. Running 1 iterations. For exhaustive searches, use GridSearchCV.\n",
      "  warnings.warn(\n"
     ]
    },
    {
     "name": "stdout",
     "output_type": "stream",
     "text": [
      "Best score:  0.8620096371882087\n",
      "Lille\n"
     ]
    },
    {
     "name": "stderr",
     "output_type": "stream",
     "text": [
      "/Users/lilimatic/opt/anaconda3/lib/python3.8/site-packages/sklearn/model_selection/_search.py:307: UserWarning: The total space of parameters 1 is smaller than n_iter=1000. Running 1 iterations. For exhaustive searches, use GridSearchCV.\n",
      "  warnings.warn(\n"
     ]
    },
    {
     "name": "stdout",
     "output_type": "stream",
     "text": [
      "Best score:  0.6354280747501087\n",
      "full\n"
     ]
    },
    {
     "name": "stderr",
     "output_type": "stream",
     "text": [
      "/Users/lilimatic/opt/anaconda3/lib/python3.8/site-packages/sklearn/model_selection/_search.py:307: UserWarning: The total space of parameters 1 is smaller than n_iter=1000. Running 1 iterations. For exhaustive searches, use GridSearchCV.\n",
      "  warnings.warn(\n"
     ]
    },
    {
     "name": "stdout",
     "output_type": "stream",
     "text": [
      "Best score:  0.8775828460038987\n"
     ]
    }
   ],
   "source": [
    "score_yes = []\n",
    "auc_yes = []\n",
    "score_no = []\n",
    "auc_no = []\n",
    "\n",
    "for t in ['yes','no']:\n",
    "    for s in subset:\n",
    "        print(s)\n",
    "    #read into subset \n",
    "    \n",
    "        df = pd.read_csv('stopah.csv')\n",
    "        df, X, y, X_train, X_test, y_train, y_test = dataset(df,s,t,'cc','train-test',0.3)\n",
    "        \n",
    "        \n",
    "    #Hyperparameter tuning\n",
    "        random_search = xgb_tuning(X, y)\n",
    "        xgb = XGBClassifier(**random_search.best_params_,objective='binary:logistic')\n",
    "        xgb.fit(X_train, y_train)\n",
    "       \n",
    "    #AUC and Accuracy\n",
    "    \n",
    "        pred_prob = xgb.predict_proba(X_test)\n",
    "        auc_score = roc_auc_score(y_test, pred_prob[:,1])\n",
    "        #print(auc_score)\n",
    "        if t == 'yes':\n",
    "            score_yes.append(round(xgb.score(X_test,y_test)*100,2))\n",
    "            auc_yes.append(round(auc_score*100,2))\n",
    "        elif t== 'no':\n",
    "            score_no.append(round(xgb.score(X_test,y_test)*100,2))\n",
    "            auc_no.append(round(auc_score*100,2))"
   ]
  },
  {
   "cell_type": "code",
   "execution_count": 13,
   "metadata": {},
   "outputs": [
    {
     "name": "stderr",
     "output_type": "stream",
     "text": [
      "/Users/lilimatic/opt/anaconda3/lib/python3.8/site-packages/sklearn/model_selection/_search.py:307: UserWarning: The total space of parameters 1 is smaller than n_iter=1000. Running 1 iterations. For exhaustive searches, use GridSearchCV.\n",
      "  warnings.warn(\n"
     ]
    },
    {
     "name": "stdout",
     "output_type": "stream",
     "text": [
      "Best score:  0.8157711161387631\n"
     ]
    },
    {
     "name": "stderr",
     "output_type": "stream",
     "text": [
      "/Users/lilimatic/opt/anaconda3/lib/python3.8/site-packages/sklearn/model_selection/_search.py:307: UserWarning: The total space of parameters 1 is smaller than n_iter=1000. Running 1 iterations. For exhaustive searches, use GridSearchCV.\n",
      "  warnings.warn(\n"
     ]
    },
    {
     "name": "stdout",
     "output_type": "stream",
     "text": [
      "Best score:  0.8603904241861466\n"
     ]
    },
    {
     "name": "stderr",
     "output_type": "stream",
     "text": [
      "/Users/lilimatic/opt/anaconda3/lib/python3.8/site-packages/sklearn/model_selection/_search.py:307: UserWarning: The total space of parameters 1 is smaller than n_iter=1000. Running 1 iterations. For exhaustive searches, use GridSearchCV.\n",
      "  warnings.warn(\n"
     ]
    },
    {
     "name": "stdout",
     "output_type": "stream",
     "text": [
      "Best score:  0.6712745301990154\n"
     ]
    },
    {
     "name": "stderr",
     "output_type": "stream",
     "text": [
      "/Users/lilimatic/opt/anaconda3/lib/python3.8/site-packages/sklearn/model_selection/_search.py:307: UserWarning: The total space of parameters 1 is smaller than n_iter=1000. Running 1 iterations. For exhaustive searches, use GridSearchCV.\n",
      "  warnings.warn(\n"
     ]
    },
    {
     "name": "stdout",
     "output_type": "stream",
     "text": [
      "Best score:  0.8431016042780748\n"
     ]
    }
   ],
   "source": [
    "score_mixed = []\n",
    "auc_mixed = []\n",
    "\n",
    "for s in subset:\n",
    "        df = pd.read_csv('stopah.csv')\n",
    "        df, X, y, X_train, X_test, y_train, y_test = dataset(df,s,'none','cc','mixed',0.3)\n",
    "        \n",
    "    #Hyperparameter tuning\n",
    "        random_search = xgb_tuning(X, y)\n",
    "        xgb = XGBClassifier(**random_search.best_params_,objective='binary:logistic')\n",
    "        xgb.fit(X_train, y_train)\n",
    "       \n",
    "    #AUC and Accuracy\n",
    "    \n",
    "        pred_prob = xgb.predict_proba(X_test)\n",
    "        auc_score = roc_auc_score(y_test, pred_prob[:,1])\n",
    "\n",
    "        score_mixed.append(round(xgb.score(X_test,y_test)*100,2))\n",
    "        auc_mixed.append(round(auc_score*100,2))\n",
    "       "
   ]
  },
  {
   "cell_type": "code",
   "execution_count": 14,
   "metadata": {},
   "outputs": [],
   "source": [
    "results = pd.DataFrame({'Subset':subset,\n",
    "                        'Treated AUC':auc_yes,\n",
    "                        'Untreated AUC':auc_no,\n",
    "                        'Cross AUC': auc_mixed,\n",
    "                        'Treated Score':score_yes,\n",
    "                        'Untreated Score':score_no,\n",
    "                        'Mixed Score': auc_mixed\n",
    "                       })"
   ]
  },
  {
   "cell_type": "code",
   "execution_count": 15,
   "metadata": {},
   "outputs": [
    {
     "data": {
      "text/html": [
       "<div>\n",
       "<style scoped>\n",
       "    .dataframe tbody tr th:only-of-type {\n",
       "        vertical-align: middle;\n",
       "    }\n",
       "\n",
       "    .dataframe tbody tr th {\n",
       "        vertical-align: top;\n",
       "    }\n",
       "\n",
       "    .dataframe thead th {\n",
       "        text-align: right;\n",
       "    }\n",
       "</style>\n",
       "<table border=\"1\" class=\"dataframe\">\n",
       "  <thead>\n",
       "    <tr style=\"text-align: right;\">\n",
       "      <th></th>\n",
       "      <th>Subset</th>\n",
       "      <th>Treated AUC</th>\n",
       "      <th>Untreated AUC</th>\n",
       "      <th>Cross AUC</th>\n",
       "      <th>Treated Score</th>\n",
       "      <th>Untreated Score</th>\n",
       "      <th>Mixed Score</th>\n",
       "    </tr>\n",
       "  </thead>\n",
       "  <tbody>\n",
       "    <tr>\n",
       "      <th>0</th>\n",
       "      <td>baseline</td>\n",
       "      <td>89.92</td>\n",
       "      <td>70.73</td>\n",
       "      <td>79.39</td>\n",
       "      <td>93.48</td>\n",
       "      <td>86.67</td>\n",
       "      <td>79.39</td>\n",
       "    </tr>\n",
       "    <tr>\n",
       "      <th>1</th>\n",
       "      <td>7day</td>\n",
       "      <td>78.83</td>\n",
       "      <td>85.92</td>\n",
       "      <td>81.42</td>\n",
       "      <td>88.46</td>\n",
       "      <td>89.66</td>\n",
       "      <td>81.42</td>\n",
       "    </tr>\n",
       "    <tr>\n",
       "      <th>2</th>\n",
       "      <td>Lille</td>\n",
       "      <td>69.22</td>\n",
       "      <td>69.16</td>\n",
       "      <td>72.82</td>\n",
       "      <td>87.50</td>\n",
       "      <td>81.65</td>\n",
       "      <td>72.82</td>\n",
       "    </tr>\n",
       "    <tr>\n",
       "      <th>3</th>\n",
       "      <td>full</td>\n",
       "      <td>91.67</td>\n",
       "      <td>81.50</td>\n",
       "      <td>84.77</td>\n",
       "      <td>88.89</td>\n",
       "      <td>78.79</td>\n",
       "      <td>84.77</td>\n",
       "    </tr>\n",
       "  </tbody>\n",
       "</table>\n",
       "</div>"
      ],
      "text/plain": [
       "     Subset  Treated AUC  Untreated AUC  Cross AUC  Treated Score  \\\n",
       "0  baseline        89.92          70.73      79.39          93.48   \n",
       "1      7day        78.83          85.92      81.42          88.46   \n",
       "2     Lille        69.22          69.16      72.82          87.50   \n",
       "3      full        91.67          81.50      84.77          88.89   \n",
       "\n",
       "   Untreated Score  Mixed Score  \n",
       "0            86.67        79.39  \n",
       "1            89.66        81.42  \n",
       "2            81.65        72.82  \n",
       "3            78.79        84.77  "
      ]
     },
     "execution_count": 15,
     "metadata": {},
     "output_type": "execute_result"
    }
   ],
   "source": [
    "results"
   ]
  },
  {
   "cell_type": "code",
   "execution_count": null,
   "metadata": {},
   "outputs": [],
   "source": []
  }
 ],
 "metadata": {
  "kernelspec": {
   "display_name": "Python 3",
   "language": "python",
   "name": "python3"
  },
  "language_info": {
   "codemirror_mode": {
    "name": "ipython",
    "version": 3
   },
   "file_extension": ".py",
   "mimetype": "text/x-python",
   "name": "python",
   "nbconvert_exporter": "python",
   "pygments_lexer": "ipython3",
   "version": "3.8.5"
  }
 },
 "nbformat": 4,
 "nbformat_minor": 4
}
